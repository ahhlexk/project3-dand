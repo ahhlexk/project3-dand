{
 "cells": [
  {
   "cell_type": "markdown",
   "metadata": {},
   "source": [
    "## Analyze A/B Test Results\n",
    "\n",
    "This project will assure you have mastered the subjects covered in the statistics lessons.  The hope is to have this project be as comprehensive of these topics as possible.  Good luck!\n",
    "\n",
    "## Table of Contents\n",
    "- [Introduction](#intro)\n",
    "- [Part I - Probability](#probability)\n",
    "- [Part II - A/B Test](#ab_test)\n",
    "- [Part III - Regression](#regression)\n",
    "\n",
    "\n",
    "<a id='intro'></a>\n",
    "### Introduction\n",
    "\n",
    "A/B tests are very commonly performed by data analysts and data scientists.  It is important that you get some practice working with the difficulties of these \n",
    "\n",
    "For this project, you will be working to understand the results of an A/B test run by an e-commerce website.  Your goal is to work through this notebook to help the company understand if they should implement the new page, keep the old page, or perhaps run the experiment longer to make their decision.\n",
    "\n",
    "**As you work through this notebook, follow along in the classroom and answer the corresponding quiz questions associated with each question.** The labels for each classroom concept are provided for each question.  This will assure you are on the right track as you work through the project, and you can feel more confident in your final submission meeting the criteria.  As a final check, assure you meet all the criteria on the [RUBRIC](https://review.udacity.com/#!/projects/37e27304-ad47-4eb0-a1ab-8c12f60e43d0/rubric).\n",
    "\n",
    "<a id='probability'></a>\n",
    "#### Part I - Probability\n",
    "\n",
    "To get started, let's import our libraries."
   ]
  },
  {
   "cell_type": "code",
   "execution_count": 1,
   "metadata": {},
   "outputs": [],
   "source": [
    "import pandas as pd\n",
    "import numpy as np\n",
    "import random\n",
    "import matplotlib.pyplot as plt\n",
    "%matplotlib inline\n",
    "#We are setting the seed to assure you get the same answers on quizzes as we set up\n",
    "random.seed(42)"
   ]
  },
  {
   "cell_type": "markdown",
   "metadata": {},
   "source": [
    "`1.` Now, read in the `ab_data.csv` data. Store it in `df`.  **Use your dataframe to answer the questions in Quiz 1 of the classroom.**\n",
    "\n",
    "a. Read in the dataset and take a look at the top few rows here:"
   ]
  },
  {
   "cell_type": "code",
   "execution_count": 2,
   "metadata": {},
   "outputs": [
    {
     "data": {
      "text/html": [
       "<div>\n",
       "<style scoped>\n",
       "    .dataframe tbody tr th:only-of-type {\n",
       "        vertical-align: middle;\n",
       "    }\n",
       "\n",
       "    .dataframe tbody tr th {\n",
       "        vertical-align: top;\n",
       "    }\n",
       "\n",
       "    .dataframe thead th {\n",
       "        text-align: right;\n",
       "    }\n",
       "</style>\n",
       "<table border=\"1\" class=\"dataframe\">\n",
       "  <thead>\n",
       "    <tr style=\"text-align: right;\">\n",
       "      <th></th>\n",
       "      <th>user_id</th>\n",
       "      <th>timestamp</th>\n",
       "      <th>group</th>\n",
       "      <th>landing_page</th>\n",
       "      <th>converted</th>\n",
       "    </tr>\n",
       "  </thead>\n",
       "  <tbody>\n",
       "    <tr>\n",
       "      <th>0</th>\n",
       "      <td>851104</td>\n",
       "      <td>2017-01-21 22:11:48.556739</td>\n",
       "      <td>control</td>\n",
       "      <td>old_page</td>\n",
       "      <td>0</td>\n",
       "    </tr>\n",
       "    <tr>\n",
       "      <th>1</th>\n",
       "      <td>804228</td>\n",
       "      <td>2017-01-12 08:01:45.159739</td>\n",
       "      <td>control</td>\n",
       "      <td>old_page</td>\n",
       "      <td>0</td>\n",
       "    </tr>\n",
       "    <tr>\n",
       "      <th>2</th>\n",
       "      <td>661590</td>\n",
       "      <td>2017-01-11 16:55:06.154213</td>\n",
       "      <td>treatment</td>\n",
       "      <td>new_page</td>\n",
       "      <td>0</td>\n",
       "    </tr>\n",
       "    <tr>\n",
       "      <th>3</th>\n",
       "      <td>853541</td>\n",
       "      <td>2017-01-08 18:28:03.143765</td>\n",
       "      <td>treatment</td>\n",
       "      <td>new_page</td>\n",
       "      <td>0</td>\n",
       "    </tr>\n",
       "    <tr>\n",
       "      <th>4</th>\n",
       "      <td>864975</td>\n",
       "      <td>2017-01-21 01:52:26.210827</td>\n",
       "      <td>control</td>\n",
       "      <td>old_page</td>\n",
       "      <td>1</td>\n",
       "    </tr>\n",
       "  </tbody>\n",
       "</table>\n",
       "</div>"
      ],
      "text/plain": [
       "   user_id                   timestamp      group landing_page  converted\n",
       "0   851104  2017-01-21 22:11:48.556739    control     old_page          0\n",
       "1   804228  2017-01-12 08:01:45.159739    control     old_page          0\n",
       "2   661590  2017-01-11 16:55:06.154213  treatment     new_page          0\n",
       "3   853541  2017-01-08 18:28:03.143765  treatment     new_page          0\n",
       "4   864975  2017-01-21 01:52:26.210827    control     old_page          1"
      ]
     },
     "execution_count": 2,
     "metadata": {},
     "output_type": "execute_result"
    }
   ],
   "source": [
    "df = pd.read_csv('./ab_data.csv') #read the ab_data file\n",
    "df.head() #ensure the file loaded into df"
   ]
  },
  {
   "cell_type": "markdown",
   "metadata": {},
   "source": [
    "b. Use the below cell to find the number of rows in the dataset."
   ]
  },
  {
   "cell_type": "code",
   "execution_count": 3,
   "metadata": {},
   "outputs": [
    {
     "data": {
      "text/plain": [
       "294478"
      ]
     },
     "execution_count": 3,
     "metadata": {},
     "output_type": "execute_result"
    }
   ],
   "source": [
    "df.shape[0] #find the number of rows"
   ]
  },
  {
   "cell_type": "markdown",
   "metadata": {},
   "source": [
    "c. The number of unique users in the dataset."
   ]
  },
  {
   "cell_type": "code",
   "execution_count": 4,
   "metadata": {},
   "outputs": [
    {
     "data": {
      "text/plain": [
       "290584"
      ]
     },
     "execution_count": 4,
     "metadata": {},
     "output_type": "execute_result"
    }
   ],
   "source": [
    "df['user_id'].nunique() #find unique values for user_id column"
   ]
  },
  {
   "cell_type": "markdown",
   "metadata": {
    "collapsed": true
   },
   "source": [
    "d. The proportion of users converted."
   ]
  },
  {
   "cell_type": "code",
   "execution_count": 5,
   "metadata": {},
   "outputs": [
    {
     "data": {
      "text/plain": [
       "0.11965919355605512"
      ]
     },
     "execution_count": 5,
     "metadata": {},
     "output_type": "execute_result"
    }
   ],
   "source": [
    "df['converted'].mean() #proportion of users converted"
   ]
  },
  {
   "cell_type": "markdown",
   "metadata": {
    "collapsed": true
   },
   "source": [
    "e. The number of times the `new_page` and `treatment` don't line up."
   ]
  },
  {
   "cell_type": "code",
   "execution_count": 6,
   "metadata": {},
   "outputs": [
    {
     "data": {
      "text/plain": [
       "3893"
      ]
     },
     "execution_count": 6,
     "metadata": {},
     "output_type": "execute_result"
    }
   ],
   "source": [
    "#\n",
    "df.query('group == \"treatment\" and landing_page != \"new_page\"').count()['user_id'] + df.query('group != \"treatment\" and landing_page == \"new_page\"').count()['user_id']"
   ]
  },
  {
   "cell_type": "markdown",
   "metadata": {},
   "source": [
    "f. Do any of the rows have missing values?"
   ]
  },
  {
   "cell_type": "code",
   "execution_count": 7,
   "metadata": {},
   "outputs": [
    {
     "name": "stdout",
     "output_type": "stream",
     "text": [
      "<class 'pandas.core.frame.DataFrame'>\n",
      "RangeIndex: 294478 entries, 0 to 294477\n",
      "Data columns (total 5 columns):\n",
      "user_id         294478 non-null int64\n",
      "timestamp       294478 non-null object\n",
      "group           294478 non-null object\n",
      "landing_page    294478 non-null object\n",
      "converted       294478 non-null int64\n",
      "dtypes: int64(2), object(3)\n",
      "memory usage: 11.2+ MB\n"
     ]
    }
   ],
   "source": [
    "df.info() #check if any of the rows have missing values"
   ]
  },
  {
   "cell_type": "markdown",
   "metadata": {},
   "source": [
    "`2.` For the rows where **treatment** is not aligned with **new_page** or **control** is not aligned with **old_page**, we cannot be sure if this row truly received the new or old page.  Use **Quiz 2** in the classroom to provide how we should handle these rows.  \n",
    "\n",
    "a. Now use the answer to the quiz to create a new dataset that meets the specifications from the quiz.  Store your new dataframe in **df2**."
   ]
  },
  {
   "cell_type": "code",
   "execution_count": 8,
   "metadata": {},
   "outputs": [
    {
     "data": {
      "text/plain": [
       "290585"
      ]
     },
     "execution_count": 8,
     "metadata": {},
     "output_type": "execute_result"
    }
   ],
   "source": [
    "df2 = df.query('(group==\"treatment\" and landing_page==\"new_page\") or (group==\"control\" and landing_page==\"old_page\")')\n",
    "df2.head()\n",
    "df2.shape[0]"
   ]
  },
  {
   "cell_type": "code",
   "execution_count": 9,
   "metadata": {},
   "outputs": [
    {
     "data": {
      "text/plain": [
       "0"
      ]
     },
     "execution_count": 9,
     "metadata": {},
     "output_type": "execute_result"
    }
   ],
   "source": [
    "# Double Check all of the correct rows were removed - this should be 0\n",
    "df2[((df2['group'] == 'treatment') == (df2['landing_page'] == 'new_page')) == False].shape[0]"
   ]
  },
  {
   "cell_type": "markdown",
   "metadata": {},
   "source": [
    "`3.` Use **df2** and the cells below to answer questions for **Quiz3** in the classroom."
   ]
  },
  {
   "cell_type": "markdown",
   "metadata": {},
   "source": [
    "a. How many unique **user_id**s are in **df2**?"
   ]
  },
  {
   "cell_type": "code",
   "execution_count": 10,
   "metadata": {},
   "outputs": [
    {
     "data": {
      "text/plain": [
       "290584"
      ]
     },
     "execution_count": 10,
     "metadata": {},
     "output_type": "execute_result"
    }
   ],
   "source": [
    "df2['user_id'].nunique() #use nunique on the df to get the count of unique values"
   ]
  },
  {
   "cell_type": "markdown",
   "metadata": {
    "collapsed": true
   },
   "source": [
    "b. There is one **user_id** repeated in **df2**.  What is it?"
   ]
  },
  {
   "cell_type": "code",
   "execution_count": 11,
   "metadata": {},
   "outputs": [
    {
     "data": {
      "text/html": [
       "<div>\n",
       "<style scoped>\n",
       "    .dataframe tbody tr th:only-of-type {\n",
       "        vertical-align: middle;\n",
       "    }\n",
       "\n",
       "    .dataframe tbody tr th {\n",
       "        vertical-align: top;\n",
       "    }\n",
       "\n",
       "    .dataframe thead th {\n",
       "        text-align: right;\n",
       "    }\n",
       "</style>\n",
       "<table border=\"1\" class=\"dataframe\">\n",
       "  <thead>\n",
       "    <tr style=\"text-align: right;\">\n",
       "      <th></th>\n",
       "      <th>user_id</th>\n",
       "      <th>timestamp</th>\n",
       "      <th>group</th>\n",
       "      <th>landing_page</th>\n",
       "      <th>converted</th>\n",
       "    </tr>\n",
       "  </thead>\n",
       "  <tbody>\n",
       "    <tr>\n",
       "      <th>2893</th>\n",
       "      <td>773192</td>\n",
       "      <td>2017-01-14 02:55:59.590927</td>\n",
       "      <td>treatment</td>\n",
       "      <td>new_page</td>\n",
       "      <td>0</td>\n",
       "    </tr>\n",
       "  </tbody>\n",
       "</table>\n",
       "</div>"
      ],
      "text/plain": [
       "      user_id                   timestamp      group landing_page  converted\n",
       "2893   773192  2017-01-14 02:55:59.590927  treatment     new_page          0"
      ]
     },
     "execution_count": 11,
     "metadata": {},
     "output_type": "execute_result"
    }
   ],
   "source": [
    "df2[df2['user_id'].duplicated()] #find the duplicated user_id using duplicated"
   ]
  },
  {
   "cell_type": "markdown",
   "metadata": {},
   "source": [
    "c. What is the row information for the repeat **user_id**? "
   ]
  },
  {
   "cell_type": "code",
   "execution_count": 12,
   "metadata": {},
   "outputs": [
    {
     "data": {
      "text/html": [
       "<div>\n",
       "<style scoped>\n",
       "    .dataframe tbody tr th:only-of-type {\n",
       "        vertical-align: middle;\n",
       "    }\n",
       "\n",
       "    .dataframe tbody tr th {\n",
       "        vertical-align: top;\n",
       "    }\n",
       "\n",
       "    .dataframe thead th {\n",
       "        text-align: right;\n",
       "    }\n",
       "</style>\n",
       "<table border=\"1\" class=\"dataframe\">\n",
       "  <thead>\n",
       "    <tr style=\"text-align: right;\">\n",
       "      <th></th>\n",
       "      <th>user_id</th>\n",
       "      <th>timestamp</th>\n",
       "      <th>group</th>\n",
       "      <th>landing_page</th>\n",
       "      <th>converted</th>\n",
       "    </tr>\n",
       "  </thead>\n",
       "  <tbody>\n",
       "    <tr>\n",
       "      <th>1899</th>\n",
       "      <td>773192</td>\n",
       "      <td>2017-01-09 05:37:58.781806</td>\n",
       "      <td>treatment</td>\n",
       "      <td>new_page</td>\n",
       "      <td>0</td>\n",
       "    </tr>\n",
       "    <tr>\n",
       "      <th>2893</th>\n",
       "      <td>773192</td>\n",
       "      <td>2017-01-14 02:55:59.590927</td>\n",
       "      <td>treatment</td>\n",
       "      <td>new_page</td>\n",
       "      <td>0</td>\n",
       "    </tr>\n",
       "  </tbody>\n",
       "</table>\n",
       "</div>"
      ],
      "text/plain": [
       "      user_id                   timestamp      group landing_page  converted\n",
       "1899   773192  2017-01-09 05:37:58.781806  treatment     new_page          0\n",
       "2893   773192  2017-01-14 02:55:59.590927  treatment     new_page          0"
      ]
     },
     "execution_count": 12,
     "metadata": {},
     "output_type": "execute_result"
    }
   ],
   "source": [
    "df2.query('user_id == 773192') #use query to ensure rows with the same user_id are duplicates"
   ]
  },
  {
   "cell_type": "markdown",
   "metadata": {},
   "source": [
    "d. Remove **one** of the rows with a duplicate **user_id**, but keep your dataframe as **df2**."
   ]
  },
  {
   "cell_type": "code",
   "execution_count": 13,
   "metadata": {},
   "outputs": [
    {
     "name": "stderr",
     "output_type": "stream",
     "text": [
      "/Users/ajkim/anaconda3/lib/python3.7/site-packages/ipykernel_launcher.py:1: SettingWithCopyWarning: \n",
      "A value is trying to be set on a copy of a slice from a DataFrame\n",
      "\n",
      "See the caveats in the documentation: http://pandas.pydata.org/pandas-docs/stable/indexing.html#indexing-view-versus-copy\n",
      "  \"\"\"Entry point for launching an IPython kernel.\n"
     ]
    },
    {
     "data": {
      "text/html": [
       "<div>\n",
       "<style scoped>\n",
       "    .dataframe tbody tr th:only-of-type {\n",
       "        vertical-align: middle;\n",
       "    }\n",
       "\n",
       "    .dataframe tbody tr th {\n",
       "        vertical-align: top;\n",
       "    }\n",
       "\n",
       "    .dataframe thead th {\n",
       "        text-align: right;\n",
       "    }\n",
       "</style>\n",
       "<table border=\"1\" class=\"dataframe\">\n",
       "  <thead>\n",
       "    <tr style=\"text-align: right;\">\n",
       "      <th></th>\n",
       "      <th>user_id</th>\n",
       "      <th>timestamp</th>\n",
       "      <th>group</th>\n",
       "      <th>landing_page</th>\n",
       "      <th>converted</th>\n",
       "    </tr>\n",
       "  </thead>\n",
       "  <tbody>\n",
       "    <tr>\n",
       "      <th>0</th>\n",
       "      <td>851104</td>\n",
       "      <td>2017-01-21 22:11:48.556739</td>\n",
       "      <td>control</td>\n",
       "      <td>old_page</td>\n",
       "      <td>0</td>\n",
       "    </tr>\n",
       "    <tr>\n",
       "      <th>1</th>\n",
       "      <td>804228</td>\n",
       "      <td>2017-01-12 08:01:45.159739</td>\n",
       "      <td>control</td>\n",
       "      <td>old_page</td>\n",
       "      <td>0</td>\n",
       "    </tr>\n",
       "    <tr>\n",
       "      <th>2</th>\n",
       "      <td>661590</td>\n",
       "      <td>2017-01-11 16:55:06.154213</td>\n",
       "      <td>treatment</td>\n",
       "      <td>new_page</td>\n",
       "      <td>0</td>\n",
       "    </tr>\n",
       "    <tr>\n",
       "      <th>3</th>\n",
       "      <td>853541</td>\n",
       "      <td>2017-01-08 18:28:03.143765</td>\n",
       "      <td>treatment</td>\n",
       "      <td>new_page</td>\n",
       "      <td>0</td>\n",
       "    </tr>\n",
       "    <tr>\n",
       "      <th>4</th>\n",
       "      <td>864975</td>\n",
       "      <td>2017-01-21 01:52:26.210827</td>\n",
       "      <td>control</td>\n",
       "      <td>old_page</td>\n",
       "      <td>1</td>\n",
       "    </tr>\n",
       "  </tbody>\n",
       "</table>\n",
       "</div>"
      ],
      "text/plain": [
       "   user_id                   timestamp      group landing_page  converted\n",
       "0   851104  2017-01-21 22:11:48.556739    control     old_page          0\n",
       "1   804228  2017-01-12 08:01:45.159739    control     old_page          0\n",
       "2   661590  2017-01-11 16:55:06.154213  treatment     new_page          0\n",
       "3   853541  2017-01-08 18:28:03.143765  treatment     new_page          0\n",
       "4   864975  2017-01-21 01:52:26.210827    control     old_page          1"
      ]
     },
     "execution_count": 13,
     "metadata": {},
     "output_type": "execute_result"
    }
   ],
   "source": [
    "df2.drop_duplicates('user_id', inplace=True) #drop duplicates from user_id column and keep in same df\n",
    "df2.head() #check df is intact"
   ]
  },
  {
   "cell_type": "code",
   "execution_count": 14,
   "metadata": {},
   "outputs": [
    {
     "data": {
      "text/html": [
       "<div>\n",
       "<style scoped>\n",
       "    .dataframe tbody tr th:only-of-type {\n",
       "        vertical-align: middle;\n",
       "    }\n",
       "\n",
       "    .dataframe tbody tr th {\n",
       "        vertical-align: top;\n",
       "    }\n",
       "\n",
       "    .dataframe thead th {\n",
       "        text-align: right;\n",
       "    }\n",
       "</style>\n",
       "<table border=\"1\" class=\"dataframe\">\n",
       "  <thead>\n",
       "    <tr style=\"text-align: right;\">\n",
       "      <th></th>\n",
       "      <th>user_id</th>\n",
       "      <th>timestamp</th>\n",
       "      <th>group</th>\n",
       "      <th>landing_page</th>\n",
       "      <th>converted</th>\n",
       "    </tr>\n",
       "  </thead>\n",
       "  <tbody>\n",
       "  </tbody>\n",
       "</table>\n",
       "</div>"
      ],
      "text/plain": [
       "Empty DataFrame\n",
       "Columns: [user_id, timestamp, group, landing_page, converted]\n",
       "Index: []"
      ]
     },
     "execution_count": 14,
     "metadata": {},
     "output_type": "execute_result"
    }
   ],
   "source": [
    "df2[df2['user_id'].duplicated()] #ensure duplicates are removed"
   ]
  },
  {
   "cell_type": "markdown",
   "metadata": {},
   "source": [
    "`4.` Use **df2** in the below cells to answer the quiz questions related to **Quiz 4** in the classroom.\n",
    "\n",
    "a. What is the probability of an individual converting regardless of the page they receive?"
   ]
  },
  {
   "cell_type": "code",
   "execution_count": 15,
   "metadata": {},
   "outputs": [
    {
     "data": {
      "text/plain": [
       "0.11959708724499628"
      ]
     },
     "execution_count": 15,
     "metadata": {},
     "output_type": "execute_result"
    }
   ],
   "source": [
    "df2['converted'].mean() #find the proportion of the converted column"
   ]
  },
  {
   "cell_type": "markdown",
   "metadata": {},
   "source": [
    "b. Given that an individual was in the `control` group, what is the probability they converted?"
   ]
  },
  {
   "cell_type": "code",
   "execution_count": 16,
   "metadata": {},
   "outputs": [
    {
     "data": {
      "text/plain": [
       "0.1203863045004612"
      ]
     },
     "execution_count": 16,
     "metadata": {},
     "output_type": "execute_result"
    }
   ],
   "source": [
    "df2.query('group == \"control\"').converted.mean() #use query to filter individuals in control group and find the proportion of the converted column"
   ]
  },
  {
   "cell_type": "markdown",
   "metadata": {},
   "source": [
    "c. Given that an individual was in the `treatment` group, what is the probability they converted?"
   ]
  },
  {
   "cell_type": "code",
   "execution_count": 17,
   "metadata": {},
   "outputs": [
    {
     "data": {
      "text/plain": [
       "0.11880806551510564"
      ]
     },
     "execution_count": 17,
     "metadata": {},
     "output_type": "execute_result"
    }
   ],
   "source": [
    "df2.query('group == \"treatment\"').converted.mean() #use query to filter individuals in treatment group and find the proportion of the converted column"
   ]
  },
  {
   "cell_type": "markdown",
   "metadata": {},
   "source": [
    "d. What is the probability that an individual received the new page?"
   ]
  },
  {
   "cell_type": "code",
   "execution_count": 18,
   "metadata": {},
   "outputs": [
    {
     "data": {
      "text/plain": [
       "0.5000619442226688"
      ]
     },
     "execution_count": 18,
     "metadata": {},
     "output_type": "execute_result"
    }
   ],
   "source": [
    "#get the count of users who got the new page using df.query then divide by the total number in df2 to get the probability\n",
    "df2.query('landing_page ==\"new_page\"').count()['user_id'] / df2.shape[0]"
   ]
  },
  {
   "cell_type": "markdown",
   "metadata": {},
   "source": [
    "e. Consider your results from a. through d. above, and explain below whether you think there is sufficient evidence to say that the new treatment page leads to more conversions."
   ]
  },
  {
   "cell_type": "markdown",
   "metadata": {},
   "source": [
    "**Based on the proportions above, there isn't enough evidence to say that the new treatment page leads to more conversions.**"
   ]
  },
  {
   "cell_type": "markdown",
   "metadata": {},
   "source": [
    "<a id='ab_test'></a>\n",
    "### Part II - A/B Test\n",
    "\n",
    "Notice that because of the time stamp associated with each event, you could technically run a hypothesis test continuously as each observation was observed.  \n",
    "\n",
    "However, then the hard question is do you stop as soon as one page is considered significantly better than another or does it need to happen consistently for a certain amount of time?  How long do you run to render a decision that neither page is better than another?  \n",
    "\n",
    "These questions are the difficult parts associated with A/B tests in general.  \n",
    "\n",
    "\n",
    "`1.` For now, consider you need to make the decision just based on all the data provided.  If you want to assume that the old page is better unless the new page proves to be definitely better at a Type I error rate of 5%, what should your null and alternative hypotheses be?  You can state your hypothesis in terms of words or in terms of **$p_{old}$** and **$p_{new}$**, which are the converted rates for the old and new pages."
   ]
  },
  {
   "cell_type": "markdown",
   "metadata": {},
   "source": [
    "**The alternative hypothesis should be that the conversion rate of the new page is definitely better than the conversion rate of the old. Which makes the null hypothesis stating that the new page is worse or the same as the old conversion rate.**\n",
    "\n",
    "$$H_0: p_{new} - p_{old} \\leq 0$$\n",
    "\n",
    "\n",
    "$$H_1: p_{new} - p_{old} > 0$$"
   ]
  },
  {
   "cell_type": "markdown",
   "metadata": {},
   "source": [
    "`2.` Assume under the null hypothesis, $p_{new}$ and $p_{old}$ both have \"true\" success rates equal to the **converted** success rate regardless of page - that is $p_{new}$ and $p_{old}$ are equal. Furthermore, assume they are equal to the **converted** rate in **ab_data.csv** regardless of the page. <br><br>\n",
    "\n",
    "Use a sample size for each page equal to the ones in **ab_data.csv**.  <br><br>\n",
    "\n",
    "Perform the sampling distribution for the difference in **converted** between the two pages over 10,000 iterations of calculating an estimate from the null.  <br><br>\n",
    "\n",
    "Use the cells below to provide the necessary parts of this simulation.  If this doesn't make complete sense right now, don't worry - you are going to work through the problems below to complete this problem.  You can use **Quiz 5** in the classroom to make sure you are on the right track.<br><br>"
   ]
  },
  {
   "cell_type": "code",
   "execution_count": 19,
   "metadata": {},
   "outputs": [
    {
     "data": {
      "text/html": [
       "<div>\n",
       "<style scoped>\n",
       "    .dataframe tbody tr th:only-of-type {\n",
       "        vertical-align: middle;\n",
       "    }\n",
       "\n",
       "    .dataframe tbody tr th {\n",
       "        vertical-align: top;\n",
       "    }\n",
       "\n",
       "    .dataframe thead th {\n",
       "        text-align: right;\n",
       "    }\n",
       "</style>\n",
       "<table border=\"1\" class=\"dataframe\">\n",
       "  <thead>\n",
       "    <tr style=\"text-align: right;\">\n",
       "      <th></th>\n",
       "      <th>user_id</th>\n",
       "      <th>timestamp</th>\n",
       "      <th>group</th>\n",
       "      <th>landing_page</th>\n",
       "      <th>converted</th>\n",
       "    </tr>\n",
       "  </thead>\n",
       "  <tbody>\n",
       "    <tr>\n",
       "      <th>0</th>\n",
       "      <td>851104</td>\n",
       "      <td>2017-01-21 22:11:48.556739</td>\n",
       "      <td>control</td>\n",
       "      <td>old_page</td>\n",
       "      <td>0</td>\n",
       "    </tr>\n",
       "    <tr>\n",
       "      <th>1</th>\n",
       "      <td>804228</td>\n",
       "      <td>2017-01-12 08:01:45.159739</td>\n",
       "      <td>control</td>\n",
       "      <td>old_page</td>\n",
       "      <td>0</td>\n",
       "    </tr>\n",
       "    <tr>\n",
       "      <th>2</th>\n",
       "      <td>661590</td>\n",
       "      <td>2017-01-11 16:55:06.154213</td>\n",
       "      <td>treatment</td>\n",
       "      <td>new_page</td>\n",
       "      <td>0</td>\n",
       "    </tr>\n",
       "    <tr>\n",
       "      <th>3</th>\n",
       "      <td>853541</td>\n",
       "      <td>2017-01-08 18:28:03.143765</td>\n",
       "      <td>treatment</td>\n",
       "      <td>new_page</td>\n",
       "      <td>0</td>\n",
       "    </tr>\n",
       "    <tr>\n",
       "      <th>4</th>\n",
       "      <td>864975</td>\n",
       "      <td>2017-01-21 01:52:26.210827</td>\n",
       "      <td>control</td>\n",
       "      <td>old_page</td>\n",
       "      <td>1</td>\n",
       "    </tr>\n",
       "  </tbody>\n",
       "</table>\n",
       "</div>"
      ],
      "text/plain": [
       "   user_id                   timestamp      group landing_page  converted\n",
       "0   851104  2017-01-21 22:11:48.556739    control     old_page          0\n",
       "1   804228  2017-01-12 08:01:45.159739    control     old_page          0\n",
       "2   661590  2017-01-11 16:55:06.154213  treatment     new_page          0\n",
       "3   853541  2017-01-08 18:28:03.143765  treatment     new_page          0\n",
       "4   864975  2017-01-21 01:52:26.210827    control     old_page          1"
      ]
     },
     "execution_count": 19,
     "metadata": {},
     "output_type": "execute_result"
    }
   ],
   "source": [
    "df_ab = pd.read_csv('./ab_data.csv') #create a new df using the ab_data file\n",
    "df_ab.head() #check to make sure it loads properly"
   ]
  },
  {
   "cell_type": "code",
   "execution_count": 20,
   "metadata": {},
   "outputs": [],
   "source": [
    "#we can only trust when treatment aligns with new page and control aligns with old page. use query and create a new df.\n",
    "df2_ab = df_ab.query('(group==\"treatment\" and landing_page==\"new_page\") or (group==\"control\" and landing_page==\"old_page\")')"
   ]
  },
  {
   "cell_type": "code",
   "execution_count": 21,
   "metadata": {},
   "outputs": [
    {
     "data": {
      "text/plain": [
       "(290584, 290585)"
      ]
     },
     "execution_count": 21,
     "metadata": {},
     "output_type": "execute_result"
    }
   ],
   "source": [
    "df2_ab['user_id'].nunique(), df2_ab.shape[0] #get the number of unique values for user_id and the number of total rows"
   ]
  },
  {
   "cell_type": "code",
   "execution_count": 22,
   "metadata": {},
   "outputs": [
    {
     "name": "stderr",
     "output_type": "stream",
     "text": [
      "/Users/ajkim/anaconda3/lib/python3.7/site-packages/ipykernel_launcher.py:2: SettingWithCopyWarning: \n",
      "A value is trying to be set on a copy of a slice from a DataFrame\n",
      "\n",
      "See the caveats in the documentation: http://pandas.pydata.org/pandas-docs/stable/indexing.html#indexing-view-versus-copy\n",
      "  \n"
     ]
    },
    {
     "data": {
      "text/plain": [
       "(290584, 290584)"
      ]
     },
     "execution_count": 22,
     "metadata": {},
     "output_type": "execute_result"
    }
   ],
   "source": [
    "#remove the duplicates and get the number of unique user_ids and number of rows to verify\n",
    "df2_ab.drop_duplicates('user_id', inplace=True)\n",
    "df2_ab['user_id'].nunique(), df2_ab.shape[0]"
   ]
  },
  {
   "cell_type": "markdown",
   "metadata": {},
   "source": [
    "a. What is the **convert rate** for $p_{new}$ under the null? "
   ]
  },
  {
   "cell_type": "code",
   "execution_count": 23,
   "metadata": {},
   "outputs": [
    {
     "data": {
      "text/plain": [
       "0.11959708724499628"
      ]
     },
     "execution_count": 23,
     "metadata": {},
     "output_type": "execute_result"
    }
   ],
   "source": [
    "df2_ab['converted'].mean() #get the converted rate on the new df"
   ]
  },
  {
   "cell_type": "markdown",
   "metadata": {},
   "source": [
    "b. What is the **convert rate** for $p_{old}$ under the null? <br><br>"
   ]
  },
  {
   "cell_type": "code",
   "execution_count": 24,
   "metadata": {},
   "outputs": [
    {
     "data": {
      "text/plain": [
       "0.11959708724499628"
      ]
     },
     "execution_count": 24,
     "metadata": {},
     "output_type": "execute_result"
    }
   ],
   "source": [
    "df2_ab['converted'].mean() #converted rate is the same for old and new per question 2"
   ]
  },
  {
   "cell_type": "markdown",
   "metadata": {},
   "source": [
    "c. What is $n_{new}$?"
   ]
  },
  {
   "cell_type": "code",
   "execution_count": 25,
   "metadata": {},
   "outputs": [
    {
     "data": {
      "text/plain": [
       "145310"
      ]
     },
     "execution_count": 25,
     "metadata": {},
     "output_type": "execute_result"
    }
   ],
   "source": [
    "df2_ab.query('landing_page == \"new_page\"').count()['user_id'] #get the count of users who got the new page"
   ]
  },
  {
   "cell_type": "markdown",
   "metadata": {},
   "source": [
    "d. What is $n_{old}$?"
   ]
  },
  {
   "cell_type": "code",
   "execution_count": 26,
   "metadata": {},
   "outputs": [
    {
     "data": {
      "text/plain": [
       "147239"
      ]
     },
     "execution_count": 26,
     "metadata": {},
     "output_type": "execute_result"
    }
   ],
   "source": [
    "df_ab.query('landing_page == \"old_page\"').count()['user_id'] #get the count of users who got the old page"
   ]
  },
  {
   "cell_type": "markdown",
   "metadata": {},
   "source": [
    "e. Simulate $n_{new}$ transactions with a convert rate of $p_{new}$ under the null.  Store these $n_{new}$ 1's and 0's in **new_page_converted**."
   ]
  },
  {
   "cell_type": "code",
   "execution_count": 27,
   "metadata": {},
   "outputs": [
    {
     "data": {
      "text/plain": [
       "array([1, 1, 1, ..., 1, 1, 1])"
      ]
     },
     "execution_count": 27,
     "metadata": {},
     "output_type": "execute_result"
    }
   ],
   "source": [
    "n_new = df2_ab.query('landing_page == \"new_page\"').count()['user_id'] #store the n_new count in a variable\n",
    "p_new = df2_ab['converted'].mean() #store the p_new in a variable\n",
    "\n",
    "new_page_converted = np.random.choice([0,1],n_new,p=(p_new,1-p_new)) \n",
    "#use np.random.choice to populate the array using the n_new as the number of transactions and the probability of p_new \n",
    "new_page_converted #verify the array is populated \n",
    "\n"
   ]
  },
  {
   "cell_type": "markdown",
   "metadata": {},
   "source": [
    "f. Simulate $n_{old}$ transactions with a convert rate of $p_{old}$ under the null.  Store these $n_{old}$ 1's and 0's in **old_page_converted**."
   ]
  },
  {
   "cell_type": "code",
   "execution_count": 28,
   "metadata": {},
   "outputs": [
    {
     "data": {
      "text/plain": [
       "array([1, 1, 1, ..., 1, 1, 1])"
      ]
     },
     "execution_count": 28,
     "metadata": {},
     "output_type": "execute_result"
    }
   ],
   "source": [
    "n_old = df2_ab.query('landing_page == \"old_page\"').count()['user_id'] #store the n_old count in a variable\n",
    "p_old = df2_ab['converted'].mean() #store the p_old in a variable\n",
    "\n",
    "old_page_converted = np.random.choice([0,1],n_old,p=(p_old,1-p_old)) \n",
    "#use np.random.choice to populate the array using the n_old as the number of transactions and the probability of p_old \n",
    "old_page_converted #verify the array is populated \n"
   ]
  },
  {
   "cell_type": "markdown",
   "metadata": {},
   "source": [
    "g. Find $p_{new}$ - $p_{old}$ for your simulated values from part (e) and (f)."
   ]
  },
  {
   "cell_type": "code",
   "execution_count": 29,
   "metadata": {},
   "outputs": [
    {
     "data": {
      "text/plain": [
       "0.0006079406396271025"
      ]
     },
     "execution_count": 29,
     "metadata": {},
     "output_type": "execute_result"
    }
   ],
   "source": [
    "obs_diff = new_page_converted.mean() - old_page_converted.mean() #find the proportion of each and then find the difference\n",
    "obs_diff #verify"
   ]
  },
  {
   "cell_type": "markdown",
   "metadata": {},
   "source": [
    "h. Simulate 10,000 $p_{new}$ - $p_{old}$ values using this same process similarly to the one you calculated in parts **a. through g.** above.  Store all 10,000 values in a numpy array called **p_diffs**."
   ]
  },
  {
   "cell_type": "code",
   "execution_count": 30,
   "metadata": {},
   "outputs": [],
   "source": [
    "p_diffs = [] #create the p_diffs array\n",
    "\n",
    "for _ in range(10000): #10000 sample size\n",
    "    bootsamp = df2_ab.sample(200, replace = True) #bootstrapping sampling technique\n",
    "    boot_n_old = bootsamp.query('landing_page == \"old_page\"').count()['user_id'] #store the count of users on the old page from the bootsample\n",
    "    boot_n_new = bootsamp.query('landing_page == \"new_page\"').count()['user_id'] #store the count of users on the new page from the bootsample\n",
    "    boot_p = bootsamp['converted'].mean() #store the probability of converted users from teh bootsample\n",
    "    boot_new_page = np.random.choice([0,1],boot_n_new,p=(boot_p,1-boot_p)) #simulate transactions based on new page numbers calculated above\n",
    "    boot_old_page = np.random.choice([0,1],boot_n_old,p=(boot_p,1-boot_p)) #simulate transactions based on old page numbers calculated above\n",
    "    p_diffs.append(boot_new_page.mean() - boot_old_page.mean()) #append the difference in proportions from the two simulations above"
   ]
  },
  {
   "cell_type": "code",
   "execution_count": 31,
   "metadata": {},
   "outputs": [
    {
     "data": {
      "text/plain": [
       "[0.01691522370133125,\n",
       " 0.0025062656641603454,\n",
       " 0.04267310789049916,\n",
       " 0.05984654731457795,\n",
       " -0.06582633053221287,\n",
       " -0.001600160016001606,\n",
       " 0.10000000000000009,\n",
       " -0.03205128205128205,\n",
       " 0.03860386038603858,\n",
       " -0.02472113355441663,\n",
       " -0.012019230769230727,\n",
       " 0.009747764043814722,\n",
       " 0.06978653530377665,\n",
       " -0.01625853071055794,\n",
       " 0.011255150236157196,\n",
       " 0.06400966183574874,\n",
       " 0.01754385964912275,\n",
       " -0.028282828282828243,\n",
       " -0.0038015206082433473,\n",
       " -0.07106395756180561,\n",
       " -0.04949494949494948,\n",
       " 0.0020163322915616178,\n",
       " -0.009090909090909038,\n",
       " -0.02482162596723947,\n",
       " -0.023591087811271394,\n",
       " 0.015206082432973167,\n",
       " -0.035588972431077726,\n",
       " -0.0005012531328321135,\n",
       " -0.03409090909090906,\n",
       " -0.008454106280193163,\n",
       " 0.004511278195488688,\n",
       " -0.07450146775989475,\n",
       " 0.06999999999999995,\n",
       " 0.03541416566626643,\n",
       " -0.02472113355441663,\n",
       " 0.00795593635250924,\n",
       " -0.029783761729906155,\n",
       " -0.0728569992965531,\n",
       " 0.0019017115403864304,\n",
       " -0.004166666666666652,\n",
       " -0.01631468321489349,\n",
       " 0.07777777777777772,\n",
       " 0.09190919091909189,\n",
       " -0.10464764593204956,\n",
       " 0.059294871794871806,\n",
       " -0.03409090909090906,\n",
       " -0.02323232323232327,\n",
       " 0.009233239662785997,\n",
       " 0.010025062656641603,\n",
       " 0.05964912280701751,\n",
       " 0.020000000000000018,\n",
       " 0.038461538461538436,\n",
       " -0.03205128205128205,\n",
       " -0.06523484544359692,\n",
       " 0.047304730473047285,\n",
       " 0.05422168867547017,\n",
       " -0.02083333333333337,\n",
       " -0.0696969696969697,\n",
       " -0.08012820512820507,\n",
       " -0.03623848567668797,\n",
       " 0.030911280610196767,\n",
       " -0.025491770373343936,\n",
       " 0.028846153846153855,\n",
       " 0.02228020875150538,\n",
       " 0.017042606516290748,\n",
       " -0.028502609393817768,\n",
       " 0.03162846561905719,\n",
       " -0.03050983540746688,\n",
       " -0.011610449404464096,\n",
       " 0.1544617847138856,\n",
       " -0.044417767106842754,\n",
       " -0.026723786209710276,\n",
       " 0.02254428341384862,\n",
       " -0.06926233610249222,\n",
       " 0.07442977190876354,\n",
       " 0.01509587923296607,\n",
       " -0.003030303030302939,\n",
       " -0.026023421078971154,\n",
       " -0.0005024620641141953,\n",
       " 0.011674718196457268,\n",
       " 0.005242463958060384,\n",
       " -0.03131313131313129,\n",
       " 0.017206882753101338,\n",
       " 0.04086538461538458,\n",
       " -0.015151515151515138,\n",
       " 0.050000000000000044,\n",
       " 0.1084976478830948,\n",
       " 0.013260451462698719,\n",
       " -0.010000000000000009,\n",
       " 0.008856682769726287,\n",
       " -0.07295749170937593,\n",
       " 0.07971014492753614,\n",
       " 0.05213032581453636,\n",
       " -0.0020128824476650653,\n",
       " -0.04664197778000201,\n",
       " -0.05716302046577271,\n",
       " 0.004006410256410242,\n",
       " 0.041937743969572616,\n",
       " -0.03250325032503254,\n",
       " 0.02355889724310778,\n",
       " -0.013247691690084329,\n",
       " -0.023885989562424714,\n",
       " 0.015856777493606145,\n",
       " 0.007561246093356178,\n",
       " -0.053708439897698135,\n",
       " 0.02690269026902692,\n",
       " -0.00441589723002811,\n",
       " 0.0546491842658392,\n",
       " 0.050983540746688094,\n",
       " -0.03699875981810674,\n",
       " 0.07064616621445075,\n",
       " 0.032765399737876844,\n",
       " 0.01083902047370533,\n",
       " -0.027224502051846677,\n",
       " -0.049944729172947455,\n",
       " -0.027702770277027722,\n",
       " 0.012820512820512775,\n",
       " 0.026702670267026773,\n",
       " 0.06971153846153844,\n",
       " -0.08793086121997784,\n",
       " -0.020875150541950993,\n",
       " 0.10303030303030303,\n",
       " -0.025610244097639012,\n",
       " 0.019517565809228365,\n",
       " 0.03659147869674184,\n",
       " 0.04597701149425282,\n",
       " -0.02706766917293235,\n",
       " 0.01102756892230572,\n",
       " -0.009211458649660886,\n",
       " 0.014405762304921965,\n",
       " -0.04802955665024633,\n",
       " -0.01068050045773572,\n",
       " -0.015714142728455616,\n",
       " -0.04395824969891615,\n",
       " -0.033430087078370585,\n",
       " 0.028180354267310692,\n",
       " -0.010000000000000009,\n",
       " -0.03621448579431774,\n",
       " -0.02163461538461542,\n",
       " 0.045569109789293294,\n",
       " 0.025610244097639012,\n",
       " -0.026598465473145816,\n",
       " 0.030849884060893284,\n",
       " -0.057605760576057596,\n",
       " -0.06833484071952567,\n",
       " 0.06168831168831168,\n",
       " 0.06730769230769229,\n",
       " 0.003007518796992459,\n",
       " 0.01602564102564108,\n",
       " 0.0040584415584415945,\n",
       " 0.0328525641025641,\n",
       " -0.03069053708439895,\n",
       " -0.03232323232323231,\n",
       " -0.010025062656641603,\n",
       " -0.00380038003800387,\n",
       " 0.004807692307692291,\n",
       " -0.001909355843633831,\n",
       " 0.007536930961712374,\n",
       " -0.038596491228070184,\n",
       " 0.0035087719298245723,\n",
       " -0.09009740259740251,\n",
       " -0.07291666666666663,\n",
       " -0.021830913397178464,\n",
       " 0.02420968387354938,\n",
       " -0.045454545454545414,\n",
       " 0.058710395789047465,\n",
       " -0.020000000000000018,\n",
       " -0.013032581453634062,\n",
       " -0.0689102564102565,\n",
       " -0.014613151836652905,\n",
       " -0.059294871794871806,\n",
       " 0.05459654757125654,\n",
       " -0.029647435897435903,\n",
       " 0.005202080832332978,\n",
       " 0.035024154589372025,\n",
       " -0.10549494545090587,\n",
       " -0.02055137844611521,\n",
       " -0.007426736250501831,\n",
       " -0.013032581453634062,\n",
       " 0.040000000000000036,\n",
       " 0.017801780178017812,\n",
       " -0.033430087078370585,\n",
       " 0.018115942028985588,\n",
       " 0.02750410509031198,\n",
       " -0.010000000000000009,\n",
       " 0.019230769230769273,\n",
       " 0.035814325730292085,\n",
       " 0.04576475311120032,\n",
       " 0.001002506265664116,\n",
       " -0.0521052105210521,\n",
       " 0.019548872180451204,\n",
       " 0.07101806239737274,\n",
       " -0.04060150375939853,\n",
       " -0.008020050125313372,\n",
       " -0.019548872180451093,\n",
       " 0.015475831574716103,\n",
       " -0.05848658426288811,\n",
       " -0.05797101449275355,\n",
       " 0.006649616368286426,\n",
       " -0.0010036130068244997,\n",
       " 0.04253828445601049,\n",
       " -0.003831031353967118,\n",
       " -0.003200320032003212,\n",
       " 0.011101110111011003,\n",
       " 0.020531400966183555,\n",
       " -0.02690269026902692,\n",
       " -0.07858506682745448,\n",
       " 0.022276472383277346,\n",
       " -0.005636070853462072,\n",
       " -0.023917194251833918,\n",
       " 0.004804323891502427,\n",
       " 0.06817042606516288,\n",
       " -0.03290329032903294,\n",
       " 0.00020163322915611737,\n",
       " -0.02506265664160401,\n",
       " 0.031655844155844104,\n",
       " 0.01130113011301126,\n",
       " -0.034413765506202454,\n",
       " 0.0032115616218385545,\n",
       " 0.008012820512820484,\n",
       " -0.015475831574716103,\n",
       " 0.03795930762222899,\n",
       " 0.02626262626262621,\n",
       " 0.04240424042404245,\n",
       " -0.01281153037733962,\n",
       " 0.017115403863477097,\n",
       " -0.017917825146740896,\n",
       " 0.030000000000000027,\n",
       " -0.007157979635043832,\n",
       " 0.043269230769230727,\n",
       " 0.01680672268907568,\n",
       " 0.021675572134287724,\n",
       " 0.010000000000000009,\n",
       " -0.009211458649660886,\n",
       " -0.038596491228070184,\n",
       " 0.04313882494244825,\n",
       " -0.029136001613065843,\n",
       " -0.026065162907268236,\n",
       " 0.09190919091909189,\n",
       " 0.024154589371980673,\n",
       " 0.018667201926936938,\n",
       " 0.04646464646464643,\n",
       " 0.02482234010609552,\n",
       " -0.05218787635487754,\n",
       " 0.026972624798711764,\n",
       " 0.05442176870748294,\n",
       " -0.0032157572103306276,\n",
       " 0.01102756892230572,\n",
       " 0.11384553821528609,\n",
       " -0.05740574057405745,\n",
       " -0.030000000000000027,\n",
       " 0.0,\n",
       " 0.041461412151067356,\n",
       " 0.006978653530377743,\n",
       " 0.053132832080200476,\n",
       " 0.015299877600979173,\n",
       " -0.030000000000000027,\n",
       " 0.02432188970073057,\n",
       " 0.006843800322061222,\n",
       " -0.05580088317944598,\n",
       " 0.0028011204481792618,\n",
       " 0.0,\n",
       " -0.054621848739495826,\n",
       " 0.020000000000000018,\n",
       " -0.028439352828861453,\n",
       " 0.011901190119011917,\n",
       " -0.0037033329996997155,\n",
       " 0.11298076923076927,\n",
       " 0.06422569027611047,\n",
       " 0.02644230769230771,\n",
       " -0.01599352161149914,\n",
       " 0.016048991658747847,\n",
       " -0.04589963280293763,\n",
       " 0.03222900610549495,\n",
       " 0.0003036744609777875,\n",
       " -0.015037593984962405,\n",
       " 0.01631468321489349,\n",
       " 0.0267857142857143,\n",
       " 0.0073007300730073554,\n",
       " -0.00909090909090915,\n",
       " 0.03759398496240607,\n",
       " 0.02929292929292926,\n",
       " 0.012501250125012464,\n",
       " -0.051523433545905384,\n",
       " 0.012030075187969835,\n",
       " -0.07660766076607661,\n",
       " 0.024350649350649345,\n",
       " 0.0628019323671497,\n",
       " 0.017801780178017812,\n",
       " 0.01691522370133125,\n",
       " -0.02929508696978944,\n",
       " 0.022402240224022374,\n",
       " 0.01740174017401741,\n",
       " 0.040000000000000036,\n",
       " -0.016541353383458746,\n",
       " -0.06566416040100254,\n",
       " -0.011501150115011516,\n",
       " -0.01880188018801876,\n",
       " 0.039393939393939426,\n",
       " 0.051368121249109944,\n",
       " -0.039049919484702045,\n",
       " 0.04046957059005252,\n",
       " 0.05875287758983094,\n",
       " -0.040000000000000036,\n",
       " 0.09541062801932365,\n",
       " 0.037998146431881374,\n",
       " -0.004303873486137477,\n",
       " -0.08363345338135253,\n",
       " 0.009312683469986816,\n",
       " 0.045818327330932385,\n",
       " -0.047571256523484595,\n",
       " -0.028846153846153855,\n",
       " -0.014517592499243892,\n",
       " -0.06220622062206227,\n",
       " 0.024038461538461564,\n",
       " 0.062424729024488146,\n",
       " -0.0913287836210358,\n",
       " -0.036076776203396665,\n",
       " -0.06502601040416167,\n",
       " 0.00895127657410233,\n",
       " -0.045818327330932385,\n",
       " -0.025362318840579712,\n",
       " 0.03125,\n",
       " 0.0034584477672667813,\n",
       " 0.01754385964912286,\n",
       " 0.02372134921429281,\n",
       " -0.050000000000000044,\n",
       " 0.024409763905562265,\n",
       " -0.028282828282828243,\n",
       " -0.03350335033503349,\n",
       " -0.043269230769230727,\n",
       " -0.002402161945751158,\n",
       " -0.013205282112845218,\n",
       " 0.07567078685559236,\n",
       " 0.010000000000000009,\n",
       " -0.0345864661654135,\n",
       " 0.08371017988141893,\n",
       " 0.03377613016167236,\n",
       " 0.04267310789049916,\n",
       " 0.020000000000000018,\n",
       " -0.04373936542888601,\n",
       " 0.022435897435897356,\n",
       " 0.019462465245597804,\n",
       " 0.022616453989003027,\n",
       " -0.03412284223203532,\n",
       " 0.027010804321728754,\n",
       " 0.05848658426288811,\n",
       " 0.1312399355877617,\n",
       " -0.020000000000000018,\n",
       " 0.05820427168741782,\n",
       " -0.015113602242017854,\n",
       " -0.07442977190876354,\n",
       " 0.013412070863777381,\n",
       " -0.051624658366231424,\n",
       " -0.01281153037733962,\n",
       " -0.05714285714285705,\n",
       " -0.027224502051846677,\n",
       " -0.029136001613065843,\n",
       " 0.012820512820512775,\n",
       " 0.04604143729356425,\n",
       " -0.014605842336934849,\n",
       " -0.040601503759398416,\n",
       " 0.007157979635043832,\n",
       " -0.06971153846153844,\n",
       " -0.13405362144857946,\n",
       " 0.08908017215493946,\n",
       " -0.029463637306774593,\n",
       " 0.0364956144772659,\n",
       " -0.0546491842658392,\n",
       " -0.022510300472314282,\n",
       " -0.004303873486137477,\n",
       " 0.01522435897435892,\n",
       " 0.047304730473047285,\n",
       " -0.017801780178017812,\n",
       " -0.04686709181091209,\n",
       " -0.01480592236894751,\n",
       " 0.10999999999999999,\n",
       " -0.06000000000000005,\n",
       " 0.04912280701754379,\n",
       " -0.0873397435897435,\n",
       " -0.0020002000200020076,\n",
       " 0.00523349436392917,\n",
       " -0.012561551602853993,\n",
       " 0.06302521008403361,\n",
       " 0.01959602050045217,\n",
       " 0.0010036130068244997,\n",
       " 0.01800720288115243,\n",
       " 0.08443377350940373,\n",
       " 0.048173424327579206,\n",
       " -0.035728623042954655,\n",
       " 0.0837092731829574,\n",
       " 0.004511278195488688,\n",
       " -0.08091787439613529,\n",
       " -0.053821528611444625,\n",
       " -0.01754385964912286,\n",
       " -0.022520268241417285,\n",
       " 0.05302120848339331,\n",
       " -0.06403050983540748,\n",
       " -0.015037593984962405,\n",
       " -0.037533780402362216,\n",
       " -0.02750410509031198,\n",
       " 0.10096153846153844,\n",
       " -0.056979198070545634,\n",
       " 0.02910477719791249,\n",
       " -0.0072064858372535845,\n",
       " -0.022269460471707747,\n",
       " -0.040000000000000036,\n",
       " 0.007002801120448265,\n",
       " 0.023402340234023322,\n",
       " 0.09654757125652347,\n",
       " 0.012820512820512775,\n",
       " -0.005002000800320094,\n",
       " 0.030348708672495284,\n",
       " -0.05353535353535355,\n",
       " -0.019317385647082297,\n",
       " -0.01340536214485788,\n",
       " -0.040000000000000036,\n",
       " 0.0024038461538461453,\n",
       " 0.011701170117011772,\n",
       " 0.02763541352627874,\n",
       " 0.056140350877193046,\n",
       " 0.009022556390977488,\n",
       " 0.06000000000000005,\n",
       " -0.010000000000000009,\n",
       " -0.012662044015676832,\n",
       " -0.014605842336934849,\n",
       " -0.0548219287715086,\n",
       " -0.0120108097287559,\n",
       " -0.03753512645523882,\n",
       " -0.011701170117011772,\n",
       " 0.007561246093356178,\n",
       " -0.006824568446406998,\n",
       " -0.034584477672668035,\n",
       " -0.017462866318747494,\n",
       " 0.017857142857142905,\n",
       " -0.02027298273785627,\n",
       " -0.09413890004014447,\n",
       " 0.04773389609084511,\n",
       " 0.020445529447665534,\n",
       " 0.06665999399459521,\n",
       " -0.022435897435897356,\n",
       " -0.008871862082871274,\n",
       " 0.0837092731829574,\n",
       " 0.1428142814281429,\n",
       " 0.019999999999999907,\n",
       " -0.026566416040100238,\n",
       " 0.03421368547418968,\n",
       " 0.030000000000000027,\n",
       " 0.042151746286631875,\n",
       " 0.022402240224022374,\n",
       " -0.010000000000000009,\n",
       " -0.01041666666666663,\n",
       " 0.03977968176254587,\n",
       " -0.03282954659193282,\n",
       " -0.0036014405762304635,\n",
       " -0.02131918726854176,\n",
       " 0.008210180623973717,\n",
       " 0.04341272233946336,\n",
       " 0.0008137524158274845,\n",
       " 0.003201280512204807,\n",
       " 0.11541549578482535,\n",
       " -0.02055137844611521,\n",
       " -0.06262626262626259,\n",
       " -0.006605945350815823,\n",
       " -0.040000000000000036,\n",
       " -0.10729656691021927,\n",
       " -0.02762375239439452,\n",
       " 0.0068832877821641825,\n",
       " -0.014613151836652905,\n",
       " -0.08240824082408249,\n",
       " -0.005018065034122832,\n",
       " -0.060096153846153855,\n",
       " 0.08270676691729317,\n",
       " 0.04999999999999993,\n",
       " 0.007672634271099765,\n",
       " 0.11010101010101003,\n",
       " -0.04561403508771933,\n",
       " 0.0,\n",
       " -0.010064412238325326,\n",
       " -0.012030075187969835,\n",
       " -0.03337029942534531,\n",
       " -0.023802258162953893,\n",
       " -0.05567279670384884,\n",
       " 0.024488157366519436,\n",
       " -0.06582633053221287,\n",
       " 0.02929508696978944,\n",
       " -0.06773188624258875,\n",
       " 0.005404864377940188,\n",
       " -0.0032157572103306276,\n",
       " -0.02228020875150538,\n",
       " 0.054621848739495826,\n",
       " 0.023609443777510952,\n",
       " 0.060288335517693414,\n",
       " 0.028044871794871806,\n",
       " -0.022823944392571738,\n",
       " -0.04227053140096615,\n",
       " -0.04877559213167404,\n",
       " 0.025223595618530825,\n",
       " -0.01522435897435892,\n",
       " 0.030000000000000027,\n",
       " -0.007807026323691235,\n",
       " 0.010064412238325326,\n",
       " -0.035014005602240994,\n",
       " 0.03316866619618919,\n",
       " -0.14565826330532217,\n",
       " -0.06946264744429886,\n",
       " 0.039393939393939315,\n",
       " 0.07166449804824349,\n",
       " 0.0641025641025641,\n",
       " 0.02482162596723947,\n",
       " -0.0440176070428171,\n",
       " 0.050000000000000044,\n",
       " 0.06786107496747074,\n",
       " 0.005402160864345751,\n",
       " -0.006222400642312387,\n",
       " 0.016233766233766156,\n",
       " 0.010025062656641603,\n",
       " -0.005242463958060384,\n",
       " 0.040000000000000036,\n",
       " -0.0008012820512820484,\n",
       " -0.050480769230769273,\n",
       " -0.04013612251025922,\n",
       " 0.004040404040404066,\n",
       " -0.02011494252873558,\n",
       " 0.04664197778000201,\n",
       " 0.012561551602853993,\n",
       " -0.0639177336425043,\n",
       " -0.03210321032103214,\n",
       " -0.07205305999397049,\n",
       " -0.02217965520717813,\n",
       " -0.004025764895330131,\n",
       " 0.043269230769230727,\n",
       " 0.08583433373349347,\n",
       " 0.0005012531328321135,\n",
       " 0.009090909090909038,\n",
       " -0.006802721088435382,\n",
       " -0.015714142728455616,\n",
       " 0.07834801093228061,\n",
       " -0.015856777493606145,\n",
       " 0.03623848567668797,\n",
       " -0.06810897435897434,\n",
       " 0.015806322529011596,\n",
       " -0.09808059491508392,\n",
       " -0.0024038461538461453,\n",
       " 0.03452428743476521,\n",
       " 0.03341384863123986,\n",
       " 0.028070175438596467,\n",
       " -0.02506265664160401,\n",
       " -0.03813432088879998,\n",
       " -0.002020202020202033,\n",
       " 0.026683087027914554,\n",
       " -0.08883529293538339,\n",
       " -0.015386172689543454,\n",
       " 0.0076030412164865835,\n",
       " -0.03135396713378358,\n",
       " -0.002400240024002409,\n",
       " -0.053685897435897356,\n",
       " -0.012301230123012319,\n",
       " -0.02506265664160401,\n",
       " -0.01525491770373344,\n",
       " 0.048878205128205066,\n",
       " 0.00600540486437795,\n",
       " 0.03800380038003803,\n",
       " 0.012101210121012174,\n",
       " -0.008100810081008047,\n",
       " -0.08603441376550625,\n",
       " 0.011009908918026223,\n",
       " -0.03232323232323231,\n",
       " 0.026623961565408916,\n",
       " 0.03871357999798364,\n",
       " -0.08181818181818179,\n",
       " 0.042204220422042193,\n",
       " -0.08092948717948723,\n",
       " -0.035014005602240994,\n",
       " -0.012210989890901858,\n",
       " -0.021553884711779436,\n",
       " 0.05864661654135339,\n",
       " 0.004804323891502427,\n",
       " 0.018546365914786977,\n",
       " -0.012043356081894885,\n",
       " -0.028582930756843816,\n",
       " 0.049040297457542015,\n",
       " -0.012101210121012174,\n",
       " 0.04632700231132547,\n",
       " -0.03211561621838621,\n",
       " -0.0327605265802432,\n",
       " 0.0267857142857143,\n",
       " 0.0757712792684152,\n",
       " 0.043004300430042997,\n",
       " 0.08117305575017508,\n",
       " 0.05864661654135339,\n",
       " 0.08806559368357114,\n",
       " -0.04736896303161364,\n",
       " 0.006602641056422609,\n",
       " 0.057883629785951185,\n",
       " 0.03535353535353536,\n",
       " -0.015037593984962405,\n",
       " 0.0018001800180018623,\n",
       " -0.029826844159743793,\n",
       " 0.0641604010025063,\n",
       " -0.016836374634539686,\n",
       " -0.08079589990955682,\n",
       " -0.010101010101010166,\n",
       " -0.012019230769230727,\n",
       " -0.009679744619503605,\n",
       " -0.10470779220779225,\n",
       " 0.010409368431588462,\n",
       " -0.04707792207792205,\n",
       " 0.045112781954887216,\n",
       " 0.04043923556118678,\n",
       " -0.028846153846153855,\n",
       " -0.06250630103841115,\n",
       " 0.007402961184473811,\n",
       " 0.050000000000000044,\n",
       " -0.01083902047370533,\n",
       " 0.09740974097409749,\n",
       " -0.03623188405797095,\n",
       " 0.081283530721733,\n",
       " 0.035024154589372025,\n",
       " -0.04355680449618626,\n",
       " -0.02556390977443601,\n",
       " -0.004801920768307322,\n",
       " -0.0013011710539485577,\n",
       " -0.016233766233766156,\n",
       " 0.03569971440228481,\n",
       " 0.040064102564102644,\n",
       " 0.08440844084408439,\n",
       " -0.020000000000000018,\n",
       " -0.04951298701298701,\n",
       " 0.06119162640901765,\n",
       " -0.005402160864345751,\n",
       " -0.03508771929824561,\n",
       " 0.053221288515406084,\n",
       " -0.06000000000000005,\n",
       " 0.11820638574717246,\n",
       " -0.048443599239315405,\n",
       " 0.016332291561649392,\n",
       " -0.02480992396958792,\n",
       " 0.0657051282051282,\n",
       " 0.03044871794871795,\n",
       " 0.040000000000000036,\n",
       " -0.040000000000000036,\n",
       " 0.053994379767161704,\n",
       " -0.044004400440043945,\n",
       " -0.037403740374037375,\n",
       " 0.07309204556910975,\n",
       " 0.017042606516290748,\n",
       " -0.05760738659173015,\n",
       " -0.020933977455716568,\n",
       " 0.005402160864345751,\n",
       " -0.04343434343434338,\n",
       " -0.055432372505543226,\n",
       " 0.062103034580098804,\n",
       " 0.05564032143220421,\n",
       " -0.019230769230769273,\n",
       " -0.008814102564102644,\n",
       " 0.0032157572103306276,\n",
       " 0.07587314331593742,\n",
       " 0.003000300030002956,\n",
       " -0.035014005602240994,\n",
       " -0.013247691690084329,\n",
       " -0.045218087234893956,\n",
       " 0.03180354267310792,\n",
       " 0.045454545454545414,\n",
       " 0.023020718646782123,\n",
       " 0.0014001400140014608,\n",
       " -0.04240424042404245,\n",
       " -0.06790679067906791,\n",
       " -0.03541416566626643,\n",
       " -0.022402240224022374,\n",
       " -0.025010004001600583,\n",
       " 0.08229626655961453,\n",
       " 0.00909090909090915,\n",
       " 0.015386172689543454,\n",
       " 0.04770477047704769,\n",
       " 0.06363636363636371,\n",
       " 0.04710471047104714,\n",
       " 0.0020002000200020076,\n",
       " 0.02205513784461155,\n",
       " 0.005402160864345751,\n",
       " -0.06165413533834585,\n",
       " 0.072061191626409,\n",
       " 0.027702770277027722,\n",
       " -0.004807692307692291,\n",
       " 0.04711779448621556,\n",
       " -0.0024038461538461453,\n",
       " -0.03462157809983901,\n",
       " 0.006516290726817031,\n",
       " -0.07568922305764414,\n",
       " -0.025734920150544238,\n",
       " -0.02055137844611532,\n",
       " -0.06978653530377665,\n",
       " -0.050000000000000044,\n",
       " -0.01688272535423574,\n",
       " -0.00884333232840917,\n",
       " -0.04313882494244825,\n",
       " 0.02128978916907809,\n",
       " -0.005636070853462072,\n",
       " 0.007222052690468939,\n",
       " -0.1209415584415584,\n",
       " -0.05252525252525253,\n",
       " 0.06545891302171958,\n",
       " 0.04120188925736101,\n",
       " 0.0072260136491368865,\n",
       " -0.0382876092854989,\n",
       " 0.0393354018616755,\n",
       " -0.004757566555319337,\n",
       " 0.038739462063428265,\n",
       " -0.015538847117794408,\n",
       " -0.060096153846153855,\n",
       " 0.034066927946939995,\n",
       " -0.04341272233946336,\n",
       " -0.0018001800180018623,\n",
       " 0.045218087234893956,\n",
       " 0.022222222222222254,\n",
       " 0.010025062656641603,\n",
       " 0.054750402576489554,\n",
       " 0.015006002400960394,\n",
       " -0.03788563963420766,\n",
       " 0.011674718196457268,\n",
       " 0.04541816726690673,\n",
       " 0.0560897435897435,\n",
       " 0.04373936542888601,\n",
       " 0.0052256054667871865,\n",
       " 0.003102792513261843,\n",
       " -0.02922077922077926,\n",
       " 0.06340634063406336,\n",
       " 0.038403840384038435,\n",
       " 0.07888398233641103,\n",
       " 0.052334943639291476,\n",
       " 0.007305194805194759,\n",
       " -0.016161616161616155,\n",
       " -0.10484193677470988,\n",
       " 0.048120300751879785,\n",
       " 0.09483793517406969,\n",
       " -0.0004019696512913562,\n",
       " 0.0968992248062015,\n",
       " -0.04871175523349436,\n",
       " 0.0014001400140014608,\n",
       " -0.051114023591087854,\n",
       " -0.011291460832745237,\n",
       " 0.011217948717948789,\n",
       " 0.004904413972575239,\n",
       " 0.062424729024488146,\n",
       " -0.03205128205128205,\n",
       " -0.017201720172017265,\n",
       " 0.03044871794871795,\n",
       " 0.026972624798711764,\n",
       " -0.0793714342908618,\n",
       " 0.040000000000000036,\n",
       " 0.04589371980676338,\n",
       " 0.034030627564808236,\n",
       " 0.03202882594334899,\n",
       " 0.05104594134721252,\n",
       " -0.03341384863123986,\n",
       " -0.020000000000000018,\n",
       " -0.0012001200120010935,\n",
       " 0.017006802721088454,\n",
       " -0.12786029706945,\n",
       " -0.050983540746688094,\n",
       " 0.024561403508772006,\n",
       " 0.06792185443870835,\n",
       " -0.0038015206082433473,\n",
       " 0.000700630567510796,\n",
       " 0.018429487179487225,\n",
       " -0.026272577996715896,\n",
       " -0.022222222222222254,\n",
       " -0.059893478042407744,\n",
       " 0.03463116805124611,\n",
       " 0.04421768707482987,\n",
       " 0.051127819548872244,\n",
       " -0.016535758577924775,\n",
       " -0.0535714285714286,\n",
       " 0.08423369347739096,\n",
       " 0.0845410628019323,\n",
       " -0.0073007300730073554,\n",
       " 0.06542617046818733,\n",
       " 0.03332999699729755,\n",
       " -0.0584058405840584,\n",
       " -0.012301230123012319,\n",
       " 0.016801680168016864,\n",
       " 0.004025764895330131,\n",
       " -0.08972431077694232,\n",
       " 0.057605760576057596,\n",
       " 0.03541416566626643,\n",
       " 0.0,\n",
       " -0.012662044015676832,\n",
       " 0.05330533053305331,\n",
       " 0.011595971925541626,\n",
       " -0.09250925092509255,\n",
       " -0.001600160016001606,\n",
       " 0.009211458649660886,\n",
       " 0.030950700675471343,\n",
       " 0.08091787439613529,\n",
       " -0.004006410256410242,\n",
       " -0.0388143966125617,\n",
       " -0.026294660778803713,\n",
       " -0.01270127012701272,\n",
       " 0.06830683068306831,\n",
       " -0.005513784461152915,\n",
       " -0.1176058452607347,\n",
       " -0.021075873143315937,\n",
       " -0.0008012820512820484,\n",
       " -0.02131603336422616,\n",
       " 0.10265700483091789,\n",
       " 0.09654757125652347,\n",
       " -0.04434950666259796,\n",
       " -0.09775641025641024,\n",
       " -0.07862882717933073,\n",
       " -0.005802320928371296,\n",
       " -0.0441102756892231,\n",
       " -0.00219780219780219,\n",
       " 0.030000000000000027,\n",
       " -0.04949494949494959,\n",
       " 0.004807692307692291,\n",
       " -0.009208287458712827,\n",
       " 0.02254428341384862,\n",
       " -0.03541416566626643,\n",
       " 0.05193236714975835,\n",
       " 0.0016420361247947435,\n",
       " 0.009615384615384581,\n",
       " -0.0491228070175439,\n",
       " -0.0010101010101010166,\n",
       " 0.026123511160043966,\n",
       " 0.005202080832332978,\n",
       " 0.04301948051948046,\n",
       " 0.008747838470145375,\n",
       " 0.06342834203131265,\n",
       " 0.04587529244227451,\n",
       " 0.04295463669209154,\n",
       " 0.003102792513261843,\n",
       " -0.0016025641025640969,\n",
       " -0.09775190686471291,\n",
       " 0.06824568446407064,\n",
       " -0.12380952380952381,\n",
       " 0.04310776942355887,\n",
       " 0.05270527052705276,\n",
       " -0.02759740259740251,\n",
       " 0.016541353383458746,\n",
       " -0.039192041000904454,\n",
       " 0.011901190119011917,\n",
       " -0.1155394524959742,\n",
       " 0.007500750075007501,\n",
       " 0.04664197778000201,\n",
       " -0.040064102564102644,\n",
       " 0.05502200880352137,\n",
       " -0.028439352828861453,\n",
       " -0.010064412238325326,\n",
       " -0.01540616246498605,\n",
       " 0.03525641025641024,\n",
       " -0.017515764187769012,\n",
       " -0.045491143317230254,\n",
       " 0.1038415366146459,\n",
       " -0.021477318346045826,\n",
       " -0.07117794486215545,\n",
       " 0.011674718196457268,\n",
       " 0.004757566555319337,\n",
       " 0.0013011710539485577,\n",
       " -0.099389450505455,\n",
       " 0.06665999399459521,\n",
       " -0.018716845160644535,\n",
       " -0.0005012531328321135,\n",
       " -0.0625,\n",
       " 0.07999196060697411,\n",
       " -0.011515717398070335,\n",
       " -0.03452428743476521,\n",
       " -0.00870533454803113,\n",
       " 0.05112781954887213,\n",
       " -0.08139885438649386,\n",
       " -0.030000000000000027,\n",
       " -0.08849104859335033,\n",
       " 0.03007518796992481,\n",
       " -0.06641952425084952,\n",
       " 0.08766233766233766,\n",
       " -0.08932155760738658,\n",
       " 0.030000000000000027,\n",
       " 0.004904413972575239,\n",
       " -0.015375339161893264,\n",
       " 0.058605860586058545,\n",
       " 0.05438311688311681,\n",
       " -0.06493506493506496,\n",
       " 0.09623849539815932,\n",
       " -0.09526680735604465,\n",
       " 0.010000000000000009,\n",
       " -0.031278469480716775,\n",
       " 0.012030075187969946,\n",
       " 0.037533780402362216,\n",
       " 0.04154957848253715,\n",
       " 0.08471177944862163,\n",
       " 0.06300630063006296,\n",
       " -0.03180354267310792,\n",
       " -0.051515151515151514,\n",
       " -0.01754385964912275,\n",
       " -0.0650185910963722,\n",
       " 0.019871537535126382,\n",
       " 0.0037302147393890595,\n",
       " 0.04444444444444451,\n",
       " -0.019230769230769273,\n",
       " 0.03044871794871795,\n",
       " 0.016233766233766156,\n",
       " -0.01620648259303714,\n",
       " -0.0024038461538461453,\n",
       " -0.009615384615384581,\n",
       " -0.004511278195488688,\n",
       " 0.0,\n",
       " -0.028703331995182713,\n",
       " -0.030000000000000027,\n",
       " -0.019326619875902784,\n",
       " -0.019191919191919204,\n",
       " -0.031415748674010646,\n",
       " 0.042204220422042193,\n",
       " 0.051114023591087854,\n",
       " 0.0035087719298245723,\n",
       " -0.02024209134370858,\n",
       " 0.008100810081008047,\n",
       " 0.000407996736026095,\n",
       " -0.0489596083231334,\n",
       " -0.07000000000000006,\n",
       " 0.06442577030812324,\n",
       " -0.025405786873676783,\n",
       " 0.027243589743589758,\n",
       " 0.028846153846153855,\n",
       " 0.01831648483635273,\n",
       " 0.0018088634308109919,\n",
       " 0.006202480992396953,\n",
       " -0.0016233766233766378,\n",
       " 0.018667201926936938,\n",
       " 0.006029544769369899,\n",
       " -0.05955359823841455,\n",
       " -0.05563909774436082,\n",
       " -0.06944022674359751,\n",
       " 0.03734015345268549,\n",
       " -0.006002400960384069,\n",
       " 0.022876809393663322,\n",
       " 0.06169871794871795,\n",
       " 0.00020163322915611737,\n",
       " -0.014068937795196468,\n",
       " 0.05797101449275355,\n",
       " 0.005507955936352449,\n",
       " 0.13271944750275244,\n",
       " -0.01281153037733962,\n",
       " 0.027272727272727226,\n",
       " -0.0411370233209889,\n",
       " -0.040000000000000036,\n",
       " -0.07777777777777783,\n",
       " 0.02372134921429281,\n",
       " 0.01688272535423574,\n",
       " 0.0376602564102565,\n",
       " -0.03208020050125315,\n",
       " -0.0040584415584415945,\n",
       " -0.022002200220022083,\n",
       " -0.02953926807137819,\n",
       " -0.09775641025641024,\n",
       " 0.0005024620641141953,\n",
       " -0.03210321032103214,\n",
       " -0.011033505415527944,\n",
       " -0.003000300030002956,\n",
       " -0.03938618925831194,\n",
       " 0.003201280512204807,\n",
       " 0.17000000000000004,\n",
       " -0.021055843759536175,\n",
       " 0.054256503694705915,\n",
       " 0.0475756655531937,\n",
       " 0.03820382038203818,\n",
       " 0.02029220779220775,\n",
       " 0.03044871794871795,\n",
       " 0.027568922305764465,\n",
       " -0.0018001800180018623,\n",
       " -0.02020202020202022,\n",
       " -0.05999999999999994,\n",
       " 0.056658937392882414,\n",
       " -0.012043356081894885,\n",
       " 0.005002000800320094,\n",
       " -0.07760776077607767,\n",
       " 0.019530057979859627,\n",
       " 0.004601840736294438,\n",
       " -0.03633269942948658,\n",
       " -0.009203681472589098,\n",
       " -0.001002506265664116,\n",
       " -0.028044871794871806,\n",
       " 0.0005012531328321135,\n",
       " -0.07852564102564108,\n",
       " 0.07583033213285317,\n",
       " -0.08000000000000007,\n",
       " -0.053948553698328516,\n",
       " -0.07858506682745448,\n",
       " -0.03860386038603858,\n",
       " 0.06682673069227696,\n",
       " -0.05780578057805785,\n",
       " 0.027229476667678942,\n",
       " 0.0,\n",
       " 0.03392211963067038,\n",
       " 0.09674185463659146,\n",
       " -0.034085213032581385,\n",
       " -0.10606060606060597,\n",
       " 0.03763387048343503,\n",
       " 0.02083333333333337,\n",
       " 0.05515297906602257,\n",
       " 0.010025062656641603,\n",
       " 0.13445378151260512,\n",
       " ...]"
      ]
     },
     "execution_count": 31,
     "metadata": {},
     "output_type": "execute_result"
    }
   ],
   "source": [
    "p_diffs #verify that values were appended to the arrary"
   ]
  },
  {
   "cell_type": "markdown",
   "metadata": {},
   "source": [
    "i. Plot a histogram of the **p_diffs**.  Does this plot look like what you expected?  Use the matching problem in the classroom to assure you fully understand what was computed here."
   ]
  },
  {
   "cell_type": "markdown",
   "metadata": {},
   "source": [
    "**I would expect a normal distribution due to the Central Limit theorem**"
   ]
  },
  {
   "cell_type": "code",
   "execution_count": 32,
   "metadata": {},
   "outputs": [
    {
     "data": {
      "text/plain": [
       "<matplotlib.lines.Line2D at 0x11e527048>"
      ]
     },
     "execution_count": 32,
     "metadata": {},
     "output_type": "execute_result"
    },
    {
     "data": {
      "image/png": "[encoded data removed]",
      "text/plain": [
       "<Figure size 432x288 with 1 Axes>"
      ]
     },
     "metadata": {
      "needs_background": "light"
     },
     "output_type": "display_data"
    }
   ],
   "source": [
    "plt.hist(p_diffs) #plot the histogram of the p_diffs\n",
    "plt.axvline (x=obs_diff, c='r') #draw a red line of the observed difference"
   ]
  },
  {
   "cell_type": "markdown",
   "metadata": {},
   "source": [
    "j. What proportion of the **p_diffs** are greater than the actual difference observed in **ab_data.csv**?"
   ]
  },
  {
   "cell_type": "code",
   "execution_count": 33,
   "metadata": {},
   "outputs": [
    {
     "data": {
      "text/plain": [
       "0.4994"
      ]
     },
     "execution_count": 33,
     "metadata": {},
     "output_type": "execute_result"
    }
   ],
   "source": [
    "(p_diffs > obs_diff).mean() #proportion of all values above the obs difference (red line above)"
   ]
  },
  {
   "cell_type": "markdown",
   "metadata": {},
   "source": [
    "k. In words, explain what you just computed in part **j.**  What is this value called in scientific studies?  What does this value mean in terms of whether or not there is a difference between the new and old pages?"
   ]
  },
  {
   "cell_type": "markdown",
   "metadata": {},
   "source": [
    "**It's the probability that the that we would obtain an observed statistic, or one more extreme, in favor of the alternative hypothesis. With this high probability, and a type 1 error rate of .05, we fail to reject the null hyopothesis. We fail to say that the new page is better at converting than the old**"
   ]
  },
  {
   "cell_type": "markdown",
   "metadata": {},
   "source": [
    "l. We could also use a built-in to achieve similar results.  Though using the built-in might be easier to code, the above portions are a walkthrough of the ideas that are critical to correctly thinking about statistical significance. Fill in the below to calculate the number of conversions for each page, as well as the number of individuals who received each page. Let `n_old` and `n_new` refer the the number of rows associated with the old page and new pages, respectively."
   ]
  },
  {
   "cell_type": "code",
   "execution_count": 34,
   "metadata": {},
   "outputs": [],
   "source": [
    "import statsmodels.api as sm\n",
    "\n",
    "convert_old = df2_ab.query('converted == 1 and landing_page == \"old_page\"')['user_id'].count() #count of users converted from old_page\n",
    "convert_new = df2_ab.query('converted == 1 and landing_page == \"new_page\"')['user_id'].count() #count of users converted from new_page\n",
    "n_old = df2_ab.query('landing_page == \"old_page\"')['user_id'].count() #count of users from old_page\n",
    "n_new = df2_ab.query('landing_page == \"new_page\"')['user_id'].count() #count of users from new_page"
   ]
  },
  {
   "cell_type": "markdown",
   "metadata": {},
   "source": [
    "m. Now use `stats.proportions_ztest` to compute your test statistic and p-value.  [Here](http://knowledgetack.com/python/statsmodels/proportions_ztest/) is a helpful link on using the built in."
   ]
  },
  {
   "cell_type": "code",
   "execution_count": 35,
   "metadata": {},
   "outputs": [
    {
     "data": {
      "text/plain": [
       "(-1.3109241984234394, 0.9050583127590245)"
      ]
     },
     "execution_count": 35,
     "metadata": {},
     "output_type": "execute_result"
    }
   ],
   "source": [
    "#I inserted the variables based on the documentation\n",
    "z_score, p_value = sm.stats.proportions_ztest([convert_new, convert_old], [n_new, n_old], alternative='larger')\n",
    "z_score, p_value #print the value or the z-score and p-value"
   ]
  },
  {
   "cell_type": "markdown",
   "metadata": {},
   "source": [
    "n. What do the z-score and p-value you computed in the previous question mean for the conversion rates of the old and new pages?  Do they agree with the findings in parts **j.** and **k.**?"
   ]
  },
  {
   "cell_type": "markdown",
   "metadata": {},
   "source": [
    "**With a type 1 error rate of .05, the p-value is still high enough where we would fail to reject the null hypothesis. Z-score above 1.96 would be significant, but in this case it is not.**"
   ]
  },
  {
   "cell_type": "markdown",
   "metadata": {},
   "source": [
    "<a id='regression'></a>\n",
    "### Part III - A regression approach\n",
    "\n",
    "`1.` In this final part, you will see that the result you acheived in the previous A/B test can also be acheived by performing regression.<br><br>\n",
    "\n",
    "a. Since each row is either a conversion or no conversion, what type of regression should you be performing in this case?"
   ]
  },
  {
   "cell_type": "markdown",
   "metadata": {},
   "source": [
    "**Logistic regression can be used in this case since the response is categorical--Convert or Not Convert.**"
   ]
  },
  {
   "cell_type": "markdown",
   "metadata": {},
   "source": [
    "b. The goal is to use **statsmodels** to fit the regression model you specified in part **a.** to see if there is a significant difference in conversion based on which page a customer receives.  However, you first need to create a column for the intercept, and create a dummy variable column for which page each user received.  Add an **intercept** column, as well as an **ab_page** column, which is 1 when an individual receives the **treatment** and 0 if **control**."
   ]
  },
  {
   "cell_type": "code",
   "execution_count": 36,
   "metadata": {},
   "outputs": [
    {
     "name": "stderr",
     "output_type": "stream",
     "text": [
      "/Users/ajkim/anaconda3/lib/python3.7/site-packages/ipykernel_launcher.py:1: SettingWithCopyWarning: \n",
      "A value is trying to be set on a copy of a slice from a DataFrame.\n",
      "Try using .loc[row_indexer,col_indexer] = value instead\n",
      "\n",
      "See the caveats in the documentation: http://pandas.pydata.org/pandas-docs/stable/indexing.html#indexing-view-versus-copy\n",
      "  \"\"\"Entry point for launching an IPython kernel.\n",
      "/Users/ajkim/anaconda3/lib/python3.7/site-packages/pandas/core/frame.py:3140: SettingWithCopyWarning: \n",
      "A value is trying to be set on a copy of a slice from a DataFrame.\n",
      "Try using .loc[row_indexer,col_indexer] = value instead\n",
      "\n",
      "See the caveats in the documentation: http://pandas.pydata.org/pandas-docs/stable/indexing.html#indexing-view-versus-copy\n",
      "  self[k1] = value[k2]\n"
     ]
    },
    {
     "data": {
      "text/html": [
       "<div>\n",
       "<style scoped>\n",
       "    .dataframe tbody tr th:only-of-type {\n",
       "        vertical-align: middle;\n",
       "    }\n",
       "\n",
       "    .dataframe tbody tr th {\n",
       "        vertical-align: top;\n",
       "    }\n",
       "\n",
       "    .dataframe thead th {\n",
       "        text-align: right;\n",
       "    }\n",
       "</style>\n",
       "<table border=\"1\" class=\"dataframe\">\n",
       "  <thead>\n",
       "    <tr style=\"text-align: right;\">\n",
       "      <th></th>\n",
       "      <th>user_id</th>\n",
       "      <th>timestamp</th>\n",
       "      <th>group</th>\n",
       "      <th>landing_page</th>\n",
       "      <th>converted</th>\n",
       "      <th>intercept</th>\n",
       "      <th>ab_page</th>\n",
       "      <th>new_page</th>\n",
       "    </tr>\n",
       "  </thead>\n",
       "  <tbody>\n",
       "    <tr>\n",
       "      <th>0</th>\n",
       "      <td>851104</td>\n",
       "      <td>2017-01-21 22:11:48.556739</td>\n",
       "      <td>control</td>\n",
       "      <td>old_page</td>\n",
       "      <td>0</td>\n",
       "      <td>1</td>\n",
       "      <td>0</td>\n",
       "      <td>0</td>\n",
       "    </tr>\n",
       "    <tr>\n",
       "      <th>1</th>\n",
       "      <td>804228</td>\n",
       "      <td>2017-01-12 08:01:45.159739</td>\n",
       "      <td>control</td>\n",
       "      <td>old_page</td>\n",
       "      <td>0</td>\n",
       "      <td>1</td>\n",
       "      <td>0</td>\n",
       "      <td>0</td>\n",
       "    </tr>\n",
       "    <tr>\n",
       "      <th>2</th>\n",
       "      <td>661590</td>\n",
       "      <td>2017-01-11 16:55:06.154213</td>\n",
       "      <td>treatment</td>\n",
       "      <td>new_page</td>\n",
       "      <td>0</td>\n",
       "      <td>1</td>\n",
       "      <td>1</td>\n",
       "      <td>1</td>\n",
       "    </tr>\n",
       "    <tr>\n",
       "      <th>3</th>\n",
       "      <td>853541</td>\n",
       "      <td>2017-01-08 18:28:03.143765</td>\n",
       "      <td>treatment</td>\n",
       "      <td>new_page</td>\n",
       "      <td>0</td>\n",
       "      <td>1</td>\n",
       "      <td>1</td>\n",
       "      <td>1</td>\n",
       "    </tr>\n",
       "    <tr>\n",
       "      <th>4</th>\n",
       "      <td>864975</td>\n",
       "      <td>2017-01-21 01:52:26.210827</td>\n",
       "      <td>control</td>\n",
       "      <td>old_page</td>\n",
       "      <td>1</td>\n",
       "      <td>1</td>\n",
       "      <td>0</td>\n",
       "      <td>0</td>\n",
       "    </tr>\n",
       "  </tbody>\n",
       "</table>\n",
       "</div>"
      ],
      "text/plain": [
       "   user_id                   timestamp      group landing_page  converted  \\\n",
       "0   851104  2017-01-21 22:11:48.556739    control     old_page          0   \n",
       "1   804228  2017-01-12 08:01:45.159739    control     old_page          0   \n",
       "2   661590  2017-01-11 16:55:06.154213  treatment     new_page          0   \n",
       "3   853541  2017-01-08 18:28:03.143765  treatment     new_page          0   \n",
       "4   864975  2017-01-21 01:52:26.210827    control     old_page          1   \n",
       "\n",
       "   intercept  ab_page  new_page  \n",
       "0          1        0         0  \n",
       "1          1        0         0  \n",
       "2          1        1         1  \n",
       "3          1        1         1  \n",
       "4          1        0         0  "
      ]
     },
     "execution_count": 36,
     "metadata": {},
     "output_type": "execute_result"
    }
   ],
   "source": [
    "df2_ab['intercept']=1 #create the intercept in teh dataframe\n",
    "df2_ab[['treatment','ab_page']]=pd.get_dummies(df['group']) #create the dummy variables for ab_page\n",
    "df2_ab[['new_page','old_page']]=pd.get_dummies(df['landing_page']) #create the dummy variables for ab_page\n",
    "df3 = df2_ab.drop(columns=['treatment','old_page']) #create a new df and drop unneccessary column\n",
    "df3.head() #verify the df3 has all of the needed columms"
   ]
  },
  {
   "cell_type": "markdown",
   "metadata": {},
   "source": [
    "c. Use **statsmodels** to import your regression model.  Instantiate the model, and fit the model using the two columns you created in part **b.** to predict whether or not an individual converts."
   ]
  },
  {
   "cell_type": "code",
   "execution_count": 37,
   "metadata": {},
   "outputs": [
    {
     "name": "stdout",
     "output_type": "stream",
     "text": [
      "Optimization terminated successfully.\n",
      "         Current function value: 0.366118\n",
      "         Iterations 6\n"
     ]
    }
   ],
   "source": [
    "#user logistic regression model to determine if the treatment and control causes a difference in converts \n",
    "log_mod = sm.Logit(df3['converted'], df3[['intercept', 'ab_page']])\n",
    "results = log_mod.fit()"
   ]
  },
  {
   "cell_type": "markdown",
   "metadata": {},
   "source": [
    "d. Provide the summary of your model below, and use it as necessary to answer the following questions."
   ]
  },
  {
   "cell_type": "code",
   "execution_count": 38,
   "metadata": {},
   "outputs": [
    {
     "data": {
      "text/html": [
       "<table class=\"simpletable\">\n",
       "<caption>Logit Regression Results</caption>\n",
       "<tr>\n",
       "  <th>Dep. Variable:</th>     <td>converted</td>    <th>  No. Observations:  </th>   <td>290584</td>   \n",
       "</tr>\n",
       "<tr>\n",
       "  <th>Model:</th>               <td>Logit</td>      <th>  Df Residuals:      </th>   <td>290582</td>   \n",
       "</tr>\n",
       "<tr>\n",
       "  <th>Method:</th>               <td>MLE</td>       <th>  Df Model:          </th>   <td>     1</td>   \n",
       "</tr>\n",
       "<tr>\n",
       "  <th>Date:</th>          <td>Sat, 12 Jan 2019</td> <th>  Pseudo R-squ.:     </th>  <td>8.077e-06</td> \n",
       "</tr>\n",
       "<tr>\n",
       "  <th>Time:</th>              <td>15:38:49</td>     <th>  Log-Likelihood:    </th> <td>-1.0639e+05</td>\n",
       "</tr>\n",
       "<tr>\n",
       "  <th>converged:</th>           <td>True</td>       <th>  LL-Null:           </th> <td>-1.0639e+05</td>\n",
       "</tr>\n",
       "<tr>\n",
       "  <th> </th>                      <td> </td>        <th>  LLR p-value:       </th>   <td>0.1899</td>   \n",
       "</tr>\n",
       "</table>\n",
       "<table class=\"simpletable\">\n",
       "<tr>\n",
       "      <td></td>         <th>coef</th>     <th>std err</th>      <th>z</th>      <th>P>|z|</th>  <th>[0.025</th>    <th>0.975]</th>  \n",
       "</tr>\n",
       "<tr>\n",
       "  <th>intercept</th> <td>   -1.9888</td> <td>    0.008</td> <td> -246.669</td> <td> 0.000</td> <td>   -2.005</td> <td>   -1.973</td>\n",
       "</tr>\n",
       "<tr>\n",
       "  <th>ab_page</th>   <td>   -0.0150</td> <td>    0.011</td> <td>   -1.311</td> <td> 0.190</td> <td>   -0.037</td> <td>    0.007</td>\n",
       "</tr>\n",
       "</table>"
      ],
      "text/plain": [
       "<class 'statsmodels.iolib.summary.Summary'>\n",
       "\"\"\"\n",
       "                           Logit Regression Results                           \n",
       "==============================================================================\n",
       "Dep. Variable:              converted   No. Observations:               290584\n",
       "Model:                          Logit   Df Residuals:                   290582\n",
       "Method:                           MLE   Df Model:                            1\n",
       "Date:                Sat, 12 Jan 2019   Pseudo R-squ.:               8.077e-06\n",
       "Time:                        15:38:49   Log-Likelihood:            -1.0639e+05\n",
       "converged:                       True   LL-Null:                   -1.0639e+05\n",
       "                                        LLR p-value:                    0.1899\n",
       "==============================================================================\n",
       "                 coef    std err          z      P>|z|      [0.025      0.975]\n",
       "------------------------------------------------------------------------------\n",
       "intercept     -1.9888      0.008   -246.669      0.000      -2.005      -1.973\n",
       "ab_page       -0.0150      0.011     -1.311      0.190      -0.037       0.007\n",
       "==============================================================================\n",
       "\"\"\""
      ]
     },
     "execution_count": 38,
     "metadata": {},
     "output_type": "execute_result"
    }
   ],
   "source": [
    "results.summary() #print the summary of results"
   ]
  },
  {
   "cell_type": "markdown",
   "metadata": {},
   "source": [
    "e. What is the p-value associated with **ab_page**? Why does it differ from the value you found in **Part II**?<br><br>  **Hint**: What are the null and alternative hypotheses associated with your regression model, and how do they compare to the null and alternative hypotheses in the **Part II**?"
   ]
  },
  {
   "cell_type": "markdown",
   "metadata": {},
   "source": [
    "**P-value is 0.19.**\n",
    "\n",
    "Null hypothesis is that the treatment and control group are the same. \n",
    "The alternative hypothesis is that the treatment and control group are different.\n",
    "\n",
    "Part 2, we were interested in if the new page was better than the old page. "
   ]
  },
  {
   "cell_type": "markdown",
   "metadata": {},
   "source": [
    "f. Now, you are considering other things that might influence whether or not an individual converts.  Discuss why it is a good idea to consider other factors to add into your regression model.  Are there any disadvantages to adding additional terms into your regression model?"
   ]
  },
  {
   "cell_type": "markdown",
   "metadata": {},
   "source": [
    "**Certain variables may not be independent and require more factors to be added to the regression model (i.e. home value examples are dependent on a number of things)**\n",
    "\n",
    "**You can run into multicollinearity which can make our responses unreliable and the expected relationships may not hold between x and y variables**"
   ]
  },
  {
   "cell_type": "markdown",
   "metadata": {},
   "source": [
    "g. Now along with testing if the conversion rate changes for different pages, also add an effect based on which country a user lives. You will need to read in the **countries.csv** dataset and merge together your datasets on the approporiate rows.  [Here](https://pandas.pydata.org/pandas-docs/stable/generated/pandas.DataFrame.join.html) are the docs for joining tables. \n",
    "\n",
    "Does it appear that country had an impact on conversion?  Don't forget to create dummy variables for these country columns - **Hint: You will need two columns for the three dummy variables.** Provide the statistical output as well as a written response to answer this question."
   ]
  },
  {
   "cell_type": "code",
   "execution_count": 39,
   "metadata": {},
   "outputs": [
    {
     "data": {
      "text/html": [
       "<div>\n",
       "<style scoped>\n",
       "    .dataframe tbody tr th:only-of-type {\n",
       "        vertical-align: middle;\n",
       "    }\n",
       "\n",
       "    .dataframe tbody tr th {\n",
       "        vertical-align: top;\n",
       "    }\n",
       "\n",
       "    .dataframe thead th {\n",
       "        text-align: right;\n",
       "    }\n",
       "</style>\n",
       "<table border=\"1\" class=\"dataframe\">\n",
       "  <thead>\n",
       "    <tr style=\"text-align: right;\">\n",
       "      <th></th>\n",
       "      <th>country</th>\n",
       "      <th>timestamp</th>\n",
       "      <th>group</th>\n",
       "      <th>landing_page</th>\n",
       "      <th>converted</th>\n",
       "      <th>intercept</th>\n",
       "      <th>ab_page</th>\n",
       "      <th>new_page</th>\n",
       "    </tr>\n",
       "    <tr>\n",
       "      <th>user_id</th>\n",
       "      <th></th>\n",
       "      <th></th>\n",
       "      <th></th>\n",
       "      <th></th>\n",
       "      <th></th>\n",
       "      <th></th>\n",
       "      <th></th>\n",
       "      <th></th>\n",
       "    </tr>\n",
       "  </thead>\n",
       "  <tbody>\n",
       "    <tr>\n",
       "      <th>834778</th>\n",
       "      <td>UK</td>\n",
       "      <td>2017-01-14 23:08:43.304998</td>\n",
       "      <td>control</td>\n",
       "      <td>old_page</td>\n",
       "      <td>0</td>\n",
       "      <td>1</td>\n",
       "      <td>0</td>\n",
       "      <td>0</td>\n",
       "    </tr>\n",
       "    <tr>\n",
       "      <th>928468</th>\n",
       "      <td>US</td>\n",
       "      <td>2017-01-23 14:44:16.387854</td>\n",
       "      <td>treatment</td>\n",
       "      <td>new_page</td>\n",
       "      <td>0</td>\n",
       "      <td>1</td>\n",
       "      <td>1</td>\n",
       "      <td>1</td>\n",
       "    </tr>\n",
       "    <tr>\n",
       "      <th>822059</th>\n",
       "      <td>UK</td>\n",
       "      <td>2017-01-16 14:04:14.719771</td>\n",
       "      <td>treatment</td>\n",
       "      <td>new_page</td>\n",
       "      <td>1</td>\n",
       "      <td>1</td>\n",
       "      <td>1</td>\n",
       "      <td>1</td>\n",
       "    </tr>\n",
       "    <tr>\n",
       "      <th>711597</th>\n",
       "      <td>UK</td>\n",
       "      <td>2017-01-22 03:14:24.763511</td>\n",
       "      <td>control</td>\n",
       "      <td>old_page</td>\n",
       "      <td>0</td>\n",
       "      <td>1</td>\n",
       "      <td>0</td>\n",
       "      <td>0</td>\n",
       "    </tr>\n",
       "    <tr>\n",
       "      <th>710616</th>\n",
       "      <td>UK</td>\n",
       "      <td>2017-01-16 13:14:44.000513</td>\n",
       "      <td>treatment</td>\n",
       "      <td>new_page</td>\n",
       "      <td>0</td>\n",
       "      <td>1</td>\n",
       "      <td>1</td>\n",
       "      <td>1</td>\n",
       "    </tr>\n",
       "  </tbody>\n",
       "</table>\n",
       "</div>"
      ],
      "text/plain": [
       "        country                   timestamp      group landing_page  \\\n",
       "user_id                                                               \n",
       "834778       UK  2017-01-14 23:08:43.304998    control     old_page   \n",
       "928468       US  2017-01-23 14:44:16.387854  treatment     new_page   \n",
       "822059       UK  2017-01-16 14:04:14.719771  treatment     new_page   \n",
       "711597       UK  2017-01-22 03:14:24.763511    control     old_page   \n",
       "710616       UK  2017-01-16 13:14:44.000513  treatment     new_page   \n",
       "\n",
       "         converted  intercept  ab_page  new_page  \n",
       "user_id                                           \n",
       "834778           0          1        0         0  \n",
       "928468           0          1        1         1  \n",
       "822059           1          1        1         1  \n",
       "711597           0          1        0         0  \n",
       "710616           0          1        1         1  "
      ]
     },
     "execution_count": 39,
     "metadata": {},
     "output_type": "execute_result"
    }
   ],
   "source": [
    "countries_df = pd.read_csv('./countries.csv') #read the countries file\n",
    "df_new = countries_df.set_index('user_id').join(df3.set_index('user_id'), how='inner') #join the file with df3 using an inner join\n",
    "df_new.head() #verify the country column was added properly"
   ]
  },
  {
   "cell_type": "code",
   "execution_count": 40,
   "metadata": {},
   "outputs": [
    {
     "data": {
      "text/plain": [
       "array(['UK', 'US', 'CA'], dtype=object)"
      ]
     },
     "execution_count": 40,
     "metadata": {},
     "output_type": "execute_result"
    }
   ],
   "source": [
    "df_new['country'].unique() #get the unique values in the country column\n"
   ]
  },
  {
   "cell_type": "code",
   "execution_count": 41,
   "metadata": {},
   "outputs": [],
   "source": [
    "### Create the necessary dummy variables\n",
    "df_new['intercept']=1 #create the intercept\n",
    "df_new[['CA','UK','US']]=pd.get_dummies(df_new['country']) #create the dummy variables "
   ]
  },
  {
   "cell_type": "code",
   "execution_count": 42,
   "metadata": {},
   "outputs": [
    {
     "data": {
      "text/html": [
       "<div>\n",
       "<style scoped>\n",
       "    .dataframe tbody tr th:only-of-type {\n",
       "        vertical-align: middle;\n",
       "    }\n",
       "\n",
       "    .dataframe tbody tr th {\n",
       "        vertical-align: top;\n",
       "    }\n",
       "\n",
       "    .dataframe thead th {\n",
       "        text-align: right;\n",
       "    }\n",
       "</style>\n",
       "<table border=\"1\" class=\"dataframe\">\n",
       "  <thead>\n",
       "    <tr style=\"text-align: right;\">\n",
       "      <th></th>\n",
       "      <th>country</th>\n",
       "      <th>timestamp</th>\n",
       "      <th>group</th>\n",
       "      <th>landing_page</th>\n",
       "      <th>converted</th>\n",
       "      <th>intercept</th>\n",
       "      <th>ab_page</th>\n",
       "      <th>new_page</th>\n",
       "      <th>CA</th>\n",
       "      <th>UK</th>\n",
       "      <th>US</th>\n",
       "    </tr>\n",
       "    <tr>\n",
       "      <th>user_id</th>\n",
       "      <th></th>\n",
       "      <th></th>\n",
       "      <th></th>\n",
       "      <th></th>\n",
       "      <th></th>\n",
       "      <th></th>\n",
       "      <th></th>\n",
       "      <th></th>\n",
       "      <th></th>\n",
       "      <th></th>\n",
       "      <th></th>\n",
       "    </tr>\n",
       "  </thead>\n",
       "  <tbody>\n",
       "    <tr>\n",
       "      <th>834778</th>\n",
       "      <td>UK</td>\n",
       "      <td>2017-01-14 23:08:43.304998</td>\n",
       "      <td>control</td>\n",
       "      <td>old_page</td>\n",
       "      <td>0</td>\n",
       "      <td>1</td>\n",
       "      <td>0</td>\n",
       "      <td>0</td>\n",
       "      <td>0</td>\n",
       "      <td>1</td>\n",
       "      <td>0</td>\n",
       "    </tr>\n",
       "    <tr>\n",
       "      <th>928468</th>\n",
       "      <td>US</td>\n",
       "      <td>2017-01-23 14:44:16.387854</td>\n",
       "      <td>treatment</td>\n",
       "      <td>new_page</td>\n",
       "      <td>0</td>\n",
       "      <td>1</td>\n",
       "      <td>1</td>\n",
       "      <td>1</td>\n",
       "      <td>0</td>\n",
       "      <td>0</td>\n",
       "      <td>1</td>\n",
       "    </tr>\n",
       "    <tr>\n",
       "      <th>822059</th>\n",
       "      <td>UK</td>\n",
       "      <td>2017-01-16 14:04:14.719771</td>\n",
       "      <td>treatment</td>\n",
       "      <td>new_page</td>\n",
       "      <td>1</td>\n",
       "      <td>1</td>\n",
       "      <td>1</td>\n",
       "      <td>1</td>\n",
       "      <td>0</td>\n",
       "      <td>1</td>\n",
       "      <td>0</td>\n",
       "    </tr>\n",
       "    <tr>\n",
       "      <th>711597</th>\n",
       "      <td>UK</td>\n",
       "      <td>2017-01-22 03:14:24.763511</td>\n",
       "      <td>control</td>\n",
       "      <td>old_page</td>\n",
       "      <td>0</td>\n",
       "      <td>1</td>\n",
       "      <td>0</td>\n",
       "      <td>0</td>\n",
       "      <td>0</td>\n",
       "      <td>1</td>\n",
       "      <td>0</td>\n",
       "    </tr>\n",
       "    <tr>\n",
       "      <th>710616</th>\n",
       "      <td>UK</td>\n",
       "      <td>2017-01-16 13:14:44.000513</td>\n",
       "      <td>treatment</td>\n",
       "      <td>new_page</td>\n",
       "      <td>0</td>\n",
       "      <td>1</td>\n",
       "      <td>1</td>\n",
       "      <td>1</td>\n",
       "      <td>0</td>\n",
       "      <td>1</td>\n",
       "      <td>0</td>\n",
       "    </tr>\n",
       "  </tbody>\n",
       "</table>\n",
       "</div>"
      ],
      "text/plain": [
       "        country                   timestamp      group landing_page  \\\n",
       "user_id                                                               \n",
       "834778       UK  2017-01-14 23:08:43.304998    control     old_page   \n",
       "928468       US  2017-01-23 14:44:16.387854  treatment     new_page   \n",
       "822059       UK  2017-01-16 14:04:14.719771  treatment     new_page   \n",
       "711597       UK  2017-01-22 03:14:24.763511    control     old_page   \n",
       "710616       UK  2017-01-16 13:14:44.000513  treatment     new_page   \n",
       "\n",
       "         converted  intercept  ab_page  new_page  CA  UK  US  \n",
       "user_id                                                       \n",
       "834778           0          1        0         0   0   1   0  \n",
       "928468           0          1        1         1   0   0   1  \n",
       "822059           1          1        1         1   0   1   0  \n",
       "711597           0          1        0         0   0   1   0  \n",
       "710616           0          1        1         1   0   1   0  "
      ]
     },
     "execution_count": 42,
     "metadata": {},
     "output_type": "execute_result"
    }
   ],
   "source": [
    "df_new.head() #verify the dummy variables were added properly"
   ]
  },
  {
   "cell_type": "code",
   "execution_count": 43,
   "metadata": {},
   "outputs": [
    {
     "name": "stdout",
     "output_type": "stream",
     "text": [
      "Optimization terminated successfully.\n",
      "         Current function value: 0.366113\n",
      "         Iterations 6\n"
     ]
    },
    {
     "data": {
      "text/html": [
       "<table class=\"simpletable\">\n",
       "<caption>Logit Regression Results</caption>\n",
       "<tr>\n",
       "  <th>Dep. Variable:</th>     <td>converted</td>    <th>  No. Observations:  </th>   <td>290584</td>   \n",
       "</tr>\n",
       "<tr>\n",
       "  <th>Model:</th>               <td>Logit</td>      <th>  Df Residuals:      </th>   <td>290580</td>   \n",
       "</tr>\n",
       "<tr>\n",
       "  <th>Method:</th>               <td>MLE</td>       <th>  Df Model:          </th>   <td>     3</td>   \n",
       "</tr>\n",
       "<tr>\n",
       "  <th>Date:</th>          <td>Sat, 12 Jan 2019</td> <th>  Pseudo R-squ.:     </th>  <td>2.323e-05</td> \n",
       "</tr>\n",
       "<tr>\n",
       "  <th>Time:</th>              <td>15:38:50</td>     <th>  Log-Likelihood:    </th> <td>-1.0639e+05</td>\n",
       "</tr>\n",
       "<tr>\n",
       "  <th>converged:</th>           <td>True</td>       <th>  LL-Null:           </th> <td>-1.0639e+05</td>\n",
       "</tr>\n",
       "<tr>\n",
       "  <th> </th>                      <td> </td>        <th>  LLR p-value:       </th>   <td>0.1760</td>   \n",
       "</tr>\n",
       "</table>\n",
       "<table class=\"simpletable\">\n",
       "<tr>\n",
       "      <td></td>         <th>coef</th>     <th>std err</th>      <th>z</th>      <th>P>|z|</th>  <th>[0.025</th>    <th>0.975]</th>  \n",
       "</tr>\n",
       "<tr>\n",
       "  <th>intercept</th> <td>   -2.0300</td> <td>    0.027</td> <td>  -76.249</td> <td> 0.000</td> <td>   -2.082</td> <td>   -1.978</td>\n",
       "</tr>\n",
       "<tr>\n",
       "  <th>new_page</th>  <td>   -0.0149</td> <td>    0.011</td> <td>   -1.307</td> <td> 0.191</td> <td>   -0.037</td> <td>    0.007</td>\n",
       "</tr>\n",
       "<tr>\n",
       "  <th>UK</th>        <td>    0.0506</td> <td>    0.028</td> <td>    1.784</td> <td> 0.074</td> <td>   -0.005</td> <td>    0.106</td>\n",
       "</tr>\n",
       "<tr>\n",
       "  <th>US</th>        <td>    0.0408</td> <td>    0.027</td> <td>    1.516</td> <td> 0.130</td> <td>   -0.012</td> <td>    0.093</td>\n",
       "</tr>\n",
       "</table>"
      ],
      "text/plain": [
       "<class 'statsmodels.iolib.summary.Summary'>\n",
       "\"\"\"\n",
       "                           Logit Regression Results                           \n",
       "==============================================================================\n",
       "Dep. Variable:              converted   No. Observations:               290584\n",
       "Model:                          Logit   Df Residuals:                   290580\n",
       "Method:                           MLE   Df Model:                            3\n",
       "Date:                Sat, 12 Jan 2019   Pseudo R-squ.:               2.323e-05\n",
       "Time:                        15:38:50   Log-Likelihood:            -1.0639e+05\n",
       "converged:                       True   LL-Null:                   -1.0639e+05\n",
       "                                        LLR p-value:                    0.1760\n",
       "==============================================================================\n",
       "                 coef    std err          z      P>|z|      [0.025      0.975]\n",
       "------------------------------------------------------------------------------\n",
       "intercept     -2.0300      0.027    -76.249      0.000      -2.082      -1.978\n",
       "new_page      -0.0149      0.011     -1.307      0.191      -0.037       0.007\n",
       "UK             0.0506      0.028      1.784      0.074      -0.005       0.106\n",
       "US             0.0408      0.027      1.516      0.130      -0.012       0.093\n",
       "==============================================================================\n",
       "\"\"\""
      ]
     },
     "execution_count": 43,
     "metadata": {},
     "output_type": "execute_result"
    }
   ],
   "source": [
    "#use logistic regression model to get the summary of results\n",
    "log_mod2 = sm.Logit(df_new['converted'], df_new[['intercept','new_page','UK','US']]) #drop one of the columns \n",
    "results = log_mod2.fit()\n",
    "results.summary() #print the results"
   ]
  },
  {
   "cell_type": "code",
   "execution_count": 44,
   "metadata": {},
   "outputs": [
    {
     "data": {
      "text/plain": [
       "(1.001501125562711, 1.0519020483004984, 1.0416437559600236)"
      ]
     },
     "execution_count": 44,
     "metadata": {},
     "output_type": "execute_result"
    }
   ],
   "source": [
    "#calculate the exponential to interpret the values. Use the reciprical for negative values and change to every unit decrease\n",
    "1/np.exp(-0.0015), np.exp(0.0506), np.exp(0.0408)"
   ]
  },
  {
   "cell_type": "markdown",
   "metadata": {},
   "source": [
    "**For every one unit decrease on the new_page, converting is expected to be 1.0015 times more likely holding all other variables constant.**\n",
    "\n",
    "**For every one unit increase for UK, converting is expected to be 1.0519 times more likely holding all other variables constant.**\n",
    "\n",
    "**For every one unit increase for US, converting is expected to be 1.0416 times more likely holding all other variables constant.**"
   ]
  },
  {
   "cell_type": "markdown",
   "metadata": {},
   "source": [
    "h. Though you have now looked at the individual factors of country and page on conversion, we would now like to look at an interaction between page and country to see if there significant effects on conversion.  Create the necessary additional columns, and fit the new model.  \n",
    "\n",
    "Provide the summary results, and your conclusions based on the results."
   ]
  },
  {
   "cell_type": "code",
   "execution_count": 45,
   "metadata": {},
   "outputs": [],
   "source": [
    "### Fit Your Linear Model And Obtain the Results\n",
    "\n",
    "#create high order terms or interaction variables by multiplying country and new_page\n",
    "df_new['uk_new'] = df_new['UK']*df_new['new_page']\n",
    "df_new['us_new'] = df_new['US']*df_new['new_page']"
   ]
  },
  {
   "cell_type": "code",
   "execution_count": 46,
   "metadata": {},
   "outputs": [
    {
     "data": {
      "text/html": [
       "<table class=\"simpletable\">\n",
       "<caption>OLS Regression Results</caption>\n",
       "<tr>\n",
       "  <th>Dep. Variable:</th>        <td>converted</td>    <th>  R-squared:         </th> <td>   0.000</td> \n",
       "</tr>\n",
       "<tr>\n",
       "  <th>Model:</th>                   <td>OLS</td>       <th>  Adj. R-squared:    </th> <td>   0.000</td> \n",
       "</tr>\n",
       "<tr>\n",
       "  <th>Method:</th>             <td>Least Squares</td>  <th>  F-statistic:       </th> <td>   1.466</td> \n",
       "</tr>\n",
       "<tr>\n",
       "  <th>Date:</th>             <td>Sat, 12 Jan 2019</td> <th>  Prob (F-statistic):</th>  <td> 0.197</td>  \n",
       "</tr>\n",
       "<tr>\n",
       "  <th>Time:</th>                 <td>15:38:50</td>     <th>  Log-Likelihood:    </th> <td> -85265.</td> \n",
       "</tr>\n",
       "<tr>\n",
       "  <th>No. Observations:</th>      <td>290584</td>      <th>  AIC:               </th> <td>1.705e+05</td>\n",
       "</tr>\n",
       "<tr>\n",
       "  <th>Df Residuals:</th>          <td>290578</td>      <th>  BIC:               </th> <td>1.706e+05</td>\n",
       "</tr>\n",
       "<tr>\n",
       "  <th>Df Model:</th>              <td>     5</td>      <th>                     </th>     <td> </td>    \n",
       "</tr>\n",
       "<tr>\n",
       "  <th>Covariance Type:</th>      <td>nonrobust</td>    <th>                     </th>     <td> </td>    \n",
       "</tr>\n",
       "</table>\n",
       "<table class=\"simpletable\">\n",
       "<tr>\n",
       "      <td></td>         <th>coef</th>     <th>std err</th>      <th>t</th>      <th>P>|t|</th>  <th>[0.025</th>    <th>0.975]</th>  \n",
       "</tr>\n",
       "<tr>\n",
       "  <th>intercept</th> <td>    0.1188</td> <td>    0.004</td> <td>   31.057</td> <td> 0.000</td> <td>    0.111</td> <td>    0.126</td>\n",
       "</tr>\n",
       "<tr>\n",
       "  <th>new_page</th>  <td>   -0.0069</td> <td>    0.005</td> <td>   -1.277</td> <td> 0.202</td> <td>   -0.017</td> <td>    0.004</td>\n",
       "</tr>\n",
       "<tr>\n",
       "  <th>uk_new</th>    <td>    0.0080</td> <td>    0.006</td> <td>    1.360</td> <td> 0.174</td> <td>   -0.004</td> <td>    0.020</td>\n",
       "</tr>\n",
       "<tr>\n",
       "  <th>us_new</th>    <td>    0.0047</td> <td>    0.006</td> <td>    0.845</td> <td> 0.398</td> <td>   -0.006</td> <td>    0.016</td>\n",
       "</tr>\n",
       "<tr>\n",
       "  <th>UK</th>        <td>    0.0012</td> <td>    0.004</td> <td>    0.296</td> <td> 0.767</td> <td>   -0.007</td> <td>    0.009</td>\n",
       "</tr>\n",
       "<tr>\n",
       "  <th>US</th>        <td>    0.0018</td> <td>    0.004</td> <td>    0.467</td> <td> 0.641</td> <td>   -0.006</td> <td>    0.010</td>\n",
       "</tr>\n",
       "</table>\n",
       "<table class=\"simpletable\">\n",
       "<tr>\n",
       "  <th>Omnibus:</th>       <td>125549.436</td> <th>  Durbin-Watson:     </th>  <td>   1.996</td> \n",
       "</tr>\n",
       "<tr>\n",
       "  <th>Prob(Omnibus):</th>   <td> 0.000</td>   <th>  Jarque-Bera (JB):  </th> <td>414285.945</td>\n",
       "</tr>\n",
       "<tr>\n",
       "  <th>Skew:</th>            <td> 2.345</td>   <th>  Prob(JB):          </th>  <td>    0.00</td> \n",
       "</tr>\n",
       "<tr>\n",
       "  <th>Kurtosis:</th>        <td> 6.497</td>   <th>  Cond. No.          </th>  <td>    26.1</td> \n",
       "</tr>\n",
       "</table><br/><br/>Warnings:<br/>[1] Standard Errors assume that the covariance matrix of the errors is correctly specified."
      ],
      "text/plain": [
       "<class 'statsmodels.iolib.summary.Summary'>\n",
       "\"\"\"\n",
       "                            OLS Regression Results                            \n",
       "==============================================================================\n",
       "Dep. Variable:              converted   R-squared:                       0.000\n",
       "Model:                            OLS   Adj. R-squared:                  0.000\n",
       "Method:                 Least Squares   F-statistic:                     1.466\n",
       "Date:                Sat, 12 Jan 2019   Prob (F-statistic):              0.197\n",
       "Time:                        15:38:50   Log-Likelihood:                -85265.\n",
       "No. Observations:              290584   AIC:                         1.705e+05\n",
       "Df Residuals:                  290578   BIC:                         1.706e+05\n",
       "Df Model:                           5                                         \n",
       "Covariance Type:            nonrobust                                         \n",
       "==============================================================================\n",
       "                 coef    std err          t      P>|t|      [0.025      0.975]\n",
       "------------------------------------------------------------------------------\n",
       "intercept      0.1188      0.004     31.057      0.000       0.111       0.126\n",
       "new_page      -0.0069      0.005     -1.277      0.202      -0.017       0.004\n",
       "uk_new         0.0080      0.006      1.360      0.174      -0.004       0.020\n",
       "us_new         0.0047      0.006      0.845      0.398      -0.006       0.016\n",
       "UK             0.0012      0.004      0.296      0.767      -0.007       0.009\n",
       "US             0.0018      0.004      0.467      0.641      -0.006       0.010\n",
       "==============================================================================\n",
       "Omnibus:                   125549.436   Durbin-Watson:                   1.996\n",
       "Prob(Omnibus):                  0.000   Jarque-Bera (JB):           414285.945\n",
       "Skew:                           2.345   Prob(JB):                         0.00\n",
       "Kurtosis:                       6.497   Cond. No.                         26.1\n",
       "==============================================================================\n",
       "\n",
       "Warnings:\n",
       "[1] Standard Errors assume that the covariance matrix of the errors is correctly specified.\n",
       "\"\"\""
      ]
     },
     "execution_count": 46,
     "metadata": {},
     "output_type": "execute_result"
    }
   ],
   "source": [
    "#use the OLS model for the higher order terms\n",
    "lm = sm.OLS(df_new['converted'],df_new[['intercept','new_page','uk_new','us_new','UK','US']])\n",
    "results = lm.fit() \n",
    "results.summary() #print the summary"
   ]
  },
  {
   "cell_type": "markdown",
   "metadata": {},
   "source": [
    "**The higher order terms are not easily interpretable.**\n",
    "\n",
    "**The p-values for all variables are not less than 0.05 so they are not statistically significant.**\n",
    "\n",
    "**Convert for UK users is .0012 times more likely than CA users**\n",
    "**Convert for US users is .0018 times more likely than CA users**"
   ]
  },
  {
   "cell_type": "markdown",
   "metadata": {},
   "source": [
    "<a id='conclusions'></a>\n",
    "## Conclusions\n",
    "\n",
    "Congratulations on completing the project! \n",
    "\n",
    "### Gather Submission Materials\n",
    "\n",
    "Once you are satisfied with the status of your Notebook, you should save it in a format that will make it easy for others to read. You can use the __File -> Download as -> HTML (.html)__ menu to save your notebook as an .html file. If you are working locally and get an error about \"No module name\", then open a terminal and try installing the missing module using `pip install <module_name>` (don't include the \"<\" or \">\" or any words following a period in the module name).\n",
    "\n",
    "You will submit both your original Notebook and an HTML or PDF copy of the Notebook for review. There is no need for you to include any data files with your submission. If you made reference to other websites, books, and other resources to help you in solving tasks in the project, make sure that you document them. It is recommended that you either add a \"Resources\" section in a Markdown cell at the end of the Notebook report, or you can include a `readme.txt` file documenting your sources.\n",
    "\n",
    "### Submit the Project\n",
    "\n",
    "When you're ready, click on the \"Submit Project\" button to go to the project submission page. You can submit your files as a .zip archive or you can link to a GitHub repository containing your project files. If you go with GitHub, note that your submission will be a snapshot of the linked repository at time of submission. It is recommended that you keep each project in a separate repository to avoid any potential confusion: if a reviewer gets multiple folders representing multiple projects, there might be confusion regarding what project is to be evaluated.\n",
    "\n",
    "It can take us up to a week to grade the project, but in most cases it is much faster. You will get an email once your submission has been reviewed. If you are having any problems submitting your project or wish to check on the status of your submission, please email us at dataanalyst-project@udacity.com. In the meantime, you should feel free to continue on with your learning journey by beginning the next module in the program."
   ]
  },
  {
   "cell_type": "markdown",
   "metadata": {
    "collapsed": true
   },
   "source": [
    "**References used: GitHub, StackOverflow, Student Knowledge Center on Udacity**"
   ]
  },
  {
   "cell_type": "code",
   "execution_count": null,
   "metadata": {},
   "outputs": [],
   "source": []
  }
 ],
 "metadata": {
  "kernelspec": {
   "display_name": "Python 3",
   "language": "python",
   "name": "python3"
  },
  "language_info": {
   "codemirror_mode": {
    "name": "ipython",
    "version": 3
   },
   "file_extension": ".py",
   "mimetype": "text/x-python",
   "name": "python",
   "nbconvert_exporter": "python",
   "pygments_lexer": "ipython3",
   "version": "3.7.0"
  }
 },
 "nbformat": 4,
 "nbformat_minor": 2
}
