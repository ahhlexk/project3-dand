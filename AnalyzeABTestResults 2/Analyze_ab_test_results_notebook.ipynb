{
 "cells": [
  {
   "cell_type": "markdown",
   "metadata": {},
   "source": [
    "## Analyze A/B Test Results\n",
    "\n",
    "This project will assure you have mastered the subjects covered in the statistics lessons.  The hope is to have this project be as comprehensive of these topics as possible.  Good luck!\n",
    "\n",
    "## Table of Contents\n",
    "- [Introduction](#intro)\n",
    "- [Part I - Probability](#probability)\n",
    "- [Part II - A/B Test](#ab_test)\n",
    "- [Part III - Regression](#regression)\n",
    "\n",
    "\n",
    "<a id='intro'></a>\n",
    "### Introduction\n",
    "\n",
    "A/B tests are very commonly performed by data analysts and data scientists.  It is important that you get some practice working with the difficulties of these \n",
    "\n",
    "For this project, you will be working to understand the results of an A/B test run by an e-commerce website.  Your goal is to work through this notebook to help the company understand if they should implement the new page, keep the old page, or perhaps run the experiment longer to make their decision.\n",
    "\n",
    "**As you work through this notebook, follow along in the classroom and answer the corresponding quiz questions associated with each question.** The labels for each classroom concept are provided for each question.  This will assure you are on the right track as you work through the project, and you can feel more confident in your final submission meeting the criteria.  As a final check, assure you meet all the criteria on the [RUBRIC](https://review.udacity.com/#!/projects/37e27304-ad47-4eb0-a1ab-8c12f60e43d0/rubric).\n",
    "\n",
    "<a id='probability'></a>\n",
    "#### Part I - Probability\n",
    "\n",
    "To get started, let's import our libraries."
   ]
  },
  {
   "cell_type": "code",
   "execution_count": 1,
   "metadata": {},
   "outputs": [],
   "source": [
    "import pandas as pd\n",
    "import numpy as np\n",
    "import random\n",
    "import matplotlib.pyplot as plt\n",
    "%matplotlib inline\n",
    "#We are setting the seed to assure you get the same answers on quizzes as we set up\n",
    "random.seed(42)"
   ]
  },
  {
   "cell_type": "markdown",
   "metadata": {},
   "source": [
    "`1.` Now, read in the `ab_data.csv` data. Store it in `df`.  **Use your dataframe to answer the questions in Quiz 1 of the classroom.**\n",
    "\n",
    "a. Read in the dataset and take a look at the top few rows here:"
   ]
  },
  {
   "cell_type": "code",
   "execution_count": 2,
   "metadata": {},
   "outputs": [
    {
     "data": {
      "text/html": [
       "<div>\n",
       "<style scoped>\n",
       "    .dataframe tbody tr th:only-of-type {\n",
       "        vertical-align: middle;\n",
       "    }\n",
       "\n",
       "    .dataframe tbody tr th {\n",
       "        vertical-align: top;\n",
       "    }\n",
       "\n",
       "    .dataframe thead th {\n",
       "        text-align: right;\n",
       "    }\n",
       "</style>\n",
       "<table border=\"1\" class=\"dataframe\">\n",
       "  <thead>\n",
       "    <tr style=\"text-align: right;\">\n",
       "      <th></th>\n",
       "      <th>user_id</th>\n",
       "      <th>timestamp</th>\n",
       "      <th>group</th>\n",
       "      <th>landing_page</th>\n",
       "      <th>converted</th>\n",
       "    </tr>\n",
       "  </thead>\n",
       "  <tbody>\n",
       "    <tr>\n",
       "      <th>0</th>\n",
       "      <td>851104</td>\n",
       "      <td>2017-01-21 22:11:48.556739</td>\n",
       "      <td>control</td>\n",
       "      <td>old_page</td>\n",
       "      <td>0</td>\n",
       "    </tr>\n",
       "    <tr>\n",
       "      <th>1</th>\n",
       "      <td>804228</td>\n",
       "      <td>2017-01-12 08:01:45.159739</td>\n",
       "      <td>control</td>\n",
       "      <td>old_page</td>\n",
       "      <td>0</td>\n",
       "    </tr>\n",
       "    <tr>\n",
       "      <th>2</th>\n",
       "      <td>661590</td>\n",
       "      <td>2017-01-11 16:55:06.154213</td>\n",
       "      <td>treatment</td>\n",
       "      <td>new_page</td>\n",
       "      <td>0</td>\n",
       "    </tr>\n",
       "    <tr>\n",
       "      <th>3</th>\n",
       "      <td>853541</td>\n",
       "      <td>2017-01-08 18:28:03.143765</td>\n",
       "      <td>treatment</td>\n",
       "      <td>new_page</td>\n",
       "      <td>0</td>\n",
       "    </tr>\n",
       "    <tr>\n",
       "      <th>4</th>\n",
       "      <td>864975</td>\n",
       "      <td>2017-01-21 01:52:26.210827</td>\n",
       "      <td>control</td>\n",
       "      <td>old_page</td>\n",
       "      <td>1</td>\n",
       "    </tr>\n",
       "  </tbody>\n",
       "</table>\n",
       "</div>"
      ],
      "text/plain": [
       "   user_id                   timestamp      group landing_page  converted\n",
       "0   851104  2017-01-21 22:11:48.556739    control     old_page          0\n",
       "1   804228  2017-01-12 08:01:45.159739    control     old_page          0\n",
       "2   661590  2017-01-11 16:55:06.154213  treatment     new_page          0\n",
       "3   853541  2017-01-08 18:28:03.143765  treatment     new_page          0\n",
       "4   864975  2017-01-21 01:52:26.210827    control     old_page          1"
      ]
     },
     "execution_count": 2,
     "metadata": {},
     "output_type": "execute_result"
    }
   ],
   "source": [
    "df = pd.read_csv('./ab_data.csv') #read the ab_data file\n",
    "df.head() #ensure the file loaded into df"
   ]
  },
  {
   "cell_type": "markdown",
   "metadata": {},
   "source": [
    "b. Use the below cell to find the number of rows in the dataset."
   ]
  },
  {
   "cell_type": "code",
   "execution_count": 3,
   "metadata": {},
   "outputs": [
    {
     "data": {
      "text/plain": [
       "294478"
      ]
     },
     "execution_count": 3,
     "metadata": {},
     "output_type": "execute_result"
    }
   ],
   "source": [
    "df.shape[0] #find the number of rows"
   ]
  },
  {
   "cell_type": "markdown",
   "metadata": {},
   "source": [
    "c. The number of unique users in the dataset."
   ]
  },
  {
   "cell_type": "code",
   "execution_count": 4,
   "metadata": {},
   "outputs": [
    {
     "data": {
      "text/plain": [
       "290584"
      ]
     },
     "execution_count": 4,
     "metadata": {},
     "output_type": "execute_result"
    }
   ],
   "source": [
    "df['user_id'].nunique() #find unique values for user_id column"
   ]
  },
  {
   "cell_type": "markdown",
   "metadata": {
    "collapsed": true
   },
   "source": [
    "d. The proportion of users converted."
   ]
  },
  {
   "cell_type": "code",
   "execution_count": 5,
   "metadata": {},
   "outputs": [
    {
     "data": {
      "text/plain": [
       "0.11965919355605512"
      ]
     },
     "execution_count": 5,
     "metadata": {},
     "output_type": "execute_result"
    }
   ],
   "source": [
    "df['converted'].mean() #proportion of users converted"
   ]
  },
  {
   "cell_type": "markdown",
   "metadata": {
    "collapsed": true
   },
   "source": [
    "e. The number of times the `new_page` and `treatment` don't line up."
   ]
  },
  {
   "cell_type": "code",
   "execution_count": 6,
   "metadata": {},
   "outputs": [
    {
     "data": {
      "text/plain": [
       "3893"
      ]
     },
     "execution_count": 6,
     "metadata": {},
     "output_type": "execute_result"
    }
   ],
   "source": [
    "#\n",
    "df.query('group == \"treatment\" and landing_page != \"new_page\"').count()['user_id'] + df.query('group != \"treatment\" and landing_page == \"new_page\"').count()['user_id']"
   ]
  },
  {
   "cell_type": "markdown",
   "metadata": {},
   "source": [
    "f. Do any of the rows have missing values?"
   ]
  },
  {
   "cell_type": "code",
   "execution_count": 7,
   "metadata": {},
   "outputs": [
    {
     "name": "stdout",
     "output_type": "stream",
     "text": [
      "<class 'pandas.core.frame.DataFrame'>\n",
      "RangeIndex: 294478 entries, 0 to 294477\n",
      "Data columns (total 5 columns):\n",
      "user_id         294478 non-null int64\n",
      "timestamp       294478 non-null object\n",
      "group           294478 non-null object\n",
      "landing_page    294478 non-null object\n",
      "converted       294478 non-null int64\n",
      "dtypes: int64(2), object(3)\n",
      "memory usage: 11.2+ MB\n"
     ]
    }
   ],
   "source": [
    "df.info() #check if any of the rows have missing values"
   ]
  },
  {
   "cell_type": "markdown",
   "metadata": {},
   "source": [
    "`2.` For the rows where **treatment** is not aligned with **new_page** or **control** is not aligned with **old_page**, we cannot be sure if this row truly received the new or old page.  Use **Quiz 2** in the classroom to provide how we should handle these rows.  \n",
    "\n",
    "a. Now use the answer to the quiz to create a new dataset that meets the specifications from the quiz.  Store your new dataframe in **df2**."
   ]
  },
  {
   "cell_type": "code",
   "execution_count": 8,
   "metadata": {},
   "outputs": [
    {
     "data": {
      "text/plain": [
       "290585"
      ]
     },
     "execution_count": 8,
     "metadata": {},
     "output_type": "execute_result"
    }
   ],
   "source": [
    "df2 = df.query('(group==\"treatment\" and landing_page==\"new_page\") or (group==\"control\" and landing_page==\"old_page\")')\n",
    "df2.head()\n",
    "df2.shape[0]"
   ]
  },
  {
   "cell_type": "code",
   "execution_count": 9,
   "metadata": {},
   "outputs": [
    {
     "data": {
      "text/plain": [
       "0"
      ]
     },
     "execution_count": 9,
     "metadata": {},
     "output_type": "execute_result"
    }
   ],
   "source": [
    "# Double Check all of the correct rows were removed - this should be 0\n",
    "df2[((df2['group'] == 'treatment') == (df2['landing_page'] == 'new_page')) == False].shape[0]"
   ]
  },
  {
   "cell_type": "markdown",
   "metadata": {},
   "source": [
    "`3.` Use **df2** and the cells below to answer questions for **Quiz3** in the classroom."
   ]
  },
  {
   "cell_type": "markdown",
   "metadata": {},
   "source": [
    "a. How many unique **user_id**s are in **df2**?"
   ]
  },
  {
   "cell_type": "code",
   "execution_count": 10,
   "metadata": {},
   "outputs": [
    {
     "data": {
      "text/plain": [
       "290584"
      ]
     },
     "execution_count": 10,
     "metadata": {},
     "output_type": "execute_result"
    }
   ],
   "source": [
    "df2['user_id'].nunique() #use nunique on the df to get the count of unique values"
   ]
  },
  {
   "cell_type": "markdown",
   "metadata": {
    "collapsed": true
   },
   "source": [
    "b. There is one **user_id** repeated in **df2**.  What is it?"
   ]
  },
  {
   "cell_type": "code",
   "execution_count": 11,
   "metadata": {},
   "outputs": [
    {
     "data": {
      "text/html": [
       "<div>\n",
       "<style scoped>\n",
       "    .dataframe tbody tr th:only-of-type {\n",
       "        vertical-align: middle;\n",
       "    }\n",
       "\n",
       "    .dataframe tbody tr th {\n",
       "        vertical-align: top;\n",
       "    }\n",
       "\n",
       "    .dataframe thead th {\n",
       "        text-align: right;\n",
       "    }\n",
       "</style>\n",
       "<table border=\"1\" class=\"dataframe\">\n",
       "  <thead>\n",
       "    <tr style=\"text-align: right;\">\n",
       "      <th></th>\n",
       "      <th>user_id</th>\n",
       "      <th>timestamp</th>\n",
       "      <th>group</th>\n",
       "      <th>landing_page</th>\n",
       "      <th>converted</th>\n",
       "    </tr>\n",
       "  </thead>\n",
       "  <tbody>\n",
       "    <tr>\n",
       "      <th>2893</th>\n",
       "      <td>773192</td>\n",
       "      <td>2017-01-14 02:55:59.590927</td>\n",
       "      <td>treatment</td>\n",
       "      <td>new_page</td>\n",
       "      <td>0</td>\n",
       "    </tr>\n",
       "  </tbody>\n",
       "</table>\n",
       "</div>"
      ],
      "text/plain": [
       "      user_id                   timestamp      group landing_page  converted\n",
       "2893   773192  2017-01-14 02:55:59.590927  treatment     new_page          0"
      ]
     },
     "execution_count": 11,
     "metadata": {},
     "output_type": "execute_result"
    }
   ],
   "source": [
    "df2[df2['user_id'].duplicated()] #find the duplicated user_id using duplicated"
   ]
  },
  {
   "cell_type": "markdown",
   "metadata": {},
   "source": [
    "c. What is the row information for the repeat **user_id**? "
   ]
  },
  {
   "cell_type": "code",
   "execution_count": 12,
   "metadata": {},
   "outputs": [
    {
     "data": {
      "text/html": [
       "<div>\n",
       "<style scoped>\n",
       "    .dataframe tbody tr th:only-of-type {\n",
       "        vertical-align: middle;\n",
       "    }\n",
       "\n",
       "    .dataframe tbody tr th {\n",
       "        vertical-align: top;\n",
       "    }\n",
       "\n",
       "    .dataframe thead th {\n",
       "        text-align: right;\n",
       "    }\n",
       "</style>\n",
       "<table border=\"1\" class=\"dataframe\">\n",
       "  <thead>\n",
       "    <tr style=\"text-align: right;\">\n",
       "      <th></th>\n",
       "      <th>user_id</th>\n",
       "      <th>timestamp</th>\n",
       "      <th>group</th>\n",
       "      <th>landing_page</th>\n",
       "      <th>converted</th>\n",
       "    </tr>\n",
       "  </thead>\n",
       "  <tbody>\n",
       "    <tr>\n",
       "      <th>1899</th>\n",
       "      <td>773192</td>\n",
       "      <td>2017-01-09 05:37:58.781806</td>\n",
       "      <td>treatment</td>\n",
       "      <td>new_page</td>\n",
       "      <td>0</td>\n",
       "    </tr>\n",
       "    <tr>\n",
       "      <th>2893</th>\n",
       "      <td>773192</td>\n",
       "      <td>2017-01-14 02:55:59.590927</td>\n",
       "      <td>treatment</td>\n",
       "      <td>new_page</td>\n",
       "      <td>0</td>\n",
       "    </tr>\n",
       "  </tbody>\n",
       "</table>\n",
       "</div>"
      ],
      "text/plain": [
       "      user_id                   timestamp      group landing_page  converted\n",
       "1899   773192  2017-01-09 05:37:58.781806  treatment     new_page          0\n",
       "2893   773192  2017-01-14 02:55:59.590927  treatment     new_page          0"
      ]
     },
     "execution_count": 12,
     "metadata": {},
     "output_type": "execute_result"
    }
   ],
   "source": [
    "df2.query('user_id == 773192') #use query to ensure rows with the same user_id are duplicates"
   ]
  },
  {
   "cell_type": "markdown",
   "metadata": {},
   "source": [
    "d. Remove **one** of the rows with a duplicate **user_id**, but keep your dataframe as **df2**."
   ]
  },
  {
   "cell_type": "code",
   "execution_count": 13,
   "metadata": {},
   "outputs": [
    {
     "name": "stderr",
     "output_type": "stream",
     "text": [
      "/Users/ajkim/anaconda3/lib/python3.7/site-packages/ipykernel_launcher.py:1: SettingWithCopyWarning: \n",
      "A value is trying to be set on a copy of a slice from a DataFrame\n",
      "\n",
      "See the caveats in the documentation: http://pandas.pydata.org/pandas-docs/stable/indexing.html#indexing-view-versus-copy\n",
      "  \"\"\"Entry point for launching an IPython kernel.\n"
     ]
    },
    {
     "data": {
      "text/html": [
       "<div>\n",
       "<style scoped>\n",
       "    .dataframe tbody tr th:only-of-type {\n",
       "        vertical-align: middle;\n",
       "    }\n",
       "\n",
       "    .dataframe tbody tr th {\n",
       "        vertical-align: top;\n",
       "    }\n",
       "\n",
       "    .dataframe thead th {\n",
       "        text-align: right;\n",
       "    }\n",
       "</style>\n",
       "<table border=\"1\" class=\"dataframe\">\n",
       "  <thead>\n",
       "    <tr style=\"text-align: right;\">\n",
       "      <th></th>\n",
       "      <th>user_id</th>\n",
       "      <th>timestamp</th>\n",
       "      <th>group</th>\n",
       "      <th>landing_page</th>\n",
       "      <th>converted</th>\n",
       "    </tr>\n",
       "  </thead>\n",
       "  <tbody>\n",
       "    <tr>\n",
       "      <th>0</th>\n",
       "      <td>851104</td>\n",
       "      <td>2017-01-21 22:11:48.556739</td>\n",
       "      <td>control</td>\n",
       "      <td>old_page</td>\n",
       "      <td>0</td>\n",
       "    </tr>\n",
       "    <tr>\n",
       "      <th>1</th>\n",
       "      <td>804228</td>\n",
       "      <td>2017-01-12 08:01:45.159739</td>\n",
       "      <td>control</td>\n",
       "      <td>old_page</td>\n",
       "      <td>0</td>\n",
       "    </tr>\n",
       "    <tr>\n",
       "      <th>2</th>\n",
       "      <td>661590</td>\n",
       "      <td>2017-01-11 16:55:06.154213</td>\n",
       "      <td>treatment</td>\n",
       "      <td>new_page</td>\n",
       "      <td>0</td>\n",
       "    </tr>\n",
       "    <tr>\n",
       "      <th>3</th>\n",
       "      <td>853541</td>\n",
       "      <td>2017-01-08 18:28:03.143765</td>\n",
       "      <td>treatment</td>\n",
       "      <td>new_page</td>\n",
       "      <td>0</td>\n",
       "    </tr>\n",
       "    <tr>\n",
       "      <th>4</th>\n",
       "      <td>864975</td>\n",
       "      <td>2017-01-21 01:52:26.210827</td>\n",
       "      <td>control</td>\n",
       "      <td>old_page</td>\n",
       "      <td>1</td>\n",
       "    </tr>\n",
       "  </tbody>\n",
       "</table>\n",
       "</div>"
      ],
      "text/plain": [
       "   user_id                   timestamp      group landing_page  converted\n",
       "0   851104  2017-01-21 22:11:48.556739    control     old_page          0\n",
       "1   804228  2017-01-12 08:01:45.159739    control     old_page          0\n",
       "2   661590  2017-01-11 16:55:06.154213  treatment     new_page          0\n",
       "3   853541  2017-01-08 18:28:03.143765  treatment     new_page          0\n",
       "4   864975  2017-01-21 01:52:26.210827    control     old_page          1"
      ]
     },
     "execution_count": 13,
     "metadata": {},
     "output_type": "execute_result"
    }
   ],
   "source": [
    "df2.drop_duplicates('user_id', inplace=True) #drop duplicates from user_id column and keep in same df\n",
    "df2.head() #check df is intact"
   ]
  },
  {
   "cell_type": "code",
   "execution_count": 14,
   "metadata": {},
   "outputs": [
    {
     "data": {
      "text/html": [
       "<div>\n",
       "<style scoped>\n",
       "    .dataframe tbody tr th:only-of-type {\n",
       "        vertical-align: middle;\n",
       "    }\n",
       "\n",
       "    .dataframe tbody tr th {\n",
       "        vertical-align: top;\n",
       "    }\n",
       "\n",
       "    .dataframe thead th {\n",
       "        text-align: right;\n",
       "    }\n",
       "</style>\n",
       "<table border=\"1\" class=\"dataframe\">\n",
       "  <thead>\n",
       "    <tr style=\"text-align: right;\">\n",
       "      <th></th>\n",
       "      <th>user_id</th>\n",
       "      <th>timestamp</th>\n",
       "      <th>group</th>\n",
       "      <th>landing_page</th>\n",
       "      <th>converted</th>\n",
       "    </tr>\n",
       "  </thead>\n",
       "  <tbody>\n",
       "  </tbody>\n",
       "</table>\n",
       "</div>"
      ],
      "text/plain": [
       "Empty DataFrame\n",
       "Columns: [user_id, timestamp, group, landing_page, converted]\n",
       "Index: []"
      ]
     },
     "execution_count": 14,
     "metadata": {},
     "output_type": "execute_result"
    }
   ],
   "source": [
    "df2[df2['user_id'].duplicated()] #ensure duplicates are removed"
   ]
  },
  {
   "cell_type": "markdown",
   "metadata": {},
   "source": [
    "`4.` Use **df2** in the below cells to answer the quiz questions related to **Quiz 4** in the classroom.\n",
    "\n",
    "a. What is the probability of an individual converting regardless of the page they receive?"
   ]
  },
  {
   "cell_type": "code",
   "execution_count": 15,
   "metadata": {},
   "outputs": [
    {
     "data": {
      "text/plain": [
       "0.11959708724499628"
      ]
     },
     "execution_count": 15,
     "metadata": {},
     "output_type": "execute_result"
    }
   ],
   "source": [
    "df2['converted'].mean() #find the proportion of the converted column"
   ]
  },
  {
   "cell_type": "markdown",
   "metadata": {},
   "source": [
    "b. Given that an individual was in the `control` group, what is the probability they converted?"
   ]
  },
  {
   "cell_type": "code",
   "execution_count": 16,
   "metadata": {},
   "outputs": [
    {
     "data": {
      "text/plain": [
       "0.1203863045004612"
      ]
     },
     "execution_count": 16,
     "metadata": {},
     "output_type": "execute_result"
    }
   ],
   "source": [
    "df2.query('group == \"control\"').converted.mean() #use query to filter individuals in control group and find the proportion of the converted column"
   ]
  },
  {
   "cell_type": "markdown",
   "metadata": {},
   "source": [
    "c. Given that an individual was in the `treatment` group, what is the probability they converted?"
   ]
  },
  {
   "cell_type": "code",
   "execution_count": 17,
   "metadata": {},
   "outputs": [
    {
     "data": {
      "text/plain": [
       "0.11880806551510564"
      ]
     },
     "execution_count": 17,
     "metadata": {},
     "output_type": "execute_result"
    }
   ],
   "source": [
    "df2.query('group == \"treatment\"').converted.mean() #use query to filter individuals in treatment group and find the proportion of the converted column"
   ]
  },
  {
   "cell_type": "markdown",
   "metadata": {},
   "source": [
    "d. What is the probability that an individual received the new page?"
   ]
  },
  {
   "cell_type": "code",
   "execution_count": 18,
   "metadata": {},
   "outputs": [
    {
     "data": {
      "text/plain": [
       "0.5000619442226688"
      ]
     },
     "execution_count": 18,
     "metadata": {},
     "output_type": "execute_result"
    }
   ],
   "source": [
    "#get the count of users who got the new page using df.query then divide by the total number in df2 to get the probability\n",
    "df2.query('landing_page ==\"new_page\"').count()['user_id'] / df2.shape[0]"
   ]
  },
  {
   "cell_type": "markdown",
   "metadata": {},
   "source": [
    "e. Consider your results from a. through d. above, and explain below whether you think there is sufficient evidence to say that the new treatment page leads to more conversions."
   ]
  },
  {
   "cell_type": "markdown",
   "metadata": {},
   "source": [
    "**Based on the proportions above, there isn't enough evidence to say that the new treatment page leads to more conversions.**"
   ]
  },
  {
   "cell_type": "markdown",
   "metadata": {},
   "source": [
    "<a id='ab_test'></a>\n",
    "### Part II - A/B Test\n",
    "\n",
    "Notice that because of the time stamp associated with each event, you could technically run a hypothesis test continuously as each observation was observed.  \n",
    "\n",
    "However, then the hard question is do you stop as soon as one page is considered significantly better than another or does it need to happen consistently for a certain amount of time?  How long do you run to render a decision that neither page is better than another?  \n",
    "\n",
    "These questions are the difficult parts associated with A/B tests in general.  \n",
    "\n",
    "\n",
    "`1.` For now, consider you need to make the decision just based on all the data provided.  If you want to assume that the old page is better unless the new page proves to be definitely better at a Type I error rate of 5%, what should your null and alternative hypotheses be?  You can state your hypothesis in terms of words or in terms of **$p_{old}$** and **$p_{new}$**, which are the converted rates for the old and new pages."
   ]
  },
  {
   "cell_type": "markdown",
   "metadata": {},
   "source": [
    "**The alternative hypothesis should be that the conversion rate of the new page is definitely better than the conversion rate of the old. Which makes the null hypothesis stating that the new page is worse or the same as the old conversion rate.**\n",
    "\n",
    "$$H_0: p_{new} - p_{old} \\leq 0$$\n",
    "\n",
    "\n",
    "$$H_1: p_{new} - p_{old} > 0$$"
   ]
  },
  {
   "cell_type": "markdown",
   "metadata": {},
   "source": [
    "`2.` Assume under the null hypothesis, $p_{new}$ and $p_{old}$ both have \"true\" success rates equal to the **converted** success rate regardless of page - that is $p_{new}$ and $p_{old}$ are equal. Furthermore, assume they are equal to the **converted** rate in **ab_data.csv** regardless of the page. <br><br>\n",
    "\n",
    "Use a sample size for each page equal to the ones in **ab_data.csv**.  <br><br>\n",
    "\n",
    "Perform the sampling distribution for the difference in **converted** between the two pages over 10,000 iterations of calculating an estimate from the null.  <br><br>\n",
    "\n",
    "Use the cells below to provide the necessary parts of this simulation.  If this doesn't make complete sense right now, don't worry - you are going to work through the problems below to complete this problem.  You can use **Quiz 5** in the classroom to make sure you are on the right track.<br><br>"
   ]
  },
  {
   "cell_type": "code",
   "execution_count": 19,
   "metadata": {},
   "outputs": [
    {
     "data": {
      "text/html": [
       "<div>\n",
       "<style scoped>\n",
       "    .dataframe tbody tr th:only-of-type {\n",
       "        vertical-align: middle;\n",
       "    }\n",
       "\n",
       "    .dataframe tbody tr th {\n",
       "        vertical-align: top;\n",
       "    }\n",
       "\n",
       "    .dataframe thead th {\n",
       "        text-align: right;\n",
       "    }\n",
       "</style>\n",
       "<table border=\"1\" class=\"dataframe\">\n",
       "  <thead>\n",
       "    <tr style=\"text-align: right;\">\n",
       "      <th></th>\n",
       "      <th>user_id</th>\n",
       "      <th>timestamp</th>\n",
       "      <th>group</th>\n",
       "      <th>landing_page</th>\n",
       "      <th>converted</th>\n",
       "    </tr>\n",
       "  </thead>\n",
       "  <tbody>\n",
       "    <tr>\n",
       "      <th>0</th>\n",
       "      <td>851104</td>\n",
       "      <td>2017-01-21 22:11:48.556739</td>\n",
       "      <td>control</td>\n",
       "      <td>old_page</td>\n",
       "      <td>0</td>\n",
       "    </tr>\n",
       "    <tr>\n",
       "      <th>1</th>\n",
       "      <td>804228</td>\n",
       "      <td>2017-01-12 08:01:45.159739</td>\n",
       "      <td>control</td>\n",
       "      <td>old_page</td>\n",
       "      <td>0</td>\n",
       "    </tr>\n",
       "    <tr>\n",
       "      <th>2</th>\n",
       "      <td>661590</td>\n",
       "      <td>2017-01-11 16:55:06.154213</td>\n",
       "      <td>treatment</td>\n",
       "      <td>new_page</td>\n",
       "      <td>0</td>\n",
       "    </tr>\n",
       "    <tr>\n",
       "      <th>3</th>\n",
       "      <td>853541</td>\n",
       "      <td>2017-01-08 18:28:03.143765</td>\n",
       "      <td>treatment</td>\n",
       "      <td>new_page</td>\n",
       "      <td>0</td>\n",
       "    </tr>\n",
       "    <tr>\n",
       "      <th>4</th>\n",
       "      <td>864975</td>\n",
       "      <td>2017-01-21 01:52:26.210827</td>\n",
       "      <td>control</td>\n",
       "      <td>old_page</td>\n",
       "      <td>1</td>\n",
       "    </tr>\n",
       "  </tbody>\n",
       "</table>\n",
       "</div>"
      ],
      "text/plain": [
       "   user_id                   timestamp      group landing_page  converted\n",
       "0   851104  2017-01-21 22:11:48.556739    control     old_page          0\n",
       "1   804228  2017-01-12 08:01:45.159739    control     old_page          0\n",
       "2   661590  2017-01-11 16:55:06.154213  treatment     new_page          0\n",
       "3   853541  2017-01-08 18:28:03.143765  treatment     new_page          0\n",
       "4   864975  2017-01-21 01:52:26.210827    control     old_page          1"
      ]
     },
     "execution_count": 19,
     "metadata": {},
     "output_type": "execute_result"
    }
   ],
   "source": [
    "df2.head() #check to make sure it loads properly"
   ]
  },
  {
   "cell_type": "markdown",
   "metadata": {},
   "source": [
    "**Commenting out the below section per advice from reviewer. Did not need to create a new df.**"
   ]
  },
  {
   "cell_type": "code",
   "execution_count": 20,
   "metadata": {},
   "outputs": [],
   "source": [
    "#we can only trust when treatment aligns with new page and control aligns with old page. use query and create a new df.\n",
    "#df2_ab = df_ab.query('(group==\"treatment\" and landing_page==\"new_page\") or (group==\"control\" and landing_page==\"old_page\")')"
   ]
  },
  {
   "cell_type": "code",
   "execution_count": 21,
   "metadata": {},
   "outputs": [],
   "source": [
    "#df2_ab['user_id'].nunique(), df2_ab.shape[0] #get the number of unique values for user_id and the number of total rows"
   ]
  },
  {
   "cell_type": "code",
   "execution_count": 22,
   "metadata": {},
   "outputs": [],
   "source": [
    "#remove the duplicates and get the number of unique user_ids and number of rows to verify\n",
    "#df2_ab.drop_duplicates('user_id', inplace=True)\n",
    "#df2_ab['user_id'].nunique(), df2_ab.shape[0]"
   ]
  },
  {
   "cell_type": "markdown",
   "metadata": {},
   "source": [
    "a. What is the **convert rate** for $p_{new}$ under the null? "
   ]
  },
  {
   "cell_type": "code",
   "execution_count": 23,
   "metadata": {},
   "outputs": [
    {
     "data": {
      "text/plain": [
       "0.11959708724499628"
      ]
     },
     "execution_count": 23,
     "metadata": {},
     "output_type": "execute_result"
    }
   ],
   "source": [
    "df2['converted'].mean() #get the converted rate on the new df"
   ]
  },
  {
   "cell_type": "markdown",
   "metadata": {},
   "source": [
    "b. What is the **convert rate** for $p_{old}$ under the null? <br><br>"
   ]
  },
  {
   "cell_type": "code",
   "execution_count": 24,
   "metadata": {},
   "outputs": [
    {
     "data": {
      "text/plain": [
       "0.11959708724499628"
      ]
     },
     "execution_count": 24,
     "metadata": {},
     "output_type": "execute_result"
    }
   ],
   "source": [
    "df2['converted'].mean() #converted rate is the same for old and new per question 2"
   ]
  },
  {
   "cell_type": "markdown",
   "metadata": {},
   "source": [
    "c. What is $n_{new}$?"
   ]
  },
  {
   "cell_type": "code",
   "execution_count": 25,
   "metadata": {},
   "outputs": [
    {
     "data": {
      "text/plain": [
       "145310"
      ]
     },
     "execution_count": 25,
     "metadata": {},
     "output_type": "execute_result"
    }
   ],
   "source": [
    "df2.query('landing_page == \"new_page\"').count()['user_id'] #get the count of users who got the new page"
   ]
  },
  {
   "cell_type": "markdown",
   "metadata": {},
   "source": [
    "d. What is $n_{old}$?"
   ]
  },
  {
   "cell_type": "code",
   "execution_count": 26,
   "metadata": {},
   "outputs": [
    {
     "data": {
      "text/plain": [
       "145274"
      ]
     },
     "execution_count": 26,
     "metadata": {},
     "output_type": "execute_result"
    }
   ],
   "source": [
    "df2.query('landing_page == \"old_page\"').count()['user_id'] #get the count of users who got the old page"
   ]
  },
  {
   "cell_type": "markdown",
   "metadata": {},
   "source": [
    "e. Simulate $n_{new}$ transactions with a convert rate of $p_{new}$ under the null.  Store these $n_{new}$ 1's and 0's in **new_page_converted**."
   ]
  },
  {
   "cell_type": "code",
   "execution_count": 27,
   "metadata": {},
   "outputs": [
    {
     "data": {
      "text/plain": [
       "array([1, 1, 1, ..., 1, 1, 1])"
      ]
     },
     "execution_count": 27,
     "metadata": {},
     "output_type": "execute_result"
    }
   ],
   "source": [
    "n_new = df2.query('landing_page == \"new_page\"').count()['user_id'] #store the n_new count in a variable\n",
    "p_new = df2['converted'].mean() #store the p_new in a variable\n",
    "\n",
    "new_page_converted = np.random.choice([0,1],n_new,p=(p_new,1-p_new)) \n",
    "#use np.random.choice to populate the array using the n_new as the number of transactions and the probability of p_new \n",
    "new_page_converted #verify the array is populated \n",
    "\n"
   ]
  },
  {
   "cell_type": "markdown",
   "metadata": {},
   "source": [
    "f. Simulate $n_{old}$ transactions with a convert rate of $p_{old}$ under the null.  Store these $n_{old}$ 1's and 0's in **old_page_converted**."
   ]
  },
  {
   "cell_type": "code",
   "execution_count": 28,
   "metadata": {},
   "outputs": [
    {
     "data": {
      "text/plain": [
       "array([1, 1, 1, ..., 1, 1, 1])"
      ]
     },
     "execution_count": 28,
     "metadata": {},
     "output_type": "execute_result"
    }
   ],
   "source": [
    "n_old = df2.query('landing_page == \"old_page\"').count()['user_id'] #store the n_old count in a variable\n",
    "p_old = df2['converted'].mean() #store the p_old in a variable\n",
    "\n",
    "old_page_converted = np.random.choice([0,1],n_old,p=(p_old,1-p_old)) \n",
    "#use np.random.choice to populate the array using the n_old as the number of transactions and the probability of p_old \n",
    "old_page_converted #verify the array is populated \n"
   ]
  },
  {
   "cell_type": "markdown",
   "metadata": {},
   "source": [
    "g. Find $p_{new}$ - $p_{old}$ for your simulated values from part (e) and (f)."
   ]
  },
  {
   "cell_type": "code",
   "execution_count": 29,
   "metadata": {},
   "outputs": [
    {
     "data": {
      "text/plain": [
       "-0.0019389366066526748"
      ]
     },
     "execution_count": 29,
     "metadata": {},
     "output_type": "execute_result"
    }
   ],
   "source": [
    "new_page_converted.mean() - old_page_converted.mean() #find the proportion of each and then find the difference\n"
   ]
  },
  {
   "cell_type": "markdown",
   "metadata": {},
   "source": [
    "h. Simulate 10,000 $p_{new}$ - $p_{old}$ values using this same process similarly to the one you calculated in parts **a. through g.** above.  Store all 10,000 values in a numpy array called **p_diffs**."
   ]
  },
  {
   "cell_type": "code",
   "execution_count": 30,
   "metadata": {},
   "outputs": [],
   "source": [
    "p_diffs = [] #create the p_diffs array\n",
    "\n",
    "for _ in range(10000): #10000 sample size\n",
    "    bootsamp = df2.sample(200, replace = True) #bootstrapping sampling technique\n",
    "    new_page_converted = np.random.choice([0,1],n_new,p=(p_new,1-p_new)) #simulate transactions based on new page numbers calculated above\n",
    "    old_page_converted = np.random.choice([0,1],n_old,p=(p_old,1-p_old)) #simulate transactions based on old page numbers calculated above\n",
    "    p_diffs.append(new_page_converted.mean() - old_page_converted.mean()) #append the difference in proportions from the two simulations above"
   ]
  },
  {
   "cell_type": "code",
   "execution_count": 31,
   "metadata": {},
   "outputs": [
    {
     "data": {
      "text/plain": [
       "[-0.0006931566524587263,\n",
       " -0.0015464483897753567,\n",
       " 0.0017984237203921838,\n",
       " 0.0010413924580630063,\n",
       " -0.000692882087582336,\n",
       " -0.001773694027689121,\n",
       " 0.0009657416867474566,\n",
       " -0.0020006975027927476,\n",
       " 0.00108947323977171,\n",
       " -0.002145149608662633,\n",
       " -0.0014705793308563697,\n",
       " -0.0004794495831085266,\n",
       " -0.0018838511993398699,\n",
       " 0.0007452704492312279,\n",
       " -0.000293836052539187,\n",
       " 0.0004634441940877254,\n",
       " 0.0009724802743350525,\n",
       " -0.0004589456124942659,\n",
       " 0.0013925504184226778,\n",
       " -0.000968450670014942,\n",
       " 0.00027745548169999523,\n",
       " 0.0013443621982841547,\n",
       " -0.00018355438873962626,\n",
       " 0.000600889968981333,\n",
       " -0.0006381411653937352,\n",
       " 0.001509282461958139,\n",
       " -0.0009821341951902207,\n",
       " -0.0010163472715580824,\n",
       " 0.0012891335397313686,\n",
       " -0.000630998404665295,\n",
       " -0.0014639140742606083,\n",
       " -0.00025954282369189396,\n",
       " -0.00026637691210595893,\n",
       " 0.001722801940398977,\n",
       " -3.9235301878215445e-05,\n",
       " -0.0002317801270599329,\n",
       " 0.0005115812530691599,\n",
       " -0.0028059852001365293,\n",
       " 0.00013297097376396838,\n",
       " -0.0001698981495148466,\n",
       " 0.0002569617433173521,\n",
       " 0.0014475113335866707,\n",
       " 0.0017849925902585495,\n",
       " 0.002892999338153679,\n",
       " -0.0009752608832223064,\n",
       " -0.00028699855338143454,\n",
       " -0.00017002946315136658,\n",
       " 0.0007384551199081102,\n",
       " -0.000520836116899015,\n",
       " 0.001124187695478951,\n",
       " -0.0008856503164833551,\n",
       " -0.002860925650837731,\n",
       " -0.00045913149803167297,\n",
       " 0.0010760062968280248,\n",
       " 0.0010208680229861766,\n",
       " 0.0008210098998856497,\n",
       " -0.0012712822751118624,\n",
       " 0.0010963840699214078,\n",
       " 0.001550624656079247,\n",
       " -0.001395184365326263,\n",
       " 0.0014476562901983847,\n",
       " 0.0005939689066002396,\n",
       " 0.001419966924558258,\n",
       " 3.6543372329944646e-05,\n",
       " -0.0017461751992393637,\n",
       " 0.0008692987369665062,\n",
       " 0.0016061176472769167,\n",
       " -0.000514160628071858,\n",
       " -0.0008443695157507314,\n",
       " 0.0011859775829412555,\n",
       " 0.0015920435919359877,\n",
       " 0.0021015094259027034,\n",
       " 0.001309659680180264,\n",
       " 0.0007040715063499903,\n",
       " -0.001044057101660889,\n",
       " -0.00018379143543423293,\n",
       " -0.0007000112053355823,\n",
       " 0.0007317915686843035,\n",
       " -0.00038339034200540745,\n",
       " -0.00037672679078160076,\n",
       " 0.0010824907840020215,\n",
       " 0.000635058705679703,\n",
       " -0.0021797225185019586,\n",
       " 0.0004773852304202908,\n",
       " -0.00012169458102928576,\n",
       " 0.002211468774412695,\n",
       " -0.0005689646490208977,\n",
       " -0.00012190263640132759,\n",
       " -0.0006449530839731654,\n",
       " 0.002775871648336703,\n",
       " -0.0008512001934209978,\n",
       " 0.0009039211025909655,\n",
       " -4.8550990638940306e-06,\n",
       " 0.0007314590211632277,\n",
       " -0.0012298496962799277,\n",
       " 0.0005458659550569012,\n",
       " -0.0013401177171042944,\n",
       " -0.0025859556539430395,\n",
       " 0.0005047591022584452,\n",
       " -0.0009752421241314702,\n",
       " -0.0019112506517564576,\n",
       " -0.003273979231717572,\n",
       " -0.0006104313352908175,\n",
       " 0.00022229674339513394,\n",
       " -0.00020435338869295716,\n",
       " -0.0004179751894480832,\n",
       " -0.0006037200336537207,\n",
       " -0.0008993082610800895,\n",
       " 0.0010072288374802785,\n",
       " 0.0004357207210096137,\n",
       " 0.0003323959324010861,\n",
       " -0.0020629256708341037,\n",
       " 0.0008075173763635313,\n",
       " -0.0023997247787449494,\n",
       " 0.0021081098783660712,\n",
       " -0.0013468290187412801,\n",
       " -0.0007759109609488668,\n",
       " 0.0013854980424049534,\n",
       " 0.000449469050317175,\n",
       " 0.00026371226850807616,\n",
       " -0.00024587805760756254,\n",
       " -0.0006038325881992934,\n",
       " -0.0012161781087079993,\n",
       " 0.001620162711295503,\n",
       " 0.0012340907667161005,\n",
       " 0.00013264695310244434,\n",
       " 0.0013786844184537905,\n",
       " 0.00017406247821538656,\n",
       " -0.0010302422628492014,\n",
       " 0.0021838885525743423,\n",
       " 0.0032231945828573583,\n",
       " -8.745080796723759e-05,\n",
       " 0.0005045902704400307,\n",
       " 0.0011859144841809277,\n",
       " -0.0014297692127689388,\n",
       " -0.0006379467529967764,\n",
       " -0.0013333927724920036,\n",
       " 0.001055331789023728,\n",
       " 0.0022389569061682657,\n",
       " -0.0012163844587081973,\n",
       " 0.0017570798208992322,\n",
       " 0.00029105203290813453,\n",
       " 0.0005525039257021636,\n",
       " -0.0007068282400305437,\n",
       " 0.000710762343524185,\n",
       " 0.0012340754183689517,\n",
       " 0.0002294395041236852,\n",
       " 0.004303899084534324,\n",
       " 0.00012641486097009214,\n",
       " 2.946029961814478e-05,\n",
       " 0.0006970123088447799,\n",
       " 0.00016719769310702404,\n",
       " 0.0007386648806521068,\n",
       " -0.0009615091431709466,\n",
       " 0.0004975941716951482,\n",
       " -0.0010031770633255332,\n",
       " -0.0005897005502136787,\n",
       " 0.0013236280024632174,\n",
       " -0.0019526116049685127,\n",
       " -0.00016309305242312444,\n",
       " -0.00020459214075929655,\n",
       " -0.0012228706512541487,\n",
       " -0.0022621988513719105,\n",
       " 2.284108806371865e-05,\n",
       " -0.0018080401230654575,\n",
       " -0.00048628026077868203,\n",
       " 0.0005597541248605342,\n",
       " -0.002049020447311589,\n",
       " 0.0029273386120423073,\n",
       " 0.0013373592780516752,\n",
       " 0.0020532990359295455,\n",
       " 0.002424897868142706,\n",
       " -0.0011887326112499652,\n",
       " -0.001456943556094381,\n",
       " -0.0015607663132983784,\n",
       " -0.00041110869896787694,\n",
       " -0.002482603579384013,\n",
       " -0.001023604292203939,\n",
       " 0.0008967681096311297,\n",
       " -0.00040395741137988495,\n",
       " 0.0009863599172791337,\n",
       " 0.0022042356289733167,\n",
       " 0.0006560674663770305,\n",
       " 0.0015918560010265148,\n",
       " -0.0002454824113261589,\n",
       " -0.0007068009540801556,\n",
       " -0.0019114314211781114,\n",
       " -0.000933847063481319,\n",
       " 0.0017296206804660041,\n",
       " 0.0009657928479046562,\n",
       " 0.0008212264821173543,\n",
       " 0.0003876228855819175,\n",
       " 0.000759061412836437,\n",
       " -0.0005071338326329,\n",
       " -0.0016152667780486851,\n",
       " 0.0020668137292864097,\n",
       " 0.0008762522014136298,\n",
       " -0.00258570496427335,\n",
       " -0.000679159338853319,\n",
       " 0.00021564001365892427,\n",
       " 0.0013648320614602083,\n",
       " -3.244555313364206e-05,\n",
       " -0.002338320305332542,\n",
       " -0.00040415523452053126,\n",
       " -0.00017660262966434637,\n",
       " 0.00043567467596827836,\n",
       " -0.0024207284233265236,\n",
       " -0.0007962495104882894,\n",
       " -0.0013055908523063042,\n",
       " 0.0003117214245966782,\n",
       " 0.0009657996693922533,\n",
       " 0.0013854980424049534,\n",
       " 0.0013720242779737823,\n",
       " -0.0020145600920177253,\n",
       " -0.000583016534527081,\n",
       " 0.0012823420856149514,\n",
       " 0.00029820843661176877,\n",
       " -0.0007618863613930715,\n",
       " -0.0003076935256485225,\n",
       " -0.0009891302939349922,\n",
       " -0.0006793520458784341,\n",
       " -0.001491374920065791,\n",
       " -0.0010644792144237636,\n",
       " -0.0006448490562869225,\n",
       " -0.0018010082115107462,\n",
       " 0.0008970375583917667,\n",
       " -0.0013401808158647333,\n",
       " 0.001013749137464326,\n",
       " 0.0018604063148796035,\n",
       " 0.0004632276118561318,\n",
       " -0.0010439701276938607,\n",
       " 0.0011650626176986645,\n",
       " -0.0005003253247972683,\n",
       " -0.001140290290698065,\n",
       " 0.0013855253283554525,\n",
       " 0.0025212231472625524,\n",
       " 0.00157793883990065,\n",
       " -0.0012023632698963116,\n",
       " -0.001870217129949725,\n",
       " -0.002523819575984354,\n",
       " -0.0010164547099879018,\n",
       " -0.0012089551955001276,\n",
       " 0.0025144282824022257,\n",
       " -0.0013193903427709541,\n",
       " -0.001057849770637942,\n",
       " -0.000507099725194804,\n",
       " 0.00025678609001134056,\n",
       " -0.001856265861385764,\n",
       " 0.00048388336056948145,\n",
       " -0.0005002622260369405,\n",
       " -0.001491444840313827,\n",
       " -0.0018632602547586918,\n",
       " 0.0017090075660501913,\n",
       " -0.0002666139588004546,\n",
       " 0.0004769810572793354,\n",
       " -0.0005898335692220424,\n",
       " 0.0012545640406359526,\n",
       " 0.0002085245388809831,\n",
       " 0.0008829515654473763,\n",
       " -0.0010783076962106453,\n",
       " -0.0008100882245067886,\n",
       " -0.0006726595033321736,\n",
       " 0.002287068384571045,\n",
       " -0.0011609068158576763,\n",
       " 0.00022918710908204076,\n",
       " -0.0010854436354514885,\n",
       " 0.0015025984462714304,\n",
       " 0.002018671554189222,\n",
       " 0.0016746290686077137,\n",
       " -0.001993861709006839,\n",
       " 0.001089713697210004,\n",
       " -0.00021122670066076044,\n",
       " 0.00013302213492105697,\n",
       " -0.0012711867742853933,\n",
       " 0.0007799030470871937,\n",
       " -0.0007617840390788944,\n",
       " 0.0017913764604903237,\n",
       " 0.00042853191523983813,\n",
       " 0.0007111545790619012,\n",
       " 0.0006973073381839612,\n",
       " -0.0006792377859607956,\n",
       " -0.0010784782334009035,\n",
       " -0.0006379450476249326,\n",
       " 0.0002775680362455679,\n",
       " -0.0017460234211400527,\n",
       " -0.0011883113843900173,\n",
       " -7.339039560139149e-05,\n",
       " -0.0007343914081499037,\n",
       " -0.0023378257474807596,\n",
       " 0.0011722599503279918,\n",
       " -0.0005486380370847144,\n",
       " 0.00048389359280087696,\n",
       " 0.0019155735800439055,\n",
       " 0.001020651440754472,\n",
       " -0.0006309932885496528,\n",
       " 0.0018536114500192769,\n",
       " -9.423032448030444e-05,\n",
       " 0.0003805551612172664,\n",
       " -0.0003487901462155829,\n",
       " -3.242167792705253e-05,\n",
       " -0.0011126708453059742,\n",
       " -0.0001974067457332085,\n",
       " 0.0005596330434554098,\n",
       " 0.0011241467665531468,\n",
       " 0.0002706742598148626,\n",
       " -0.0007552398638883684,\n",
       " -0.0019525024611667385,\n",
       " 0.0012271867580538887,\n",
       " -0.000713694730510861,\n",
       " -0.002668227342184637,\n",
       " 0.000724754541013839,\n",
       " 0.0017020694499501055,\n",
       " -0.0008099569108702687,\n",
       " -0.0007342276924472424,\n",
       " 0.0007110232654252702,\n",
       " -0.0017877237433606696,\n",
       " 0.0011444784946051945,\n",
       " -0.0013469722699811504,\n",
       " -0.00014250551858585592,\n",
       " -0.002620127801385097,\n",
       " 0.0005184579757807617,\n",
       " 0.0010208407370356776,\n",
       " 0.0002772866498815807,\n",
       " -0.001092108892047139,\n",
       " 0.0008488715080879894,\n",
       " -0.00112665622130792,\n",
       " -0.0004382949798965585,\n",
       " 0.0012548198464212845,\n",
       " -0.0013609303600327083,\n",
       " -0.0012643765610778068,\n",
       " -0.00026615862450241057,\n",
       " 0.0015303662590190337,\n",
       " -0.00024571604727685603,\n",
       " 0.0009243449207255727,\n",
       " -0.00043161778569766884,\n",
       " 0.0012201053907140436,\n",
       " 0.0005733250954902402,\n",
       " -6.661770057592165e-05,\n",
       " 0.0005460296707595624,\n",
       " 0.0013098677355523058,\n",
       " -0.0009820693910579381,\n",
       " 0.0011445330665060816,\n",
       " -0.00011491335914426415,\n",
       " 9.183854038685713e-05,\n",
       " -0.0007479282713415136,\n",
       " 0.0005734734628457527,\n",
       " -0.0010990282490563885,\n",
       " -0.0006794015016635679,\n",
       " 0.00015356873983274344,\n",
       " -0.0004110882345050859,\n",
       " -3.214370230686381e-05,\n",
       " -0.0023241780351155317,\n",
       " -0.0010510003338767282,\n",
       " 0.0008693157906853877,\n",
       " -3.254958081977399e-05,\n",
       " -0.0006037404981166228,\n",
       " 0.0004564310416238504,\n",
       " 0.0007247988806832195,\n",
       " 0.0007110079170782324,\n",
       " 0.0010069645048355058,\n",
       " -0.0007824363770484455,\n",
       " -0.0014091680359563652,\n",
       " 0.0001670646740985493,\n",
       " 0.001874519593774382,\n",
       " -0.0011610278972628008,\n",
       " -0.0007203787461974587,\n",
       " -0.0009130565903876509,\n",
       " 0.0009931974164369972,\n",
       " -0.0005691778205086928,\n",
       " -0.0005072105743684219,\n",
       " -4.766419725021898e-06,\n",
       " 0.0005250857141946286,\n",
       " -0.001099052124263089,\n",
       " 0.00017435409681065828,\n",
       " -0.001677385802288378,\n",
       " 0.0006077291735111512,\n",
       " -0.0015809138611848628,\n",
       " 0.0023903096099562315,\n",
       " 0.0008417423903347432,\n",
       " -0.000452276945154817,\n",
       " -0.0006585121169994101,\n",
       " 0.001412912843168801,\n",
       " 0.0003393425753608348,\n",
       " -0.0007205356404125229,\n",
       " 0.0005322028943445245,\n",
       " -0.001897304499308139,\n",
       " 0.0004359901697702506,\n",
       " 0.0010755339088109883,\n",
       " 0.0014198407270374913,\n",
       " 0.0012546595414624218,\n",
       " 0.001371722427147004,\n",
       " 0.0001945340467632839,\n",
       " 0.0015231348189517213,\n",
       " -7.335287741960794e-05,\n",
       " -0.002090412097217831,\n",
       " -0.00028686041825720654,\n",
       " 0.0010000076296443616,\n",
       " -6.647274396409664e-05,\n",
       " 0.00038748304508595677,\n",
       " -3.2489892803133635e-05,\n",
       " -0.00020465353414778065,\n",
       " -0.0003765545482193877,\n",
       " 0.001309895021502805,\n",
       " -0.0017323552443118118,\n",
       " -0.0007413363457375866,\n",
       " -0.002509972335106414,\n",
       " -0.001099183437899609,\n",
       " 0.0004218837123630692,\n",
       " 0.0015782372799836297,\n",
       " 0.002824005296574339,\n",
       " 0.0005456885963790459,\n",
       " 0.0010415374146748313,\n",
       " 0.00026365258049154683,\n",
       " 0.0015232149714310417,\n",
       " 0.00045642251476440965,\n",
       " -0.0005069325987483442,\n",
       " 0.00023589329460338426,\n",
       " -0.0027645526213044835,\n",
       " -0.0002665269848334262,\n",
       " -0.00042473253612640427,\n",
       " 0.0014475761377189533,\n",
       " -0.0012368662594876012,\n",
       " 0.0011099294599724585,\n",
       " -0.0006243126836068535,\n",
       " -0.001959310969002259,\n",
       " 0.0004701077453115321,\n",
       " -0.0008099620269860219,\n",
       " 0.0019223104622594356,\n",
       " -0.0018835476431411369,\n",
       " 0.0019496519320313377,\n",
       " -0.0007275999540333755,\n",
       " -0.000741298827555803,\n",
       " 0.0008074457507436517,\n",
       " -0.0014913834469252318,\n",
       " 0.00018793871041555832,\n",
       " -0.0007687016907161892,\n",
       " -0.00094725261303652,\n",
       " 1.5921731054580057e-05,\n",
       " -0.0009543459179797154,\n",
       " 0.00011224701017442662,\n",
       " 0.0003875222686396951,\n",
       " 0.0002428262945878279,\n",
       " -0.0010165399785829754,\n",
       " -0.0022691079761497646,\n",
       " 0.0004838628961066904,\n",
       " 0.001619582884848536,\n",
       " -0.0016084105197999854,\n",
       " 0.00043573948010056096,\n",
       " -0.0010852338747074919,\n",
       " -0.0004247359468703138,\n",
       " 0.0006284531371005819,\n",
       " 0.0020464990549534656,\n",
       " 0.001399355515514289,\n",
       " -0.0005761125258649802,\n",
       " -7.370930014716226e-05,\n",
       " 0.00042862059457871027,\n",
       " 0.002527997547659977,\n",
       " 0.0008763630505873587,\n",
       " 0.0004082257677664458,\n",
       " -0.0010715315904412659,\n",
       " -0.0007136435693537724,\n",
       " 0.0005732722289611969,\n",
       " -0.0003419952813553673,\n",
       " -0.0009752472402471124,\n",
       " -0.0010855050288399726,\n",
       " 0.0002841480242460337,\n",
       " -0.00012884245787336823,\n",
       " -0.0003903557440559924,\n",
       " -1.8513043660628448e-05,\n",
       " 0.0005114601716640355,\n",
       " -0.0016428708750937382,\n",
       " 0.0006077240573953979,\n",
       " -0.0004383870699793402,\n",
       " -0.001243908403273708,\n",
       " 0.0011651871098474764,\n",
       " 0.000951596005786759,\n",
       " 0.001123870496305024,\n",
       " 0.0008484860940379813,\n",
       " 0.0004907498510496877,\n",
       " -0.0026132561947892485,\n",
       " -1.8854118041145007e-05,\n",
       " 0.0010071094614472198,\n",
       " -0.0021454923884149935,\n",
       " 0.0022459240135906944,\n",
       " 6.396158383759065e-05,\n",
       " 0.0002428331160754249,\n",
       " -0.0007963313683396755,\n",
       " -0.0005896715588913359,\n",
       " -0.0011267210254403137,\n",
       " -0.0003560420507457973,\n",
       " -0.0010581311570019292,\n",
       " -0.0008376752678327382,\n",
       " -0.0008580632731574056,\n",
       " -0.0004727502190746691,\n",
       " -0.0006382997649806432,\n",
       " 0.0008900533972502345,\n",
       " -0.002179858948254121,\n",
       " 0.00047726755975896484,\n",
       " -0.00018376585485557762,\n",
       " 0.0015852180303813634,\n",
       " -0.0004450489158311921,\n",
       " -0.0007413073544152438,\n",
       " 0.0007313959224030109,\n",
       " -0.0007618880667650263,\n",
       " -0.0004314012034659642,\n",
       " -0.0007896030129835863,\n",
       " 5.7328729307970505e-05,\n",
       " 0.000181196712084275,\n",
       " 6.405026317646278e-05,\n",
       " 0.0015164439817774156,\n",
       " 0.0007042130522179058,\n",
       " 0.0010274053766891056,\n",
       " 7.084001192103617e-05,\n",
       " 0.000717893166649386,\n",
       " 0.00020185587154153417,\n",
       " -0.0010028240513416664,\n",
       " 0.0007318751319075334,\n",
       " 0.0009516335239685425,\n",
       " 0.0030923287959643275,\n",
       " -0.00061044838900981,\n",
       " -0.0006243467910448386,\n",
       " -0.0001217900818557549,\n",
       " -0.00030088331244104705,\n",
       " -0.000968271605965132,\n",
       " -5.9911515054467124e-05,\n",
       " 0.0014955835884357116,\n",
       " -0.0020010965598179498,\n",
       " 0.0006971709084316879,\n",
       " -0.002991914224507619,\n",
       " -0.0027165929210011264,\n",
       " -0.0013261238142426857,\n",
       " -0.0023036570107823895,\n",
       " 0.0016540449455142436,\n",
       " -0.001078647065219318,\n",
       " 9.844069822217971e-05,\n",
       " 0.00017439843648014985,\n",
       " -0.0012228791781135895,\n",
       " -3.2304007265726575e-05,\n",
       " 0.0009724154702027699,\n",
       " 0.00233529753363515,\n",
       " 0.0005252852427072296,\n",
       " 0.0002705071333684028,\n",
       " -0.002303631430203845,\n",
       " 0.0013786230250653064,\n",
       " 0.0006696930089075126,\n",
       " 0.00312725471778752,\n",
       " 0.0004979608266543201,\n",
       " 0.0005322813414520011,\n",
       " 0.00038069670708507086,\n",
       " -0.00033527204211492023,\n",
       " -0.00014217126569293637,\n",
       " -0.0018287419168202534,\n",
       " 2.013096788155977e-06,\n",
       " -0.0015809684330857499,\n",
       " 0.0019016001416451989,\n",
       " -0.0005624631081277975,\n",
       " 0.002548794842241353,\n",
       " 0.0007729257074332585,\n",
       " -0.0007754556266508228,\n",
       " 7.11538003511647e-05,\n",
       " -0.00012859347357574435,\n",
       " 0.0021494060274458437,\n",
       " -0.00016967986191129825,\n",
       " -0.0008512701136690337,\n",
       " -0.000782605208866971,\n",
       " 0.0026726355390672696,\n",
       " 0.002053232526425308,\n",
       " -4.602846136669836e-05,\n",
       " -8.028417203209681e-05,\n",
       " -0.0010921856337827718,\n",
       " 0.0017778054898607287,\n",
       " -0.0011884273496794995,\n",
       " 0.0018329062455206824,\n",
       " -0.0017665802582831347,\n",
       " 0.0014062185952506967,\n",
       " -0.0012505958297042152,\n",
       " -0.0017734859723170793,\n",
       " -7.3400627832787e-05,\n",
       " 4.346272933919426e-05,\n",
       " -0.001752855804182163,\n",
       " -0.0019180011769472927,\n",
       " 0.0003187993811928358,\n",
       " -0.0016224061280334379,\n",
       " 0.0006007467177414627,\n",
       " 0.0020257426892977826,\n",
       " -0.0012918612820896902,\n",
       " 0.00033966830139420257,\n",
       " 0.0011515479243418003,\n",
       " 0.0005939228615589043,\n",
       " 0.00014647884563323554,\n",
       " 0.00010528501886764019,\n",
       " -0.00010127758438227552,\n",
       " -0.0016153673949910186,\n",
       " 0.0008967169484739301,\n",
       " -0.0004315853836314165,\n",
       " 0.0026311091647807094,\n",
       " -0.0002942112343577996,\n",
       " 0.0005737241525154424,\n",
       " -0.0015053244832577972,\n",
       " 0.0007590921095306236,\n",
       " 0.0005732381215231008,\n",
       " 0.0015713179229744911,\n",
       " 0.0018880018850651048,\n",
       " 0.0013717463023537046,\n",
       " -0.0004590598724119044,\n",
       " -0.0025028381012375256,\n",
       " -0.0010096513182681344,\n",
       " -0.001305619843628647,\n",
       " -0.0003213412380138614,\n",
       " -0.0014363406739099638,\n",
       " -0.000211277861817738,\n",
       " 0.00014670395472438091,\n",
       " -0.0003626152172588881,\n",
       " -4.614783739975703e-05,\n",
       " -0.0012640201383502525,\n",
       " -0.0002802139207523924,\n",
       " -0.0026956284999732905,\n",
       " -0.0021591537437555264,\n",
       " -0.00020445230026333583,\n",
       " -0.0003007656417798321,\n",
       " 0.0002911509444785132,\n",
       " -0.0007616510200705306,\n",
       " -0.0007409355833405407,\n",
       " 0.0017846975609193683,\n",
       " -0.0004107812675625544,\n",
       " -0.0017254103067241289,\n",
       " -9.444179059625579e-05,\n",
       " 0.0012685101930841602,\n",
       " -0.0003006002207053271,\n",
       " 0.0009588854284987569,\n",
       " 0.0018398784690589753,\n",
       " -0.0007205390511562104,\n",
       " -0.0023313446710505614,\n",
       " -0.0005140395466667336,\n",
       " -0.00046606279264427286,\n",
       " 0.0034090042311953894,\n",
       " 0.0008279480159858466,\n",
       " -0.001677442079561109,\n",
       " 0.0001259953394818769,\n",
       " -0.0009614886787081556,\n",
       " 3.667298059450985e-05,\n",
       " -0.0012367144813882902,\n",
       " -0.0008169103753176143,\n",
       " 0.001020692369680165,\n",
       " 0.0007178863451616779,\n",
       " -0.00030083556202775696,\n",
       " 0.0009109478980300345,\n",
       " 0.0011996065362157582,\n",
       " -0.0004517516906088481,\n",
       " -0.0007135480685271922,\n",
       " 0.0010484380125931336,\n",
       " -0.0007344067564970524,\n",
       " 0.002472767183735458,\n",
       " 0.0004289241507774433,\n",
       " -0.00023197112871309322,\n",
       " -0.0005346918846363957,\n",
       " 0.0008349884544001096,\n",
       " 0.003408910435740764,\n",
       " 0.0001121651523231515,\n",
       " -0.00045892685340342965,\n",
       " 0.000759213190935748,\n",
       " -0.00021827566593457526,\n",
       " -0.0002938582223739328,\n",
       " 0.0001603312026269288,\n",
       " -0.001766680875225246,\n",
       " -0.001092108892047139,\n",
       " -1.1984216817140236e-05,\n",
       " 0.00040834684917145925,\n",
       " 0.0001810671038197098,\n",
       " 0.0007387552653630447,\n",
       " -0.0004797548446789923,\n",
       " -0.0023723798982292488,\n",
       " -0.0006449121550473613,\n",
       " -0.0010096666666151721,\n",
       " 0.00047681904694862887,\n",
       " 0.0005045476361424939,\n",
       " -0.002193331007313448,\n",
       " -0.0003694595379042376,\n",
       " -0.0008926140131619853,\n",
       " 0.0007799507975003728,\n",
       " 0.00085576357914674,\n",
       " -0.0003625180110603532,\n",
       " -0.0009477642246072948,\n",
       " 0.0012548982935288722,\n",
       " 0.0020532853929542405,\n",
       " -0.0003555185015717832,\n",
       " -0.00077573701301481,\n",
       " 0.0007592421822579798,\n",
       " -0.000823684775715039,\n",
       " -0.00035588856727453155,\n",
       " 0.00011201507959557322,\n",
       " -0.0006860360615649208,\n",
       " 0.00020846485086445377,\n",
       " 0.00031886247995327466,\n",
       " -0.000569114721748365,\n",
       " 2.2643264923072337e-05,\n",
       " -0.0017322529219976346,\n",
       " -0.0014503482197466555,\n",
       " -0.0007549567721524264,\n",
       " -0.0002111158514870315,\n",
       " 2.2825455487929247e-06,\n",
       " -0.0018151914106534495,\n",
       " -0.0010720380858963985,\n",
       " 0.000497636805992796,\n",
       " 0.00020857228929427318,\n",
       " 0.00036707628067034204,\n",
       " -0.0014502595404076724,\n",
       " 0.00022234278843658029,\n",
       " -0.0002660784720230902,\n",
       " -0.0013746599302493223,\n",
       " 0.0009792717284515806,\n",
       " 0.00030501694444740046,\n",
       " 0.0007108578443507652,\n",
       " 0.0009380574372231942,\n",
       " -0.0022209964977468744,\n",
       " -0.0022142425618122408,\n",
       " 0.0005874230260377589,\n",
       " -0.001381130774448125,\n",
       " 0.0001467841072038123,\n",
       " -0.001759950814497313,\n",
       " 0.001261815945166056,\n",
       " 0.0001811540777867382,\n",
       " 0.0010140509882911042,\n",
       " -0.0007827552815943273,\n",
       " -0.0005346867685207535,\n",
       " -0.002083265925745481,\n",
       " -0.0007894444133966783,\n",
       " -0.0003830594998562864,\n",
       " 7.785145901295643e-05,\n",
       " 0.0016883739871713654,\n",
       " -0.0010645985904569333,\n",
       " 0.0009037130472188126,\n",
       " -0.0017320346343941972,\n",
       " -0.0015465507120895339,\n",
       " -4.764714353178157e-06,\n",
       " 0.00044252240735753734,\n",
       " -0.0018631920398826107,\n",
       " -0.0019733611491364877,\n",
       " 0.0014130288084581721,\n",
       " 0.00026355878503692143,\n",
       " 0.0012410970976922675,\n",
       " 8.76191660703629e-06,\n",
       " -0.00129876529075168,\n",
       " 0.0021426964311805907,\n",
       " 5.021495990187308e-05,\n",
       " -0.0012297456685937957,\n",
       " 0.0020601740532691926,\n",
       " 0.0017572929923870273,\n",
       " -5.285061217741305e-05,\n",
       " 0.0022457858784665774,\n",
       " 0.00034624146790707133,\n",
       " -0.0009683278832378628,\n",
       " -0.0011335005419534916,\n",
       " -0.00038327437671592524,\n",
       " -8.74491025951718e-05,\n",
       " 0.00024968937432423566,\n",
       " 0.0008073690090080188,\n",
       " 5.0404256183078644e-05,\n",
       " 0.0014336777356840358,\n",
       " -0.001477756199022795,\n",
       " 0.0006626235791709068,\n",
       " -0.0007342805589762857,\n",
       " -0.0019732451838471166,\n",
       " -0.0016290969652076326,\n",
       " 0.0003596333744869673,\n",
       " 0.00018812630132492014,\n",
       " -0.002455268931099708,\n",
       " -0.001470853895732649,\n",
       " -0.0004728150232069517,\n",
       " -6.016561546795529e-05,\n",
       " -0.0008307797860301891,\n",
       " -0.001512359805556418,\n",
       " 0.0034572146211686583,\n",
       " -0.0018905556794892586,\n",
       " -0.0002456785290950725,\n",
       " 0.00028434584738679103,\n",
       " 0.0025902154834700486,\n",
       " -0.0020350180175904287,\n",
       " 0.00020868143309604736,\n",
       " 0.0015990209315898118,\n",
       " -0.000355857870580345,\n",
       " -0.000631005226152892,\n",
       " 0.001392328720075331,\n",
       " -0.001567134835183115,\n",
       " 0.0017159166908279344,\n",
       " -0.0006171494584155113,\n",
       " 0.0013029790752373538,\n",
       " -0.0011337205349289947,\n",
       " -0.0015604337657774137,\n",
       " 0.00014683356298905714,\n",
       " -0.0016015917797329582,\n",
       " 0.0001535226947912971,\n",
       " 0.00019494333601999259,\n",
       " -0.0018767237869584674,\n",
       " 0.002183871498855239,\n",
       " -0.0016292282788441526,\n",
       " -0.0010237577756750937,\n",
       " -0.0028543848863908927,\n",
       " 0.0010068843523559634,\n",
       " 0.0024522768560965025,\n",
       " 0.00071808587367439,\n",
       " -0.0002935819521256988,\n",
       " 0.002018610160800849,\n",
       " -0.0010576400098939454,\n",
       " 0.0004421369933074182,\n",
       " -0.000816533488127047,\n",
       " 0.00034635743319655354,\n",
       " 0.0006144643503548375,\n",
       " -0.0002112608080988565,\n",
       " 0.00022221318017190406,\n",
       " -0.0005141623334437018,\n",
       " -0.000961596117138086,\n",
       " 0.0008624834076432775,\n",
       " 0.0024456900466083287,\n",
       " 0.0011168999781386857,\n",
       " -0.0007343197825300241,\n",
       " -0.0009887278261658805,\n",
       " -0.00045209447036131944,\n",
       " -0.0005550935329362572,\n",
       " -0.001284843013510173,\n",
       " 0.00038107018353183975,\n",
       " -0.0011127492924134508,\n",
       " -0.000686310626441311,\n",
       " 0.0011241160698589603,\n",
       " 6.397011069692038e-05,\n",
       " 0.00023638614708332284,\n",
       " -0.001044036637198098,\n",
       " 0.00024305822516657027,\n",
       " -0.0010784253668719712,\n",
       " 4.3295602892734486e-05,\n",
       " 0.0008416588271115133,\n",
       " -0.0006241813699703336,\n",
       " -0.0006793844479444644,\n",
       " -0.0011335636407139305,\n",
       " 0.0009174699033858147,\n",
       " 0.00040824623222923684,\n",
       " -0.002434372724947953,\n",
       " -0.0012848737102043595,\n",
       " -3.920460518402891e-05,\n",
       " 2.1921608379660285e-06,\n",
       " -0.0005966147911071751,\n",
       " 0.0019017536251163536,\n",
       " -0.00243422776833635,\n",
       " 0.0022458046375575247,\n",
       " 0.0006837159030914641,\n",
       " -0.0010303667549981244,\n",
       " -0.002468874009167399,\n",
       " -0.0001562367941743137,\n",
       " 0.0011654326834015238,\n",
       " -0.00014955277848771598,\n",
       " -0.001078474822657105,\n",
       " -0.00030796126903720467,\n",
       " 0.0007317131215768269,\n",
       " 0.0004150342756019665,\n",
       " 6.426514003610162e-05,\n",
       " 0.00014656070348451067,\n",
       " 0.00072495406952644,\n",
       " -0.0017665614991921874,\n",
       " 0.0005044606621753545,\n",
       " 0.003677286801659685,\n",
       " -0.0016566481957236423,\n",
       " 0.0008279821234238316,\n",
       " -0.0004796371740177774,\n",
       " -0.0014089633913280109,\n",
       " -0.001243638954513182,\n",
       " 0.0006834328113555221,\n",
       " -0.001732235868278753,\n",
       " -0.001064772538390879,\n",
       " 0.0014200129695997044,\n",
       " 0.00016697599475967717,\n",
       " 0.0010072544180589338,\n",
       " -0.0010302115661549038,\n",
       " -0.0009613232576335395,\n",
       " 0.0011514251375648321,\n",
       " -0.0006654826351657483,\n",
       " 0.0013030848082954405,\n",
       " -0.00028714180462119376,\n",
       " 0.0016471784550340374,\n",
       " 0.0010208339155480806,\n",
       " -0.0010716577879621436,\n",
       " 0.00029792363950409406,\n",
       " 0.0005664432566628852,\n",
       " -0.0002459189865332556,\n",
       " -0.0016429237416226705,\n",
       " -0.001566802287662039,\n",
       " 0.0008691623072142329,\n",
       " -3.9305222126251316e-05,\n",
       " -0.0014914363134542752,\n",
       " 0.0016058771898386226,\n",
       " -0.00041099273367839473,\n",
       " -0.0002320512811925246,\n",
       " -0.0033289793704354143,\n",
       " -1.8247005643790004e-05,\n",
       " -0.0011198204275220114,\n",
       " -0.0007688364150965077,\n",
       " -0.00023882227084626173,\n",
       " 0.00041539581444527407,\n",
       " 6.415770160639322e-05,\n",
       " -0.00012876742150969012,\n",
       " -0.0017253250381290552,\n",
       " 9.149064451874356e-05,\n",
       " -0.0014708845924269465,\n",
       " -0.0016496145787969763,\n",
       " -0.0008304506492529118,\n",
       " -0.00045224283771683194,\n",
       " 0.00027747253541898775,\n",
       " 0.0004289804280501741,\n",
       " 0.0010343315551859522,\n",
       " 0.0004080603466918298,\n",
       " -0.0018632210312049535,\n",
       " -0.0012435332214552064,\n",
       " 0.0008278218184650799,\n",
       " 0.0010136877440758418,\n",
       " 0.00036040931870273685,\n",
       " 0.0004975395997942611,\n",
       " -0.0031636668712238247,\n",
       " 0.0007386751128835023,\n",
       " -0.0009819568365122544,\n",
       " 0.0001124175473646849,\n",
       " 0.0012477316575937314,\n",
       " 0.00011235103786055856,\n",
       " -0.0005830045969237307,\n",
       " 0.0010621590559501959,\n",
       " -0.00017001752554812732,\n",
       " -0.0001354923661219809,\n",
       " 0.0007934313834193629,\n",
       " 0.000174038603008686,\n",
       " -0.000465834272809329,\n",
       " -0.0007550454514914096,\n",
       " 0.0015988998501846874,\n",
       " 0.0015368353978459925,\n",
       " -0.0009065345850316486,\n",
       " 0.00036002219928088497,\n",
       " -0.00045239802655994144,\n",
       " -0.0012025303963427714,\n",
       " -0.00011519474550814035,\n",
       " -0.00030058657773002206,\n",
       " 0.00038754614384639563,\n",
       " -0.0002800774910003412,\n",
       " -0.00022495286013346494,\n",
       " -0.002661572317820493,\n",
       " 0.0006143893139910483,\n",
       " -0.0006104262191751753,\n",
       " -1.8697223826080744e-05,\n",
       " -0.0011818780583731092,\n",
       " 0.0028516008667597292,\n",
       " 0.002693078116292824,\n",
       " -0.0007135719437337817,\n",
       " 0.0005320971612864378,\n",
       " -0.0021589473937553283,\n",
       " 0.0006009735322045628,\n",
       " -0.0018700892270570035,\n",
       " 0.001571491870908548,\n",
       " 0.0017640622766688097,\n",
       " -0.0010992976978170255,\n",
       " 1.5797238905657096e-05,\n",
       " 0.00040125524960021863,\n",
       " 0.000593945031393539,\n",
       " -0.00045912979265982923,\n",
       " -0.0014777323238162055,\n",
       " -8.746274557047684e-05,\n",
       " -0.0026133261150372844,\n",
       " 0.002355910648050963,\n",
       " 0.0008832107819766177,\n",
       " -0.001381123952960528,\n",
       " -0.0026480047579344745,\n",
       " 0.0006007603607167677,\n",
       " 0.00027737191847676534,\n",
       " -0.0006791491066219235,\n",
       " 0.0017572691171804378,\n",
       " 0.0014131874080450801,\n",
       " 0.000483617322552754,\n",
       " 0.0017710498485541404,\n",
       " -0.0007136469800974599,\n",
       " -0.0021934520887185727,\n",
       " 0.00024998099291950737,\n",
       " 0.0009726320524343635,\n",
       " -0.002159259476813502,\n",
       " 0.0001812512839851621,\n",
       " 0.000298358509339236,\n",
       " -0.0007069646697828169,\n",
       " 0.0007316176207502467,\n",
       " -0.000686469226028219,\n",
       " 0.00027067084907095307,\n",
       " -0.0016841329167353036,\n",
       " 0.0021838032839791577,\n",
       " -0.0014985654312074104,\n",
       " -0.0009615807687908262,\n",
       " 0.00047678835025444233,\n",
       " -0.0007895791377768857,\n",
       " -0.0016772220865856058,\n",
       " -0.000968464312990136,\n",
       " 0.0012889288951031252,\n",
       " -0.00028003485670269335,\n",
       " -0.0011059032663961466,\n",
       " -0.0020285250035568803,\n",
       " -0.00031419847728542116,\n",
       " -0.001512208027457107,\n",
       " 0.0010620243315698774,\n",
       " 0.002466079757304951,\n",
       " ...]"
      ]
     },
     "execution_count": 31,
     "metadata": {},
     "output_type": "execute_result"
    }
   ],
   "source": [
    "p_diffs #verify that values were appended to the arrary"
   ]
  },
  {
   "cell_type": "markdown",
   "metadata": {},
   "source": [
    "i. Plot a histogram of the **p_diffs**.  Does this plot look like what you expected?  Use the matching problem in the classroom to assure you fully understand what was computed here."
   ]
  },
  {
   "cell_type": "markdown",
   "metadata": {},
   "source": [
    "**I would expect a normal distribution due to the Central Limit theorem**"
   ]
  },
  {
   "cell_type": "code",
   "execution_count": 32,
   "metadata": {},
   "outputs": [],
   "source": [
    "#compute the actual converted rate for old and new pages\n",
    "#get the count of users who landed on the new page and converted\n",
    "new_convert = df2.query('landing_page == \"new_page\" and converted == 1')['user_id'].count()\n",
    "#get the count of users who landed on the old page and converted\n",
    "old_convert = df2.query('landing_page == \"old_page\" and converted == 1')['user_id'].count()"
   ]
  },
  {
   "cell_type": "code",
   "execution_count": 33,
   "metadata": {},
   "outputs": [],
   "source": [
    "#calculate the actual converted rate\n",
    "actual_conv_new = new_convert / n_new #get the number of users converted from new page divided by the total number of users who got the new page\n",
    "actual_conv_old = old_convert / n_old #get the number of users converted from old page divided by the total number of users who got the old page"
   ]
  },
  {
   "cell_type": "code",
   "execution_count": 34,
   "metadata": {},
   "outputs": [
    {
     "data": {
      "text/plain": [
       "-0.0015782389853555567"
      ]
     },
     "execution_count": 34,
     "metadata": {},
     "output_type": "execute_result"
    }
   ],
   "source": [
    "#get the observed difference\n",
    "obs_diff = actual_conv_new - actual_conv_old\n",
    "obs_diff #display obs_diff"
   ]
  },
  {
   "cell_type": "code",
   "execution_count": 35,
   "metadata": {},
   "outputs": [
    {
     "data": {
      "text/plain": [
       "(array([   6.,   57.,  383., 1394., 2650., 2950., 1819.,  609.,  117.,\n",
       "          15.]),\n",
       " array([-0.00478821, -0.00385972, -0.00293123, -0.00200274, -0.00107426,\n",
       "        -0.00014577,  0.00078272,  0.0017112 ,  0.00263969,  0.00356818,\n",
       "         0.00449667]),\n",
       " <a list of 10 Patch objects>)"
      ]
     },
     "execution_count": 35,
     "metadata": {},
     "output_type": "execute_result"
    },
    {
     "data": {
      "image/png": "[encoded data removed]",
      "text/plain": [
       "<Figure size 432x288 with 1 Axes>"
      ]
     },
     "metadata": {
      "needs_background": "light"
     },
     "output_type": "display_data"
    }
   ],
   "source": [
    "plt.hist(p_diffs) #plot the histogram of the p_diffs"
   ]
  },
  {
   "cell_type": "markdown",
   "metadata": {},
   "source": [
    "j. What proportion of the **p_diffs** are greater than the actual difference observed in **ab_data.csv**?"
   ]
  },
  {
   "cell_type": "code",
   "execution_count": 36,
   "metadata": {},
   "outputs": [
    {
     "data": {
      "text/plain": [
       "<matplotlib.lines.Line2D at 0x10285a198>"
      ]
     },
     "execution_count": 36,
     "metadata": {},
     "output_type": "execute_result"
    },
    {
     "data": {
      "image/png": "[encoded data removed]",
      "text/plain": [
       "<Figure size 432x288 with 1 Axes>"
      ]
     },
     "metadata": {
      "needs_background": "light"
     },
     "output_type": "display_data"
    }
   ],
   "source": [
    "p_diffs = np.array(p_diffs) #change to array so we can use numpy functions\n",
    "null_vals = np.random.normal(0, p_diffs.std(), p_diffs.size) #simulate from the null using a normal distribution\n",
    "plt.hist(null_vals) #plot the null values\n",
    "plt.axvline (x=obs_diff, c='r') #draw a red line of the observed difference"
   ]
  },
  {
   "cell_type": "code",
   "execution_count": 37,
   "metadata": {},
   "outputs": [
    {
     "data": {
      "text/plain": [
       "0.9118"
      ]
     },
     "execution_count": 37,
     "metadata": {},
     "output_type": "execute_result"
    }
   ],
   "source": [
    "(null_vals > obs_diff).mean() #proportion of all values above the obs difference (red line above)"
   ]
  },
  {
   "cell_type": "markdown",
   "metadata": {},
   "source": [
    "k. In words, explain what you just computed in part **j.**  What is this value called in scientific studies?  What does this value mean in terms of whether or not there is a difference between the new and old pages?"
   ]
  },
  {
   "cell_type": "markdown",
   "metadata": {},
   "source": [
    "**We just calculated the p-value. The p-value is the probability we obtain an observed statistic, or one more extreme, from the null hypothesis.**\n",
    "\n",
    "**With a type 1 error rate of .05, we fail to reject the null hyopothesis. This means the new page is the same or worse at converting than the old page.**"
   ]
  },
  {
   "cell_type": "markdown",
   "metadata": {},
   "source": [
    "l. We could also use a built-in to achieve similar results.  Though using the built-in might be easier to code, the above portions are a walkthrough of the ideas that are critical to correctly thinking about statistical significance. Fill in the below to calculate the number of conversions for each page, as well as the number of individuals who received each page. Let `n_old` and `n_new` refer the the number of rows associated with the old page and new pages, respectively."
   ]
  },
  {
   "cell_type": "code",
   "execution_count": 38,
   "metadata": {},
   "outputs": [],
   "source": [
    "import statsmodels.api as sm\n",
    "\n",
    "convert_old = df2.query('converted == 1 and landing_page == \"old_page\"')['user_id'].count() #count of users converted from old_page\n",
    "convert_new = df2.query('converted == 1 and landing_page == \"new_page\"')['user_id'].count() #count of users converted from new_page\n",
    "n_old = df2.query('landing_page == \"old_page\"')['user_id'].count() #count of users from old_page\n",
    "n_new = df2.query('landing_page == \"new_page\"')['user_id'].count() #count of users from new_page"
   ]
  },
  {
   "cell_type": "markdown",
   "metadata": {},
   "source": [
    "m. Now use `stats.proportions_ztest` to compute your test statistic and p-value.  [Here](http://knowledgetack.com/python/statsmodels/proportions_ztest/) is a helpful link on using the built in."
   ]
  },
  {
   "cell_type": "code",
   "execution_count": 39,
   "metadata": {},
   "outputs": [
    {
     "data": {
      "text/plain": [
       "(-1.3109241984234394, 0.9050583127590245)"
      ]
     },
     "execution_count": 39,
     "metadata": {},
     "output_type": "execute_result"
    }
   ],
   "source": [
    "#I inserted the variables based on the documentation\n",
    "z_score, p_value = sm.stats.proportions_ztest([convert_new, convert_old], [n_new, n_old], alternative='larger')\n",
    "z_score, p_value #print the value or the z-score and p-value"
   ]
  },
  {
   "cell_type": "markdown",
   "metadata": {},
   "source": [
    "n. What do the z-score and p-value you computed in the previous question mean for the conversion rates of the old and new pages?  Do they agree with the findings in parts **j.** and **k.**?"
   ]
  },
  {
   "cell_type": "markdown",
   "metadata": {},
   "source": [
    "**With a type 1 error rate of .05, the p-value is still high enough where we would fail to reject the null hypothesis. Z-score above 1.96 would be significant, but in this case it is not.**\n",
    "\n",
    "**We fail to rejet the null hypothesis, suggesting that the new page is the same or worse at converting than the old page.**\n",
    "\n",
    "**The answers in parts j and k are almost the same as the built-in results. They are similar because in parts j and k we were calculating the p-value step by step.**"
   ]
  },
  {
   "cell_type": "markdown",
   "metadata": {},
   "source": [
    "<a id='regression'></a>\n",
    "### Part III - A regression approach\n",
    "\n",
    "`1.` In this final part, you will see that the result you acheived in the previous A/B test can also be acheived by performing regression.<br><br>\n",
    "\n",
    "a. Since each row is either a conversion or no conversion, what type of regression should you be performing in this case?"
   ]
  },
  {
   "cell_type": "markdown",
   "metadata": {},
   "source": [
    "**Logistic regression can be used in this case since the response is categorical--Convert or Not Convert.**"
   ]
  },
  {
   "cell_type": "markdown",
   "metadata": {},
   "source": [
    "b. The goal is to use **statsmodels** to fit the regression model you specified in part **a.** to see if there is a significant difference in conversion based on which page a customer receives.  However, you first need to create a column for the intercept, and create a dummy variable column for which page each user received.  Add an **intercept** column, as well as an **ab_page** column, which is 1 when an individual receives the **treatment** and 0 if **control**."
   ]
  },
  {
   "cell_type": "code",
   "execution_count": 40,
   "metadata": {},
   "outputs": [
    {
     "name": "stderr",
     "output_type": "stream",
     "text": [
      "/Users/ajkim/anaconda3/lib/python3.7/site-packages/ipykernel_launcher.py:1: SettingWithCopyWarning: \n",
      "A value is trying to be set on a copy of a slice from a DataFrame.\n",
      "Try using .loc[row_indexer,col_indexer] = value instead\n",
      "\n",
      "See the caveats in the documentation: http://pandas.pydata.org/pandas-docs/stable/indexing.html#indexing-view-versus-copy\n",
      "  \"\"\"Entry point for launching an IPython kernel.\n",
      "/Users/ajkim/anaconda3/lib/python3.7/site-packages/pandas/core/frame.py:3140: SettingWithCopyWarning: \n",
      "A value is trying to be set on a copy of a slice from a DataFrame.\n",
      "Try using .loc[row_indexer,col_indexer] = value instead\n",
      "\n",
      "See the caveats in the documentation: http://pandas.pydata.org/pandas-docs/stable/indexing.html#indexing-view-versus-copy\n",
      "  self[k1] = value[k2]\n"
     ]
    },
    {
     "data": {
      "text/html": [
       "<div>\n",
       "<style scoped>\n",
       "    .dataframe tbody tr th:only-of-type {\n",
       "        vertical-align: middle;\n",
       "    }\n",
       "\n",
       "    .dataframe tbody tr th {\n",
       "        vertical-align: top;\n",
       "    }\n",
       "\n",
       "    .dataframe thead th {\n",
       "        text-align: right;\n",
       "    }\n",
       "</style>\n",
       "<table border=\"1\" class=\"dataframe\">\n",
       "  <thead>\n",
       "    <tr style=\"text-align: right;\">\n",
       "      <th></th>\n",
       "      <th>user_id</th>\n",
       "      <th>timestamp</th>\n",
       "      <th>group</th>\n",
       "      <th>landing_page</th>\n",
       "      <th>converted</th>\n",
       "      <th>intercept</th>\n",
       "      <th>ab_page</th>\n",
       "      <th>new_page</th>\n",
       "    </tr>\n",
       "  </thead>\n",
       "  <tbody>\n",
       "    <tr>\n",
       "      <th>0</th>\n",
       "      <td>851104</td>\n",
       "      <td>2017-01-21 22:11:48.556739</td>\n",
       "      <td>control</td>\n",
       "      <td>old_page</td>\n",
       "      <td>0</td>\n",
       "      <td>1</td>\n",
       "      <td>0</td>\n",
       "      <td>0</td>\n",
       "    </tr>\n",
       "    <tr>\n",
       "      <th>1</th>\n",
       "      <td>804228</td>\n",
       "      <td>2017-01-12 08:01:45.159739</td>\n",
       "      <td>control</td>\n",
       "      <td>old_page</td>\n",
       "      <td>0</td>\n",
       "      <td>1</td>\n",
       "      <td>0</td>\n",
       "      <td>0</td>\n",
       "    </tr>\n",
       "    <tr>\n",
       "      <th>2</th>\n",
       "      <td>661590</td>\n",
       "      <td>2017-01-11 16:55:06.154213</td>\n",
       "      <td>treatment</td>\n",
       "      <td>new_page</td>\n",
       "      <td>0</td>\n",
       "      <td>1</td>\n",
       "      <td>1</td>\n",
       "      <td>1</td>\n",
       "    </tr>\n",
       "    <tr>\n",
       "      <th>3</th>\n",
       "      <td>853541</td>\n",
       "      <td>2017-01-08 18:28:03.143765</td>\n",
       "      <td>treatment</td>\n",
       "      <td>new_page</td>\n",
       "      <td>0</td>\n",
       "      <td>1</td>\n",
       "      <td>1</td>\n",
       "      <td>1</td>\n",
       "    </tr>\n",
       "    <tr>\n",
       "      <th>4</th>\n",
       "      <td>864975</td>\n",
       "      <td>2017-01-21 01:52:26.210827</td>\n",
       "      <td>control</td>\n",
       "      <td>old_page</td>\n",
       "      <td>1</td>\n",
       "      <td>1</td>\n",
       "      <td>0</td>\n",
       "      <td>0</td>\n",
       "    </tr>\n",
       "  </tbody>\n",
       "</table>\n",
       "</div>"
      ],
      "text/plain": [
       "   user_id                   timestamp      group landing_page  converted  \\\n",
       "0   851104  2017-01-21 22:11:48.556739    control     old_page          0   \n",
       "1   804228  2017-01-12 08:01:45.159739    control     old_page          0   \n",
       "2   661590  2017-01-11 16:55:06.154213  treatment     new_page          0   \n",
       "3   853541  2017-01-08 18:28:03.143765  treatment     new_page          0   \n",
       "4   864975  2017-01-21 01:52:26.210827    control     old_page          1   \n",
       "\n",
       "   intercept  ab_page  new_page  \n",
       "0          1        0         0  \n",
       "1          1        0         0  \n",
       "2          1        1         1  \n",
       "3          1        1         1  \n",
       "4          1        0         0  "
      ]
     },
     "execution_count": 40,
     "metadata": {},
     "output_type": "execute_result"
    }
   ],
   "source": [
    "df2['intercept']=1 #create the intercept in teh dataframe\n",
    "df2[['treatment','ab_page']]=pd.get_dummies(df['group']) #create the dummy variables for ab_page\n",
    "df2[['new_page','old_page']]=pd.get_dummies(df['landing_page']) #create the dummy variables for ab_page\n",
    "df3 = df2.drop(columns=['treatment','old_page']) #create a new df and drop unneccessary column\n",
    "df3.head() #verify the df3 has all of the needed columms"
   ]
  },
  {
   "cell_type": "markdown",
   "metadata": {},
   "source": [
    "c. Use **statsmodels** to import your regression model.  Instantiate the model, and fit the model using the two columns you created in part **b.** to predict whether or not an individual converts."
   ]
  },
  {
   "cell_type": "code",
   "execution_count": 41,
   "metadata": {},
   "outputs": [
    {
     "name": "stdout",
     "output_type": "stream",
     "text": [
      "Optimization terminated successfully.\n",
      "         Current function value: 0.366118\n",
      "         Iterations 6\n"
     ]
    }
   ],
   "source": [
    "#user logistic regression model to determine if the treatment and control causes a difference in converts \n",
    "log_mod = sm.Logit(df3['converted'], df3[['intercept', 'ab_page']])\n",
    "results = log_mod.fit()"
   ]
  },
  {
   "cell_type": "markdown",
   "metadata": {},
   "source": [
    "d. Provide the summary of your model below, and use it as necessary to answer the following questions."
   ]
  },
  {
   "cell_type": "code",
   "execution_count": 42,
   "metadata": {},
   "outputs": [
    {
     "data": {
      "text/html": [
       "<table class=\"simpletable\">\n",
       "<caption>Logit Regression Results</caption>\n",
       "<tr>\n",
       "  <th>Dep. Variable:</th>     <td>converted</td>    <th>  No. Observations:  </th>   <td>290584</td>   \n",
       "</tr>\n",
       "<tr>\n",
       "  <th>Model:</th>               <td>Logit</td>      <th>  Df Residuals:      </th>   <td>290582</td>   \n",
       "</tr>\n",
       "<tr>\n",
       "  <th>Method:</th>               <td>MLE</td>       <th>  Df Model:          </th>   <td>     1</td>   \n",
       "</tr>\n",
       "<tr>\n",
       "  <th>Date:</th>          <td>Sun, 13 Jan 2019</td> <th>  Pseudo R-squ.:     </th>  <td>8.077e-06</td> \n",
       "</tr>\n",
       "<tr>\n",
       "  <th>Time:</th>              <td>17:27:55</td>     <th>  Log-Likelihood:    </th> <td>-1.0639e+05</td>\n",
       "</tr>\n",
       "<tr>\n",
       "  <th>converged:</th>           <td>True</td>       <th>  LL-Null:           </th> <td>-1.0639e+05</td>\n",
       "</tr>\n",
       "<tr>\n",
       "  <th> </th>                      <td> </td>        <th>  LLR p-value:       </th>   <td>0.1899</td>   \n",
       "</tr>\n",
       "</table>\n",
       "<table class=\"simpletable\">\n",
       "<tr>\n",
       "      <td></td>         <th>coef</th>     <th>std err</th>      <th>z</th>      <th>P>|z|</th>  <th>[0.025</th>    <th>0.975]</th>  \n",
       "</tr>\n",
       "<tr>\n",
       "  <th>intercept</th> <td>   -1.9888</td> <td>    0.008</td> <td> -246.669</td> <td> 0.000</td> <td>   -2.005</td> <td>   -1.973</td>\n",
       "</tr>\n",
       "<tr>\n",
       "  <th>ab_page</th>   <td>   -0.0150</td> <td>    0.011</td> <td>   -1.311</td> <td> 0.190</td> <td>   -0.037</td> <td>    0.007</td>\n",
       "</tr>\n",
       "</table>"
      ],
      "text/plain": [
       "<class 'statsmodels.iolib.summary.Summary'>\n",
       "\"\"\"\n",
       "                           Logit Regression Results                           \n",
       "==============================================================================\n",
       "Dep. Variable:              converted   No. Observations:               290584\n",
       "Model:                          Logit   Df Residuals:                   290582\n",
       "Method:                           MLE   Df Model:                            1\n",
       "Date:                Sun, 13 Jan 2019   Pseudo R-squ.:               8.077e-06\n",
       "Time:                        17:27:55   Log-Likelihood:            -1.0639e+05\n",
       "converged:                       True   LL-Null:                   -1.0639e+05\n",
       "                                        LLR p-value:                    0.1899\n",
       "==============================================================================\n",
       "                 coef    std err          z      P>|z|      [0.025      0.975]\n",
       "------------------------------------------------------------------------------\n",
       "intercept     -1.9888      0.008   -246.669      0.000      -2.005      -1.973\n",
       "ab_page       -0.0150      0.011     -1.311      0.190      -0.037       0.007\n",
       "==============================================================================\n",
       "\"\"\""
      ]
     },
     "execution_count": 42,
     "metadata": {},
     "output_type": "execute_result"
    }
   ],
   "source": [
    "results.summary() #print the summary of results"
   ]
  },
  {
   "cell_type": "markdown",
   "metadata": {},
   "source": [
    "e. What is the p-value associated with **ab_page**? Why does it differ from the value you found in **Part II**?<br><br>  **Hint**: What are the null and alternative hypotheses associated with your regression model, and how do they compare to the null and alternative hypotheses in the **Part II**?"
   ]
  },
  {
   "cell_type": "markdown",
   "metadata": {},
   "source": [
    "**P-value is 0.19.**\n",
    "\n",
    "**Null hypothesis is that there is no difference between the response and coefficients. \n",
    "The alternative hypothesis is that there is a difference between the response and coefficients. This is a two tail test.**\n",
    "\n",
    "**Part 2, we were interested in if the new page was better than the old page--which is essentially a one tail test.**\n",
    "\n",
    "**The two hypotheses are different and therefore the p-values will be different since they are calculating different probabilities.**"
   ]
  },
  {
   "cell_type": "markdown",
   "metadata": {},
   "source": [
    "f. Now, you are considering other things that might influence whether or not an individual converts.  Discuss why it is a good idea to consider other factors to add into your regression model.  Are there any disadvantages to adding additional terms into your regression model?"
   ]
  },
  {
   "cell_type": "markdown",
   "metadata": {},
   "source": [
    "**Certain variables may not be independent and require more factors to be added to the regression model (i.e. home value examples are dependent on a number of things)**\n",
    "\n",
    "**You can run into multicollinearity which can make our responses unreliable and the expected relationships may not hold between x and y variables**"
   ]
  },
  {
   "cell_type": "markdown",
   "metadata": {},
   "source": [
    "g. Now along with testing if the conversion rate changes for different pages, also add an effect based on which country a user lives. You will need to read in the **countries.csv** dataset and merge together your datasets on the approporiate rows.  [Here](https://pandas.pydata.org/pandas-docs/stable/generated/pandas.DataFrame.join.html) are the docs for joining tables. \n",
    "\n",
    "Does it appear that country had an impact on conversion?  Don't forget to create dummy variables for these country columns - **Hint: You will need two columns for the three dummy variables.** Provide the statistical output as well as a written response to answer this question."
   ]
  },
  {
   "cell_type": "code",
   "execution_count": 43,
   "metadata": {},
   "outputs": [
    {
     "data": {
      "text/html": [
       "<div>\n",
       "<style scoped>\n",
       "    .dataframe tbody tr th:only-of-type {\n",
       "        vertical-align: middle;\n",
       "    }\n",
       "\n",
       "    .dataframe tbody tr th {\n",
       "        vertical-align: top;\n",
       "    }\n",
       "\n",
       "    .dataframe thead th {\n",
       "        text-align: right;\n",
       "    }\n",
       "</style>\n",
       "<table border=\"1\" class=\"dataframe\">\n",
       "  <thead>\n",
       "    <tr style=\"text-align: right;\">\n",
       "      <th></th>\n",
       "      <th>country</th>\n",
       "      <th>timestamp</th>\n",
       "      <th>group</th>\n",
       "      <th>landing_page</th>\n",
       "      <th>converted</th>\n",
       "      <th>intercept</th>\n",
       "      <th>ab_page</th>\n",
       "      <th>new_page</th>\n",
       "    </tr>\n",
       "    <tr>\n",
       "      <th>user_id</th>\n",
       "      <th></th>\n",
       "      <th></th>\n",
       "      <th></th>\n",
       "      <th></th>\n",
       "      <th></th>\n",
       "      <th></th>\n",
       "      <th></th>\n",
       "      <th></th>\n",
       "    </tr>\n",
       "  </thead>\n",
       "  <tbody>\n",
       "    <tr>\n",
       "      <th>834778</th>\n",
       "      <td>UK</td>\n",
       "      <td>2017-01-14 23:08:43.304998</td>\n",
       "      <td>control</td>\n",
       "      <td>old_page</td>\n",
       "      <td>0</td>\n",
       "      <td>1</td>\n",
       "      <td>0</td>\n",
       "      <td>0</td>\n",
       "    </tr>\n",
       "    <tr>\n",
       "      <th>928468</th>\n",
       "      <td>US</td>\n",
       "      <td>2017-01-23 14:44:16.387854</td>\n",
       "      <td>treatment</td>\n",
       "      <td>new_page</td>\n",
       "      <td>0</td>\n",
       "      <td>1</td>\n",
       "      <td>1</td>\n",
       "      <td>1</td>\n",
       "    </tr>\n",
       "    <tr>\n",
       "      <th>822059</th>\n",
       "      <td>UK</td>\n",
       "      <td>2017-01-16 14:04:14.719771</td>\n",
       "      <td>treatment</td>\n",
       "      <td>new_page</td>\n",
       "      <td>1</td>\n",
       "      <td>1</td>\n",
       "      <td>1</td>\n",
       "      <td>1</td>\n",
       "    </tr>\n",
       "    <tr>\n",
       "      <th>711597</th>\n",
       "      <td>UK</td>\n",
       "      <td>2017-01-22 03:14:24.763511</td>\n",
       "      <td>control</td>\n",
       "      <td>old_page</td>\n",
       "      <td>0</td>\n",
       "      <td>1</td>\n",
       "      <td>0</td>\n",
       "      <td>0</td>\n",
       "    </tr>\n",
       "    <tr>\n",
       "      <th>710616</th>\n",
       "      <td>UK</td>\n",
       "      <td>2017-01-16 13:14:44.000513</td>\n",
       "      <td>treatment</td>\n",
       "      <td>new_page</td>\n",
       "      <td>0</td>\n",
       "      <td>1</td>\n",
       "      <td>1</td>\n",
       "      <td>1</td>\n",
       "    </tr>\n",
       "  </tbody>\n",
       "</table>\n",
       "</div>"
      ],
      "text/plain": [
       "        country                   timestamp      group landing_page  \\\n",
       "user_id                                                               \n",
       "834778       UK  2017-01-14 23:08:43.304998    control     old_page   \n",
       "928468       US  2017-01-23 14:44:16.387854  treatment     new_page   \n",
       "822059       UK  2017-01-16 14:04:14.719771  treatment     new_page   \n",
       "711597       UK  2017-01-22 03:14:24.763511    control     old_page   \n",
       "710616       UK  2017-01-16 13:14:44.000513  treatment     new_page   \n",
       "\n",
       "         converted  intercept  ab_page  new_page  \n",
       "user_id                                           \n",
       "834778           0          1        0         0  \n",
       "928468           0          1        1         1  \n",
       "822059           1          1        1         1  \n",
       "711597           0          1        0         0  \n",
       "710616           0          1        1         1  "
      ]
     },
     "execution_count": 43,
     "metadata": {},
     "output_type": "execute_result"
    }
   ],
   "source": [
    "countries_df = pd.read_csv('./countries.csv') #read the countries file\n",
    "df_new = countries_df.set_index('user_id').join(df3.set_index('user_id'), how='inner') #join the file with df3 using an inner join\n",
    "df_new.head() #verify the country column was added properly"
   ]
  },
  {
   "cell_type": "code",
   "execution_count": 44,
   "metadata": {},
   "outputs": [
    {
     "data": {
      "text/plain": [
       "array(['UK', 'US', 'CA'], dtype=object)"
      ]
     },
     "execution_count": 44,
     "metadata": {},
     "output_type": "execute_result"
    }
   ],
   "source": [
    "df_new['country'].unique() #get the unique values in the country column\n"
   ]
  },
  {
   "cell_type": "code",
   "execution_count": 45,
   "metadata": {},
   "outputs": [],
   "source": [
    "### Create the necessary dummy variables\n",
    "df_new['intercept']=1 #create the intercept\n",
    "df_new[['CA','UK','US']]=pd.get_dummies(df_new['country']) #create the dummy variables "
   ]
  },
  {
   "cell_type": "code",
   "execution_count": 46,
   "metadata": {},
   "outputs": [
    {
     "data": {
      "text/html": [
       "<div>\n",
       "<style scoped>\n",
       "    .dataframe tbody tr th:only-of-type {\n",
       "        vertical-align: middle;\n",
       "    }\n",
       "\n",
       "    .dataframe tbody tr th {\n",
       "        vertical-align: top;\n",
       "    }\n",
       "\n",
       "    .dataframe thead th {\n",
       "        text-align: right;\n",
       "    }\n",
       "</style>\n",
       "<table border=\"1\" class=\"dataframe\">\n",
       "  <thead>\n",
       "    <tr style=\"text-align: right;\">\n",
       "      <th></th>\n",
       "      <th>country</th>\n",
       "      <th>timestamp</th>\n",
       "      <th>group</th>\n",
       "      <th>landing_page</th>\n",
       "      <th>converted</th>\n",
       "      <th>intercept</th>\n",
       "      <th>ab_page</th>\n",
       "      <th>new_page</th>\n",
       "      <th>CA</th>\n",
       "      <th>UK</th>\n",
       "      <th>US</th>\n",
       "    </tr>\n",
       "    <tr>\n",
       "      <th>user_id</th>\n",
       "      <th></th>\n",
       "      <th></th>\n",
       "      <th></th>\n",
       "      <th></th>\n",
       "      <th></th>\n",
       "      <th></th>\n",
       "      <th></th>\n",
       "      <th></th>\n",
       "      <th></th>\n",
       "      <th></th>\n",
       "      <th></th>\n",
       "    </tr>\n",
       "  </thead>\n",
       "  <tbody>\n",
       "    <tr>\n",
       "      <th>834778</th>\n",
       "      <td>UK</td>\n",
       "      <td>2017-01-14 23:08:43.304998</td>\n",
       "      <td>control</td>\n",
       "      <td>old_page</td>\n",
       "      <td>0</td>\n",
       "      <td>1</td>\n",
       "      <td>0</td>\n",
       "      <td>0</td>\n",
       "      <td>0</td>\n",
       "      <td>1</td>\n",
       "      <td>0</td>\n",
       "    </tr>\n",
       "    <tr>\n",
       "      <th>928468</th>\n",
       "      <td>US</td>\n",
       "      <td>2017-01-23 14:44:16.387854</td>\n",
       "      <td>treatment</td>\n",
       "      <td>new_page</td>\n",
       "      <td>0</td>\n",
       "      <td>1</td>\n",
       "      <td>1</td>\n",
       "      <td>1</td>\n",
       "      <td>0</td>\n",
       "      <td>0</td>\n",
       "      <td>1</td>\n",
       "    </tr>\n",
       "    <tr>\n",
       "      <th>822059</th>\n",
       "      <td>UK</td>\n",
       "      <td>2017-01-16 14:04:14.719771</td>\n",
       "      <td>treatment</td>\n",
       "      <td>new_page</td>\n",
       "      <td>1</td>\n",
       "      <td>1</td>\n",
       "      <td>1</td>\n",
       "      <td>1</td>\n",
       "      <td>0</td>\n",
       "      <td>1</td>\n",
       "      <td>0</td>\n",
       "    </tr>\n",
       "    <tr>\n",
       "      <th>711597</th>\n",
       "      <td>UK</td>\n",
       "      <td>2017-01-22 03:14:24.763511</td>\n",
       "      <td>control</td>\n",
       "      <td>old_page</td>\n",
       "      <td>0</td>\n",
       "      <td>1</td>\n",
       "      <td>0</td>\n",
       "      <td>0</td>\n",
       "      <td>0</td>\n",
       "      <td>1</td>\n",
       "      <td>0</td>\n",
       "    </tr>\n",
       "    <tr>\n",
       "      <th>710616</th>\n",
       "      <td>UK</td>\n",
       "      <td>2017-01-16 13:14:44.000513</td>\n",
       "      <td>treatment</td>\n",
       "      <td>new_page</td>\n",
       "      <td>0</td>\n",
       "      <td>1</td>\n",
       "      <td>1</td>\n",
       "      <td>1</td>\n",
       "      <td>0</td>\n",
       "      <td>1</td>\n",
       "      <td>0</td>\n",
       "    </tr>\n",
       "  </tbody>\n",
       "</table>\n",
       "</div>"
      ],
      "text/plain": [
       "        country                   timestamp      group landing_page  \\\n",
       "user_id                                                               \n",
       "834778       UK  2017-01-14 23:08:43.304998    control     old_page   \n",
       "928468       US  2017-01-23 14:44:16.387854  treatment     new_page   \n",
       "822059       UK  2017-01-16 14:04:14.719771  treatment     new_page   \n",
       "711597       UK  2017-01-22 03:14:24.763511    control     old_page   \n",
       "710616       UK  2017-01-16 13:14:44.000513  treatment     new_page   \n",
       "\n",
       "         converted  intercept  ab_page  new_page  CA  UK  US  \n",
       "user_id                                                       \n",
       "834778           0          1        0         0   0   1   0  \n",
       "928468           0          1        1         1   0   0   1  \n",
       "822059           1          1        1         1   0   1   0  \n",
       "711597           0          1        0         0   0   1   0  \n",
       "710616           0          1        1         1   0   1   0  "
      ]
     },
     "execution_count": 46,
     "metadata": {},
     "output_type": "execute_result"
    }
   ],
   "source": [
    "df_new.head() #verify the dummy variables were added properly"
   ]
  },
  {
   "cell_type": "code",
   "execution_count": 47,
   "metadata": {},
   "outputs": [
    {
     "name": "stdout",
     "output_type": "stream",
     "text": [
      "Optimization terminated successfully.\n",
      "         Current function value: 0.366113\n",
      "         Iterations 6\n"
     ]
    },
    {
     "data": {
      "text/html": [
       "<table class=\"simpletable\">\n",
       "<caption>Logit Regression Results</caption>\n",
       "<tr>\n",
       "  <th>Dep. Variable:</th>     <td>converted</td>    <th>  No. Observations:  </th>   <td>290584</td>   \n",
       "</tr>\n",
       "<tr>\n",
       "  <th>Model:</th>               <td>Logit</td>      <th>  Df Residuals:      </th>   <td>290580</td>   \n",
       "</tr>\n",
       "<tr>\n",
       "  <th>Method:</th>               <td>MLE</td>       <th>  Df Model:          </th>   <td>     3</td>   \n",
       "</tr>\n",
       "<tr>\n",
       "  <th>Date:</th>          <td>Sun, 13 Jan 2019</td> <th>  Pseudo R-squ.:     </th>  <td>2.323e-05</td> \n",
       "</tr>\n",
       "<tr>\n",
       "  <th>Time:</th>              <td>17:27:56</td>     <th>  Log-Likelihood:    </th> <td>-1.0639e+05</td>\n",
       "</tr>\n",
       "<tr>\n",
       "  <th>converged:</th>           <td>True</td>       <th>  LL-Null:           </th> <td>-1.0639e+05</td>\n",
       "</tr>\n",
       "<tr>\n",
       "  <th> </th>                      <td> </td>        <th>  LLR p-value:       </th>   <td>0.1760</td>   \n",
       "</tr>\n",
       "</table>\n",
       "<table class=\"simpletable\">\n",
       "<tr>\n",
       "      <td></td>         <th>coef</th>     <th>std err</th>      <th>z</th>      <th>P>|z|</th>  <th>[0.025</th>    <th>0.975]</th>  \n",
       "</tr>\n",
       "<tr>\n",
       "  <th>intercept</th> <td>   -2.0300</td> <td>    0.027</td> <td>  -76.249</td> <td> 0.000</td> <td>   -2.082</td> <td>   -1.978</td>\n",
       "</tr>\n",
       "<tr>\n",
       "  <th>new_page</th>  <td>   -0.0149</td> <td>    0.011</td> <td>   -1.307</td> <td> 0.191</td> <td>   -0.037</td> <td>    0.007</td>\n",
       "</tr>\n",
       "<tr>\n",
       "  <th>UK</th>        <td>    0.0506</td> <td>    0.028</td> <td>    1.784</td> <td> 0.074</td> <td>   -0.005</td> <td>    0.106</td>\n",
       "</tr>\n",
       "<tr>\n",
       "  <th>US</th>        <td>    0.0408</td> <td>    0.027</td> <td>    1.516</td> <td> 0.130</td> <td>   -0.012</td> <td>    0.093</td>\n",
       "</tr>\n",
       "</table>"
      ],
      "text/plain": [
       "<class 'statsmodels.iolib.summary.Summary'>\n",
       "\"\"\"\n",
       "                           Logit Regression Results                           \n",
       "==============================================================================\n",
       "Dep. Variable:              converted   No. Observations:               290584\n",
       "Model:                          Logit   Df Residuals:                   290580\n",
       "Method:                           MLE   Df Model:                            3\n",
       "Date:                Sun, 13 Jan 2019   Pseudo R-squ.:               2.323e-05\n",
       "Time:                        17:27:56   Log-Likelihood:            -1.0639e+05\n",
       "converged:                       True   LL-Null:                   -1.0639e+05\n",
       "                                        LLR p-value:                    0.1760\n",
       "==============================================================================\n",
       "                 coef    std err          z      P>|z|      [0.025      0.975]\n",
       "------------------------------------------------------------------------------\n",
       "intercept     -2.0300      0.027    -76.249      0.000      -2.082      -1.978\n",
       "new_page      -0.0149      0.011     -1.307      0.191      -0.037       0.007\n",
       "UK             0.0506      0.028      1.784      0.074      -0.005       0.106\n",
       "US             0.0408      0.027      1.516      0.130      -0.012       0.093\n",
       "==============================================================================\n",
       "\"\"\""
      ]
     },
     "execution_count": 47,
     "metadata": {},
     "output_type": "execute_result"
    }
   ],
   "source": [
    "#use logistic regression model to get the summary of results\n",
    "log_mod2 = sm.Logit(df_new['converted'], df_new[['intercept','new_page','UK','US']]) #drop one of the columns \n",
    "results = log_mod2.fit()\n",
    "results.summary() #print the results"
   ]
  },
  {
   "cell_type": "code",
   "execution_count": 48,
   "metadata": {},
   "outputs": [
    {
     "data": {
      "text/plain": [
       "(1.001501125562711, 1.0519020483004984, 1.0416437559600236)"
      ]
     },
     "execution_count": 48,
     "metadata": {},
     "output_type": "execute_result"
    }
   ],
   "source": [
    "#calculate the exponential to interpret the values. Use the reciprical for negative values and change to every unit decrease\n",
    "1/np.exp(-0.0015), np.exp(0.0506), np.exp(0.0408)"
   ]
  },
  {
   "cell_type": "markdown",
   "metadata": {},
   "source": [
    "**For every one unit decrease on the new_page, converting is expected to be 1.0015 times more likely holding all other variables constant.**\n",
    "\n",
    "**For every one unit increase for UK, converting is expected to be 1.0519 times more likely holding all other variables constant.**\n",
    "\n",
    "**For every one unit increase for US, converting is expected to be 1.0416 times more likely holding all other variables constant.**"
   ]
  },
  {
   "cell_type": "markdown",
   "metadata": {},
   "source": [
    "h. Though you have now looked at the individual factors of country and page on conversion, we would now like to look at an interaction between page and country to see if there significant effects on conversion.  Create the necessary additional columns, and fit the new model.  \n",
    "\n",
    "Provide the summary results, and your conclusions based on the results."
   ]
  },
  {
   "cell_type": "code",
   "execution_count": 49,
   "metadata": {},
   "outputs": [],
   "source": [
    "### Fit Your Linear Model And Obtain the Results\n",
    "\n",
    "#create high order terms or interaction variables by multiplying country and new_page\n",
    "df_new['uk_new'] = df_new['UK']*df_new['new_page']\n",
    "df_new['us_new'] = df_new['US']*df_new['new_page']"
   ]
  },
  {
   "cell_type": "code",
   "execution_count": 50,
   "metadata": {},
   "outputs": [
    {
     "data": {
      "text/html": [
       "<table class=\"simpletable\">\n",
       "<caption>OLS Regression Results</caption>\n",
       "<tr>\n",
       "  <th>Dep. Variable:</th>        <td>converted</td>    <th>  R-squared:         </th> <td>   0.000</td> \n",
       "</tr>\n",
       "<tr>\n",
       "  <th>Model:</th>                   <td>OLS</td>       <th>  Adj. R-squared:    </th> <td>   0.000</td> \n",
       "</tr>\n",
       "<tr>\n",
       "  <th>Method:</th>             <td>Least Squares</td>  <th>  F-statistic:       </th> <td>   1.466</td> \n",
       "</tr>\n",
       "<tr>\n",
       "  <th>Date:</th>             <td>Sun, 13 Jan 2019</td> <th>  Prob (F-statistic):</th>  <td> 0.197</td>  \n",
       "</tr>\n",
       "<tr>\n",
       "  <th>Time:</th>                 <td>17:27:56</td>     <th>  Log-Likelihood:    </th> <td> -85265.</td> \n",
       "</tr>\n",
       "<tr>\n",
       "  <th>No. Observations:</th>      <td>290584</td>      <th>  AIC:               </th> <td>1.705e+05</td>\n",
       "</tr>\n",
       "<tr>\n",
       "  <th>Df Residuals:</th>          <td>290578</td>      <th>  BIC:               </th> <td>1.706e+05</td>\n",
       "</tr>\n",
       "<tr>\n",
       "  <th>Df Model:</th>              <td>     5</td>      <th>                     </th>     <td> </td>    \n",
       "</tr>\n",
       "<tr>\n",
       "  <th>Covariance Type:</th>      <td>nonrobust</td>    <th>                     </th>     <td> </td>    \n",
       "</tr>\n",
       "</table>\n",
       "<table class=\"simpletable\">\n",
       "<tr>\n",
       "      <td></td>         <th>coef</th>     <th>std err</th>      <th>t</th>      <th>P>|t|</th>  <th>[0.025</th>    <th>0.975]</th>  \n",
       "</tr>\n",
       "<tr>\n",
       "  <th>intercept</th> <td>    0.1188</td> <td>    0.004</td> <td>   31.057</td> <td> 0.000</td> <td>    0.111</td> <td>    0.126</td>\n",
       "</tr>\n",
       "<tr>\n",
       "  <th>new_page</th>  <td>   -0.0069</td> <td>    0.005</td> <td>   -1.277</td> <td> 0.202</td> <td>   -0.017</td> <td>    0.004</td>\n",
       "</tr>\n",
       "<tr>\n",
       "  <th>uk_new</th>    <td>    0.0080</td> <td>    0.006</td> <td>    1.360</td> <td> 0.174</td> <td>   -0.004</td> <td>    0.020</td>\n",
       "</tr>\n",
       "<tr>\n",
       "  <th>us_new</th>    <td>    0.0047</td> <td>    0.006</td> <td>    0.845</td> <td> 0.398</td> <td>   -0.006</td> <td>    0.016</td>\n",
       "</tr>\n",
       "<tr>\n",
       "  <th>UK</th>        <td>    0.0012</td> <td>    0.004</td> <td>    0.296</td> <td> 0.767</td> <td>   -0.007</td> <td>    0.009</td>\n",
       "</tr>\n",
       "<tr>\n",
       "  <th>US</th>        <td>    0.0018</td> <td>    0.004</td> <td>    0.467</td> <td> 0.641</td> <td>   -0.006</td> <td>    0.010</td>\n",
       "</tr>\n",
       "</table>\n",
       "<table class=\"simpletable\">\n",
       "<tr>\n",
       "  <th>Omnibus:</th>       <td>125549.436</td> <th>  Durbin-Watson:     </th>  <td>   1.996</td> \n",
       "</tr>\n",
       "<tr>\n",
       "  <th>Prob(Omnibus):</th>   <td> 0.000</td>   <th>  Jarque-Bera (JB):  </th> <td>414285.945</td>\n",
       "</tr>\n",
       "<tr>\n",
       "  <th>Skew:</th>            <td> 2.345</td>   <th>  Prob(JB):          </th>  <td>    0.00</td> \n",
       "</tr>\n",
       "<tr>\n",
       "  <th>Kurtosis:</th>        <td> 6.497</td>   <th>  Cond. No.          </th>  <td>    26.1</td> \n",
       "</tr>\n",
       "</table><br/><br/>Warnings:<br/>[1] Standard Errors assume that the covariance matrix of the errors is correctly specified."
      ],
      "text/plain": [
       "<class 'statsmodels.iolib.summary.Summary'>\n",
       "\"\"\"\n",
       "                            OLS Regression Results                            \n",
       "==============================================================================\n",
       "Dep. Variable:              converted   R-squared:                       0.000\n",
       "Model:                            OLS   Adj. R-squared:                  0.000\n",
       "Method:                 Least Squares   F-statistic:                     1.466\n",
       "Date:                Sun, 13 Jan 2019   Prob (F-statistic):              0.197\n",
       "Time:                        17:27:56   Log-Likelihood:                -85265.\n",
       "No. Observations:              290584   AIC:                         1.705e+05\n",
       "Df Residuals:                  290578   BIC:                         1.706e+05\n",
       "Df Model:                           5                                         \n",
       "Covariance Type:            nonrobust                                         \n",
       "==============================================================================\n",
       "                 coef    std err          t      P>|t|      [0.025      0.975]\n",
       "------------------------------------------------------------------------------\n",
       "intercept      0.1188      0.004     31.057      0.000       0.111       0.126\n",
       "new_page      -0.0069      0.005     -1.277      0.202      -0.017       0.004\n",
       "uk_new         0.0080      0.006      1.360      0.174      -0.004       0.020\n",
       "us_new         0.0047      0.006      0.845      0.398      -0.006       0.016\n",
       "UK             0.0012      0.004      0.296      0.767      -0.007       0.009\n",
       "US             0.0018      0.004      0.467      0.641      -0.006       0.010\n",
       "==============================================================================\n",
       "Omnibus:                   125549.436   Durbin-Watson:                   1.996\n",
       "Prob(Omnibus):                  0.000   Jarque-Bera (JB):           414285.945\n",
       "Skew:                           2.345   Prob(JB):                         0.00\n",
       "Kurtosis:                       6.497   Cond. No.                         26.1\n",
       "==============================================================================\n",
       "\n",
       "Warnings:\n",
       "[1] Standard Errors assume that the covariance matrix of the errors is correctly specified.\n",
       "\"\"\""
      ]
     },
     "execution_count": 50,
     "metadata": {},
     "output_type": "execute_result"
    }
   ],
   "source": [
    "#use the OLS model for the higher order terms\n",
    "lm = sm.OLS(df_new['converted'],df_new[['intercept','new_page','uk_new','us_new','UK','US']])\n",
    "results = lm.fit() \n",
    "results.summary() #print the summary"
   ]
  },
  {
   "cell_type": "markdown",
   "metadata": {},
   "source": [
    "**The higher order terms are not easily interpretable.**\n",
    "\n",
    "**The p-values for all variables are not less than 0.05 so they are not statistically significant.**\n",
    "\n",
    "**Convert for UK users is .0012 times more likely than CA users**\n",
    "**Convert for US users is .0018 times more likely than CA users**"
   ]
  },
  {
   "cell_type": "markdown",
   "metadata": {},
   "source": [
    "<a id='conclusions'></a>\n",
    "## Conclusions\n",
    "\n",
    "Congratulations on completing the project! \n",
    "\n",
    "### Gather Submission Materials\n",
    "\n",
    "Once you are satisfied with the status of your Notebook, you should save it in a format that will make it easy for others to read. You can use the __File -> Download as -> HTML (.html)__ menu to save your notebook as an .html file. If you are working locally and get an error about \"No module name\", then open a terminal and try installing the missing module using `pip install <module_name>` (don't include the \"<\" or \">\" or any words following a period in the module name).\n",
    "\n",
    "You will submit both your original Notebook and an HTML or PDF copy of the Notebook for review. There is no need for you to include any data files with your submission. If you made reference to other websites, books, and other resources to help you in solving tasks in the project, make sure that you document them. It is recommended that you either add a \"Resources\" section in a Markdown cell at the end of the Notebook report, or you can include a `readme.txt` file documenting your sources.\n",
    "\n",
    "### Submit the Project\n",
    "\n",
    "When you're ready, click on the \"Submit Project\" button to go to the project submission page. You can submit your files as a .zip archive or you can link to a GitHub repository containing your project files. If you go with GitHub, note that your submission will be a snapshot of the linked repository at time of submission. It is recommended that you keep each project in a separate repository to avoid any potential confusion: if a reviewer gets multiple folders representing multiple projects, there might be confusion regarding what project is to be evaluated.\n",
    "\n",
    "It can take us up to a week to grade the project, but in most cases it is much faster. You will get an email once your submission has been reviewed. If you are having any problems submitting your project or wish to check on the status of your submission, please email us at dataanalyst-project@udacity.com. In the meantime, you should feel free to continue on with your learning journey by beginning the next module in the program."
   ]
  },
  {
   "cell_type": "markdown",
   "metadata": {
    "collapsed": true
   },
   "source": [
    "**References used: GitHub, StackOverflow, Student Knowledge Center on Udacity**"
   ]
  },
  {
   "cell_type": "code",
   "execution_count": null,
   "metadata": {},
   "outputs": [],
   "source": []
  }
 ],
 "metadata": {
  "kernelspec": {
   "display_name": "Python 3",
   "language": "python",
   "name": "python3"
  },
  "language_info": {
   "codemirror_mode": {
    "name": "ipython",
    "version": 3
   },
   "file_extension": ".py",
   "mimetype": "text/x-python",
   "name": "python",
   "nbconvert_exporter": "python",
   "pygments_lexer": "ipython3",
   "version": "3.7.0"
  }
 },
 "nbformat": 4,
 "nbformat_minor": 2
}
