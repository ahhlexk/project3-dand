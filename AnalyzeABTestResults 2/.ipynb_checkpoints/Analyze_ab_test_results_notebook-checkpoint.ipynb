{
 "cells": [
  {
   "cell_type": "markdown",
   "metadata": {},
   "source": [
    "## Analyze A/B Test Results\n",
    "\n",
    "This project will assure you have mastered the subjects covered in the statistics lessons.  The hope is to have this project be as comprehensive of these topics as possible.  Good luck!\n",
    "\n",
    "## Table of Contents\n",
    "- [Introduction](#intro)\n",
    "- [Part I - Probability](#probability)\n",
    "- [Part II - A/B Test](#ab_test)\n",
    "- [Part III - Regression](#regression)\n",
    "\n",
    "\n",
    "<a id='intro'></a>\n",
    "### Introduction\n",
    "\n",
    "A/B tests are very commonly performed by data analysts and data scientists.  It is important that you get some practice working with the difficulties of these \n",
    "\n",
    "For this project, you will be working to understand the results of an A/B test run by an e-commerce website.  Your goal is to work through this notebook to help the company understand if they should implement the new page, keep the old page, or perhaps run the experiment longer to make their decision.\n",
    "\n",
    "**As you work through this notebook, follow along in the classroom and answer the corresponding quiz questions associated with each question.** The labels for each classroom concept are provided for each question.  This will assure you are on the right track as you work through the project, and you can feel more confident in your final submission meeting the criteria.  As a final check, assure you meet all the criteria on the [RUBRIC](https://review.udacity.com/#!/projects/37e27304-ad47-4eb0-a1ab-8c12f60e43d0/rubric).\n",
    "\n",
    "<a id='probability'></a>\n",
    "#### Part I - Probability\n",
    "\n",
    "To get started, let's import our libraries."
   ]
  },
  {
   "cell_type": "code",
   "execution_count": 1,
   "metadata": {},
   "outputs": [],
   "source": [
    "import pandas as pd\n",
    "import numpy as np\n",
    "import random\n",
    "import matplotlib.pyplot as plt\n",
    "%matplotlib inline\n",
    "#We are setting the seed to assure you get the same answers on quizzes as we set up\n",
    "random.seed(42)"
   ]
  },
  {
   "cell_type": "markdown",
   "metadata": {},
   "source": [
    "`1.` Now, read in the `ab_data.csv` data. Store it in `df`.  **Use your dataframe to answer the questions in Quiz 1 of the classroom.**\n",
    "\n",
    "a. Read in the dataset and take a look at the top few rows here:"
   ]
  },
  {
   "cell_type": "code",
   "execution_count": 2,
   "metadata": {},
   "outputs": [
    {
     "data": {
      "text/html": [
       "<div>\n",
       "<style scoped>\n",
       "    .dataframe tbody tr th:only-of-type {\n",
       "        vertical-align: middle;\n",
       "    }\n",
       "\n",
       "    .dataframe tbody tr th {\n",
       "        vertical-align: top;\n",
       "    }\n",
       "\n",
       "    .dataframe thead th {\n",
       "        text-align: right;\n",
       "    }\n",
       "</style>\n",
       "<table border=\"1\" class=\"dataframe\">\n",
       "  <thead>\n",
       "    <tr style=\"text-align: right;\">\n",
       "      <th></th>\n",
       "      <th>user_id</th>\n",
       "      <th>timestamp</th>\n",
       "      <th>group</th>\n",
       "      <th>landing_page</th>\n",
       "      <th>converted</th>\n",
       "    </tr>\n",
       "  </thead>\n",
       "  <tbody>\n",
       "    <tr>\n",
       "      <th>0</th>\n",
       "      <td>851104</td>\n",
       "      <td>2017-01-21 22:11:48.556739</td>\n",
       "      <td>control</td>\n",
       "      <td>old_page</td>\n",
       "      <td>0</td>\n",
       "    </tr>\n",
       "    <tr>\n",
       "      <th>1</th>\n",
       "      <td>804228</td>\n",
       "      <td>2017-01-12 08:01:45.159739</td>\n",
       "      <td>control</td>\n",
       "      <td>old_page</td>\n",
       "      <td>0</td>\n",
       "    </tr>\n",
       "    <tr>\n",
       "      <th>2</th>\n",
       "      <td>661590</td>\n",
       "      <td>2017-01-11 16:55:06.154213</td>\n",
       "      <td>treatment</td>\n",
       "      <td>new_page</td>\n",
       "      <td>0</td>\n",
       "    </tr>\n",
       "    <tr>\n",
       "      <th>3</th>\n",
       "      <td>853541</td>\n",
       "      <td>2017-01-08 18:28:03.143765</td>\n",
       "      <td>treatment</td>\n",
       "      <td>new_page</td>\n",
       "      <td>0</td>\n",
       "    </tr>\n",
       "    <tr>\n",
       "      <th>4</th>\n",
       "      <td>864975</td>\n",
       "      <td>2017-01-21 01:52:26.210827</td>\n",
       "      <td>control</td>\n",
       "      <td>old_page</td>\n",
       "      <td>1</td>\n",
       "    </tr>\n",
       "  </tbody>\n",
       "</table>\n",
       "</div>"
      ],
      "text/plain": [
       "   user_id                   timestamp      group landing_page  converted\n",
       "0   851104  2017-01-21 22:11:48.556739    control     old_page          0\n",
       "1   804228  2017-01-12 08:01:45.159739    control     old_page          0\n",
       "2   661590  2017-01-11 16:55:06.154213  treatment     new_page          0\n",
       "3   853541  2017-01-08 18:28:03.143765  treatment     new_page          0\n",
       "4   864975  2017-01-21 01:52:26.210827    control     old_page          1"
      ]
     },
     "execution_count": 2,
     "metadata": {},
     "output_type": "execute_result"
    }
   ],
   "source": [
    "df = pd.read_csv('./ab_data.csv') #read the ab_data file\n",
    "df.head() #ensure the file loaded into df"
   ]
  },
  {
   "cell_type": "markdown",
   "metadata": {},
   "source": [
    "b. Use the below cell to find the number of rows in the dataset."
   ]
  },
  {
   "cell_type": "code",
   "execution_count": 3,
   "metadata": {},
   "outputs": [
    {
     "data": {
      "text/plain": [
       "294478"
      ]
     },
     "execution_count": 3,
     "metadata": {},
     "output_type": "execute_result"
    }
   ],
   "source": [
    "df.shape[0] #find the number of rows"
   ]
  },
  {
   "cell_type": "markdown",
   "metadata": {},
   "source": [
    "c. The number of unique users in the dataset."
   ]
  },
  {
   "cell_type": "code",
   "execution_count": 4,
   "metadata": {},
   "outputs": [
    {
     "data": {
      "text/plain": [
       "290584"
      ]
     },
     "execution_count": 4,
     "metadata": {},
     "output_type": "execute_result"
    }
   ],
   "source": [
    "df['user_id'].nunique() #find unique values for user_id column"
   ]
  },
  {
   "cell_type": "markdown",
   "metadata": {
    "collapsed": true
   },
   "source": [
    "d. The proportion of users converted."
   ]
  },
  {
   "cell_type": "code",
   "execution_count": 5,
   "metadata": {},
   "outputs": [
    {
     "data": {
      "text/plain": [
       "0.11965919355605512"
      ]
     },
     "execution_count": 5,
     "metadata": {},
     "output_type": "execute_result"
    }
   ],
   "source": [
    "df['converted'].mean() #proportion of users converted"
   ]
  },
  {
   "cell_type": "markdown",
   "metadata": {
    "collapsed": true
   },
   "source": [
    "e. The number of times the `new_page` and `treatment` don't line up."
   ]
  },
  {
   "cell_type": "code",
   "execution_count": 6,
   "metadata": {},
   "outputs": [
    {
     "data": {
      "text/plain": [
       "3893"
      ]
     },
     "execution_count": 6,
     "metadata": {},
     "output_type": "execute_result"
    }
   ],
   "source": [
    "#\n",
    "df.query('group == \"treatment\" and landing_page != \"new_page\"').count()['user_id'] + df.query('group != \"treatment\" and landing_page == \"new_page\"').count()['user_id']"
   ]
  },
  {
   "cell_type": "markdown",
   "metadata": {},
   "source": [
    "f. Do any of the rows have missing values?"
   ]
  },
  {
   "cell_type": "code",
   "execution_count": 7,
   "metadata": {},
   "outputs": [
    {
     "name": "stdout",
     "output_type": "stream",
     "text": [
      "<class 'pandas.core.frame.DataFrame'>\n",
      "RangeIndex: 294478 entries, 0 to 294477\n",
      "Data columns (total 5 columns):\n",
      "user_id         294478 non-null int64\n",
      "timestamp       294478 non-null object\n",
      "group           294478 non-null object\n",
      "landing_page    294478 non-null object\n",
      "converted       294478 non-null int64\n",
      "dtypes: int64(2), object(3)\n",
      "memory usage: 11.2+ MB\n"
     ]
    }
   ],
   "source": [
    "df.info() #check if any of the rows have missing values"
   ]
  },
  {
   "cell_type": "markdown",
   "metadata": {},
   "source": [
    "`2.` For the rows where **treatment** is not aligned with **new_page** or **control** is not aligned with **old_page**, we cannot be sure if this row truly received the new or old page.  Use **Quiz 2** in the classroom to provide how we should handle these rows.  \n",
    "\n",
    "a. Now use the answer to the quiz to create a new dataset that meets the specifications from the quiz.  Store your new dataframe in **df2**."
   ]
  },
  {
   "cell_type": "code",
   "execution_count": 8,
   "metadata": {},
   "outputs": [
    {
     "data": {
      "text/plain": [
       "290585"
      ]
     },
     "execution_count": 8,
     "metadata": {},
     "output_type": "execute_result"
    }
   ],
   "source": [
    "df2 = df.query('(group==\"treatment\" and landing_page==\"new_page\") or (group==\"control\" and landing_page==\"old_page\")')\n",
    "df2.head()\n",
    "df2.shape[0]"
   ]
  },
  {
   "cell_type": "code",
   "execution_count": 9,
   "metadata": {},
   "outputs": [
    {
     "data": {
      "text/plain": [
       "0"
      ]
     },
     "execution_count": 9,
     "metadata": {},
     "output_type": "execute_result"
    }
   ],
   "source": [
    "# Double Check all of the correct rows were removed - this should be 0\n",
    "df2[((df2['group'] == 'treatment') == (df2['landing_page'] == 'new_page')) == False].shape[0]"
   ]
  },
  {
   "cell_type": "markdown",
   "metadata": {},
   "source": [
    "`3.` Use **df2** and the cells below to answer questions for **Quiz3** in the classroom."
   ]
  },
  {
   "cell_type": "markdown",
   "metadata": {},
   "source": [
    "a. How many unique **user_id**s are in **df2**?"
   ]
  },
  {
   "cell_type": "code",
   "execution_count": 10,
   "metadata": {},
   "outputs": [
    {
     "data": {
      "text/plain": [
       "290584"
      ]
     },
     "execution_count": 10,
     "metadata": {},
     "output_type": "execute_result"
    }
   ],
   "source": [
    "df2['user_id'].nunique() #use nunique on the df to get the count of unique values"
   ]
  },
  {
   "cell_type": "markdown",
   "metadata": {
    "collapsed": true
   },
   "source": [
    "b. There is one **user_id** repeated in **df2**.  What is it?"
   ]
  },
  {
   "cell_type": "code",
   "execution_count": 11,
   "metadata": {},
   "outputs": [
    {
     "data": {
      "text/html": [
       "<div>\n",
       "<style scoped>\n",
       "    .dataframe tbody tr th:only-of-type {\n",
       "        vertical-align: middle;\n",
       "    }\n",
       "\n",
       "    .dataframe tbody tr th {\n",
       "        vertical-align: top;\n",
       "    }\n",
       "\n",
       "    .dataframe thead th {\n",
       "        text-align: right;\n",
       "    }\n",
       "</style>\n",
       "<table border=\"1\" class=\"dataframe\">\n",
       "  <thead>\n",
       "    <tr style=\"text-align: right;\">\n",
       "      <th></th>\n",
       "      <th>user_id</th>\n",
       "      <th>timestamp</th>\n",
       "      <th>group</th>\n",
       "      <th>landing_page</th>\n",
       "      <th>converted</th>\n",
       "    </tr>\n",
       "  </thead>\n",
       "  <tbody>\n",
       "    <tr>\n",
       "      <th>2893</th>\n",
       "      <td>773192</td>\n",
       "      <td>2017-01-14 02:55:59.590927</td>\n",
       "      <td>treatment</td>\n",
       "      <td>new_page</td>\n",
       "      <td>0</td>\n",
       "    </tr>\n",
       "  </tbody>\n",
       "</table>\n",
       "</div>"
      ],
      "text/plain": [
       "      user_id                   timestamp      group landing_page  converted\n",
       "2893   773192  2017-01-14 02:55:59.590927  treatment     new_page          0"
      ]
     },
     "execution_count": 11,
     "metadata": {},
     "output_type": "execute_result"
    }
   ],
   "source": [
    "df2[df2['user_id'].duplicated()] #find the duplicated user_id using duplicated"
   ]
  },
  {
   "cell_type": "markdown",
   "metadata": {},
   "source": [
    "c. What is the row information for the repeat **user_id**? "
   ]
  },
  {
   "cell_type": "code",
   "execution_count": 12,
   "metadata": {},
   "outputs": [
    {
     "data": {
      "text/html": [
       "<div>\n",
       "<style scoped>\n",
       "    .dataframe tbody tr th:only-of-type {\n",
       "        vertical-align: middle;\n",
       "    }\n",
       "\n",
       "    .dataframe tbody tr th {\n",
       "        vertical-align: top;\n",
       "    }\n",
       "\n",
       "    .dataframe thead th {\n",
       "        text-align: right;\n",
       "    }\n",
       "</style>\n",
       "<table border=\"1\" class=\"dataframe\">\n",
       "  <thead>\n",
       "    <tr style=\"text-align: right;\">\n",
       "      <th></th>\n",
       "      <th>user_id</th>\n",
       "      <th>timestamp</th>\n",
       "      <th>group</th>\n",
       "      <th>landing_page</th>\n",
       "      <th>converted</th>\n",
       "    </tr>\n",
       "  </thead>\n",
       "  <tbody>\n",
       "    <tr>\n",
       "      <th>1899</th>\n",
       "      <td>773192</td>\n",
       "      <td>2017-01-09 05:37:58.781806</td>\n",
       "      <td>treatment</td>\n",
       "      <td>new_page</td>\n",
       "      <td>0</td>\n",
       "    </tr>\n",
       "    <tr>\n",
       "      <th>2893</th>\n",
       "      <td>773192</td>\n",
       "      <td>2017-01-14 02:55:59.590927</td>\n",
       "      <td>treatment</td>\n",
       "      <td>new_page</td>\n",
       "      <td>0</td>\n",
       "    </tr>\n",
       "  </tbody>\n",
       "</table>\n",
       "</div>"
      ],
      "text/plain": [
       "      user_id                   timestamp      group landing_page  converted\n",
       "1899   773192  2017-01-09 05:37:58.781806  treatment     new_page          0\n",
       "2893   773192  2017-01-14 02:55:59.590927  treatment     new_page          0"
      ]
     },
     "execution_count": 12,
     "metadata": {},
     "output_type": "execute_result"
    }
   ],
   "source": [
    "df2.query('user_id == 773192') #use query to ensure rows with the same user_id are duplicates"
   ]
  },
  {
   "cell_type": "markdown",
   "metadata": {},
   "source": [
    "d. Remove **one** of the rows with a duplicate **user_id**, but keep your dataframe as **df2**."
   ]
  },
  {
   "cell_type": "code",
   "execution_count": 13,
   "metadata": {},
   "outputs": [
    {
     "name": "stderr",
     "output_type": "stream",
     "text": [
      "/Users/ajkim/anaconda3/lib/python3.7/site-packages/ipykernel_launcher.py:1: SettingWithCopyWarning: \n",
      "A value is trying to be set on a copy of a slice from a DataFrame\n",
      "\n",
      "See the caveats in the documentation: http://pandas.pydata.org/pandas-docs/stable/indexing.html#indexing-view-versus-copy\n",
      "  \"\"\"Entry point for launching an IPython kernel.\n"
     ]
    },
    {
     "data": {
      "text/html": [
       "<div>\n",
       "<style scoped>\n",
       "    .dataframe tbody tr th:only-of-type {\n",
       "        vertical-align: middle;\n",
       "    }\n",
       "\n",
       "    .dataframe tbody tr th {\n",
       "        vertical-align: top;\n",
       "    }\n",
       "\n",
       "    .dataframe thead th {\n",
       "        text-align: right;\n",
       "    }\n",
       "</style>\n",
       "<table border=\"1\" class=\"dataframe\">\n",
       "  <thead>\n",
       "    <tr style=\"text-align: right;\">\n",
       "      <th></th>\n",
       "      <th>user_id</th>\n",
       "      <th>timestamp</th>\n",
       "      <th>group</th>\n",
       "      <th>landing_page</th>\n",
       "      <th>converted</th>\n",
       "    </tr>\n",
       "  </thead>\n",
       "  <tbody>\n",
       "    <tr>\n",
       "      <th>0</th>\n",
       "      <td>851104</td>\n",
       "      <td>2017-01-21 22:11:48.556739</td>\n",
       "      <td>control</td>\n",
       "      <td>old_page</td>\n",
       "      <td>0</td>\n",
       "    </tr>\n",
       "    <tr>\n",
       "      <th>1</th>\n",
       "      <td>804228</td>\n",
       "      <td>2017-01-12 08:01:45.159739</td>\n",
       "      <td>control</td>\n",
       "      <td>old_page</td>\n",
       "      <td>0</td>\n",
       "    </tr>\n",
       "    <tr>\n",
       "      <th>2</th>\n",
       "      <td>661590</td>\n",
       "      <td>2017-01-11 16:55:06.154213</td>\n",
       "      <td>treatment</td>\n",
       "      <td>new_page</td>\n",
       "      <td>0</td>\n",
       "    </tr>\n",
       "    <tr>\n",
       "      <th>3</th>\n",
       "      <td>853541</td>\n",
       "      <td>2017-01-08 18:28:03.143765</td>\n",
       "      <td>treatment</td>\n",
       "      <td>new_page</td>\n",
       "      <td>0</td>\n",
       "    </tr>\n",
       "    <tr>\n",
       "      <th>4</th>\n",
       "      <td>864975</td>\n",
       "      <td>2017-01-21 01:52:26.210827</td>\n",
       "      <td>control</td>\n",
       "      <td>old_page</td>\n",
       "      <td>1</td>\n",
       "    </tr>\n",
       "  </tbody>\n",
       "</table>\n",
       "</div>"
      ],
      "text/plain": [
       "   user_id                   timestamp      group landing_page  converted\n",
       "0   851104  2017-01-21 22:11:48.556739    control     old_page          0\n",
       "1   804228  2017-01-12 08:01:45.159739    control     old_page          0\n",
       "2   661590  2017-01-11 16:55:06.154213  treatment     new_page          0\n",
       "3   853541  2017-01-08 18:28:03.143765  treatment     new_page          0\n",
       "4   864975  2017-01-21 01:52:26.210827    control     old_page          1"
      ]
     },
     "execution_count": 13,
     "metadata": {},
     "output_type": "execute_result"
    }
   ],
   "source": [
    "df2.drop_duplicates('user_id', inplace=True) #drop duplicates from user_id column and keep in same df\n",
    "df2.head() #check df is intact"
   ]
  },
  {
   "cell_type": "code",
   "execution_count": 14,
   "metadata": {},
   "outputs": [
    {
     "data": {
      "text/html": [
       "<div>\n",
       "<style scoped>\n",
       "    .dataframe tbody tr th:only-of-type {\n",
       "        vertical-align: middle;\n",
       "    }\n",
       "\n",
       "    .dataframe tbody tr th {\n",
       "        vertical-align: top;\n",
       "    }\n",
       "\n",
       "    .dataframe thead th {\n",
       "        text-align: right;\n",
       "    }\n",
       "</style>\n",
       "<table border=\"1\" class=\"dataframe\">\n",
       "  <thead>\n",
       "    <tr style=\"text-align: right;\">\n",
       "      <th></th>\n",
       "      <th>user_id</th>\n",
       "      <th>timestamp</th>\n",
       "      <th>group</th>\n",
       "      <th>landing_page</th>\n",
       "      <th>converted</th>\n",
       "    </tr>\n",
       "  </thead>\n",
       "  <tbody>\n",
       "  </tbody>\n",
       "</table>\n",
       "</div>"
      ],
      "text/plain": [
       "Empty DataFrame\n",
       "Columns: [user_id, timestamp, group, landing_page, converted]\n",
       "Index: []"
      ]
     },
     "execution_count": 14,
     "metadata": {},
     "output_type": "execute_result"
    }
   ],
   "source": [
    "df2[df2['user_id'].duplicated()] #ensure duplicates are removed"
   ]
  },
  {
   "cell_type": "markdown",
   "metadata": {},
   "source": [
    "`4.` Use **df2** in the below cells to answer the quiz questions related to **Quiz 4** in the classroom.\n",
    "\n",
    "a. What is the probability of an individual converting regardless of the page they receive?"
   ]
  },
  {
   "cell_type": "code",
   "execution_count": 15,
   "metadata": {},
   "outputs": [
    {
     "data": {
      "text/plain": [
       "0.11959708724499628"
      ]
     },
     "execution_count": 15,
     "metadata": {},
     "output_type": "execute_result"
    }
   ],
   "source": [
    "df2['converted'].mean() #find the proportion of the converted column"
   ]
  },
  {
   "cell_type": "markdown",
   "metadata": {},
   "source": [
    "b. Given that an individual was in the `control` group, what is the probability they converted?"
   ]
  },
  {
   "cell_type": "code",
   "execution_count": 16,
   "metadata": {},
   "outputs": [
    {
     "data": {
      "text/plain": [
       "0.1203863045004612"
      ]
     },
     "execution_count": 16,
     "metadata": {},
     "output_type": "execute_result"
    }
   ],
   "source": [
    "df2.query('group == \"control\"').converted.mean() #use query to filter individuals in control group and find the proportion of the converted column"
   ]
  },
  {
   "cell_type": "markdown",
   "metadata": {},
   "source": [
    "c. Given that an individual was in the `treatment` group, what is the probability they converted?"
   ]
  },
  {
   "cell_type": "code",
   "execution_count": 17,
   "metadata": {},
   "outputs": [
    {
     "data": {
      "text/plain": [
       "0.11880806551510564"
      ]
     },
     "execution_count": 17,
     "metadata": {},
     "output_type": "execute_result"
    }
   ],
   "source": [
    "df2.query('group == \"treatment\"').converted.mean() #use query to filter individuals in treatment group and find the proportion of the converted column"
   ]
  },
  {
   "cell_type": "markdown",
   "metadata": {},
   "source": [
    "d. What is the probability that an individual received the new page?"
   ]
  },
  {
   "cell_type": "code",
   "execution_count": 18,
   "metadata": {},
   "outputs": [
    {
     "data": {
      "text/plain": [
       "0.5000619442226688"
      ]
     },
     "execution_count": 18,
     "metadata": {},
     "output_type": "execute_result"
    }
   ],
   "source": [
    "#get the count of users who got the new page using df.query then divide by the total number in df2 to get the probability\n",
    "df2.query('landing_page ==\"new_page\"').count()['user_id'] / df2.shape[0]"
   ]
  },
  {
   "cell_type": "markdown",
   "metadata": {},
   "source": [
    "e. Consider your results from a. through d. above, and explain below whether you think there is sufficient evidence to say that the new treatment page leads to more conversions."
   ]
  },
  {
   "cell_type": "markdown",
   "metadata": {},
   "source": [
    "**Based on the proportions above, there isn't enough evidence to say that the new treatment page leads to more conversions.**"
   ]
  },
  {
   "cell_type": "markdown",
   "metadata": {},
   "source": [
    "<a id='ab_test'></a>\n",
    "### Part II - A/B Test\n",
    "\n",
    "Notice that because of the time stamp associated with each event, you could technically run a hypothesis test continuously as each observation was observed.  \n",
    "\n",
    "However, then the hard question is do you stop as soon as one page is considered significantly better than another or does it need to happen consistently for a certain amount of time?  How long do you run to render a decision that neither page is better than another?  \n",
    "\n",
    "These questions are the difficult parts associated with A/B tests in general.  \n",
    "\n",
    "\n",
    "`1.` For now, consider you need to make the decision just based on all the data provided.  If you want to assume that the old page is better unless the new page proves to be definitely better at a Type I error rate of 5%, what should your null and alternative hypotheses be?  You can state your hypothesis in terms of words or in terms of **$p_{old}$** and **$p_{new}$**, which are the converted rates for the old and new pages."
   ]
  },
  {
   "cell_type": "markdown",
   "metadata": {},
   "source": [
    "**The alternative hypothesis should be that the conversion rate of the new page is definitely better than the conversion rate of the old. Which makes the null hypothesis stating that the new page is worse or the same as the old conversion rate.**\n",
    "\n",
    "$$H_0: p_{new} - p_{old} \\leq 0$$\n",
    "\n",
    "\n",
    "$$H_1: p_{new} - p_{old} > 0$$"
   ]
  },
  {
   "cell_type": "markdown",
   "metadata": {},
   "source": [
    "`2.` Assume under the null hypothesis, $p_{new}$ and $p_{old}$ both have \"true\" success rates equal to the **converted** success rate regardless of page - that is $p_{new}$ and $p_{old}$ are equal. Furthermore, assume they are equal to the **converted** rate in **ab_data.csv** regardless of the page. <br><br>\n",
    "\n",
    "Use a sample size for each page equal to the ones in **ab_data.csv**.  <br><br>\n",
    "\n",
    "Perform the sampling distribution for the difference in **converted** between the two pages over 10,000 iterations of calculating an estimate from the null.  <br><br>\n",
    "\n",
    "Use the cells below to provide the necessary parts of this simulation.  If this doesn't make complete sense right now, don't worry - you are going to work through the problems below to complete this problem.  You can use **Quiz 5** in the classroom to make sure you are on the right track.<br><br>"
   ]
  },
  {
   "cell_type": "code",
   "execution_count": 19,
   "metadata": {},
   "outputs": [
    {
     "data": {
      "text/html": [
       "<div>\n",
       "<style scoped>\n",
       "    .dataframe tbody tr th:only-of-type {\n",
       "        vertical-align: middle;\n",
       "    }\n",
       "\n",
       "    .dataframe tbody tr th {\n",
       "        vertical-align: top;\n",
       "    }\n",
       "\n",
       "    .dataframe thead th {\n",
       "        text-align: right;\n",
       "    }\n",
       "</style>\n",
       "<table border=\"1\" class=\"dataframe\">\n",
       "  <thead>\n",
       "    <tr style=\"text-align: right;\">\n",
       "      <th></th>\n",
       "      <th>user_id</th>\n",
       "      <th>timestamp</th>\n",
       "      <th>group</th>\n",
       "      <th>landing_page</th>\n",
       "      <th>converted</th>\n",
       "    </tr>\n",
       "  </thead>\n",
       "  <tbody>\n",
       "    <tr>\n",
       "      <th>0</th>\n",
       "      <td>851104</td>\n",
       "      <td>2017-01-21 22:11:48.556739</td>\n",
       "      <td>control</td>\n",
       "      <td>old_page</td>\n",
       "      <td>0</td>\n",
       "    </tr>\n",
       "    <tr>\n",
       "      <th>1</th>\n",
       "      <td>804228</td>\n",
       "      <td>2017-01-12 08:01:45.159739</td>\n",
       "      <td>control</td>\n",
       "      <td>old_page</td>\n",
       "      <td>0</td>\n",
       "    </tr>\n",
       "    <tr>\n",
       "      <th>2</th>\n",
       "      <td>661590</td>\n",
       "      <td>2017-01-11 16:55:06.154213</td>\n",
       "      <td>treatment</td>\n",
       "      <td>new_page</td>\n",
       "      <td>0</td>\n",
       "    </tr>\n",
       "    <tr>\n",
       "      <th>3</th>\n",
       "      <td>853541</td>\n",
       "      <td>2017-01-08 18:28:03.143765</td>\n",
       "      <td>treatment</td>\n",
       "      <td>new_page</td>\n",
       "      <td>0</td>\n",
       "    </tr>\n",
       "    <tr>\n",
       "      <th>4</th>\n",
       "      <td>864975</td>\n",
       "      <td>2017-01-21 01:52:26.210827</td>\n",
       "      <td>control</td>\n",
       "      <td>old_page</td>\n",
       "      <td>1</td>\n",
       "    </tr>\n",
       "  </tbody>\n",
       "</table>\n",
       "</div>"
      ],
      "text/plain": [
       "   user_id                   timestamp      group landing_page  converted\n",
       "0   851104  2017-01-21 22:11:48.556739    control     old_page          0\n",
       "1   804228  2017-01-12 08:01:45.159739    control     old_page          0\n",
       "2   661590  2017-01-11 16:55:06.154213  treatment     new_page          0\n",
       "3   853541  2017-01-08 18:28:03.143765  treatment     new_page          0\n",
       "4   864975  2017-01-21 01:52:26.210827    control     old_page          1"
      ]
     },
     "execution_count": 19,
     "metadata": {},
     "output_type": "execute_result"
    }
   ],
   "source": [
    "df_ab = pd.read_csv('./ab_data.csv') #create a new df using the ab_data file\n",
    "df_ab.head() #check to make sure it loads properly"
   ]
  },
  {
   "cell_type": "code",
   "execution_count": 20,
   "metadata": {},
   "outputs": [],
   "source": [
    "#we can only trust when treatment aligns with new page and control aligns with old page. use query and create a new df.\n",
    "df2_ab = df_ab.query('(group==\"treatment\" and landing_page==\"new_page\") or (group==\"control\" and landing_page==\"old_page\")')"
   ]
  },
  {
   "cell_type": "code",
   "execution_count": 21,
   "metadata": {},
   "outputs": [
    {
     "data": {
      "text/plain": [
       "(290584, 290585)"
      ]
     },
     "execution_count": 21,
     "metadata": {},
     "output_type": "execute_result"
    }
   ],
   "source": [
    "df2_ab['user_id'].nunique(), df2_ab.shape[0] #get the number of unique values for user_id and the number of total rows"
   ]
  },
  {
   "cell_type": "code",
   "execution_count": 22,
   "metadata": {},
   "outputs": [
    {
     "name": "stderr",
     "output_type": "stream",
     "text": [
      "/Users/ajkim/anaconda3/lib/python3.7/site-packages/ipykernel_launcher.py:2: SettingWithCopyWarning: \n",
      "A value is trying to be set on a copy of a slice from a DataFrame\n",
      "\n",
      "See the caveats in the documentation: http://pandas.pydata.org/pandas-docs/stable/indexing.html#indexing-view-versus-copy\n",
      "  \n"
     ]
    },
    {
     "data": {
      "text/plain": [
       "(290584, 290584)"
      ]
     },
     "execution_count": 22,
     "metadata": {},
     "output_type": "execute_result"
    }
   ],
   "source": [
    "#remove the duplicates and get the number of unique user_ids and number of rows to verify\n",
    "df2_ab.drop_duplicates('user_id', inplace=True)\n",
    "df2_ab['user_id'].nunique(), df2_ab.shape[0]"
   ]
  },
  {
   "cell_type": "markdown",
   "metadata": {},
   "source": [
    "a. What is the **convert rate** for $p_{new}$ under the null? "
   ]
  },
  {
   "cell_type": "code",
   "execution_count": 23,
   "metadata": {},
   "outputs": [
    {
     "data": {
      "text/plain": [
       "0.11959708724499628"
      ]
     },
     "execution_count": 23,
     "metadata": {},
     "output_type": "execute_result"
    }
   ],
   "source": [
    "df2_ab['converted'].mean() #get the converted rate on the new df"
   ]
  },
  {
   "cell_type": "markdown",
   "metadata": {},
   "source": [
    "b. What is the **convert rate** for $p_{old}$ under the null? <br><br>"
   ]
  },
  {
   "cell_type": "code",
   "execution_count": 24,
   "metadata": {},
   "outputs": [
    {
     "data": {
      "text/plain": [
       "0.11959708724499628"
      ]
     },
     "execution_count": 24,
     "metadata": {},
     "output_type": "execute_result"
    }
   ],
   "source": [
    "df2_ab['converted'].mean() #converted rate is the same for old and new per question 2"
   ]
  },
  {
   "cell_type": "markdown",
   "metadata": {},
   "source": [
    "c. What is $n_{new}$?"
   ]
  },
  {
   "cell_type": "code",
   "execution_count": 25,
   "metadata": {},
   "outputs": [
    {
     "data": {
      "text/plain": [
       "145310"
      ]
     },
     "execution_count": 25,
     "metadata": {},
     "output_type": "execute_result"
    }
   ],
   "source": [
    "df2_ab.query('landing_page == \"new_page\"').count()['user_id'] #get the count of users who got the new page"
   ]
  },
  {
   "cell_type": "markdown",
   "metadata": {},
   "source": [
    "d. What is $n_{old}$?"
   ]
  },
  {
   "cell_type": "code",
   "execution_count": 26,
   "metadata": {},
   "outputs": [
    {
     "data": {
      "text/plain": [
       "147239"
      ]
     },
     "execution_count": 26,
     "metadata": {},
     "output_type": "execute_result"
    }
   ],
   "source": [
    "df_ab.query('landing_page == \"old_page\"').count()['user_id'] #get the count of users who got the old page"
   ]
  },
  {
   "cell_type": "markdown",
   "metadata": {},
   "source": [
    "e. Simulate $n_{new}$ transactions with a convert rate of $p_{new}$ under the null.  Store these $n_{new}$ 1's and 0's in **new_page_converted**."
   ]
  },
  {
   "cell_type": "code",
   "execution_count": 27,
   "metadata": {},
   "outputs": [
    {
     "data": {
      "text/plain": [
       "array([1, 1, 0, ..., 1, 1, 1])"
      ]
     },
     "execution_count": 27,
     "metadata": {},
     "output_type": "execute_result"
    }
   ],
   "source": [
    "n_new = df2_ab.query('landing_page == \"new_page\"').count()['user_id'] #store the n_new count in a variable\n",
    "p_new = df2_ab['converted'].mean() #store the p_new in a variable\n",
    "\n",
    "new_page_converted = np.random.choice([0,1],n_new,p=(p_new,1-p_new)) \n",
    "#use np.random.choice to populate the array using the n_new as the number of transactions and the probability of p_new \n",
    "new_page_converted #verify the array is populated \n",
    "\n"
   ]
  },
  {
   "cell_type": "markdown",
   "metadata": {},
   "source": [
    "f. Simulate $n_{old}$ transactions with a convert rate of $p_{old}$ under the null.  Store these $n_{old}$ 1's and 0's in **old_page_converted**."
   ]
  },
  {
   "cell_type": "code",
   "execution_count": 28,
   "metadata": {},
   "outputs": [
    {
     "data": {
      "text/plain": [
       "array([1, 0, 1, ..., 1, 1, 1])"
      ]
     },
     "execution_count": 28,
     "metadata": {},
     "output_type": "execute_result"
    }
   ],
   "source": [
    "n_old = df2_ab.query('landing_page == \"old_page\"').count()['user_id'] #store the n_old count in a variable\n",
    "p_old = df2_ab['converted'].mean() #store the p_old in a variable\n",
    "\n",
    "old_page_converted = np.random.choice([0,1],n_old,p=(p_old,1-p_old)) \n",
    "#use np.random.choice to populate the array using the n_old as the number of transactions and the probability of p_old \n",
    "old_page_converted #verify the array is populated \n"
   ]
  },
  {
   "cell_type": "markdown",
   "metadata": {},
   "source": [
    "g. Find $p_{new}$ - $p_{old}$ for your simulated values from part (e) and (f)."
   ]
  },
  {
   "cell_type": "code",
   "execution_count": 29,
   "metadata": {},
   "outputs": [
    {
     "data": {
      "text/plain": [
       "0.002569484698392799"
      ]
     },
     "execution_count": 29,
     "metadata": {},
     "output_type": "execute_result"
    }
   ],
   "source": [
    "new_page_converted.mean() - old_page_converted.mean() #find the proportion of each and then find the difference\n"
   ]
  },
  {
   "cell_type": "markdown",
   "metadata": {},
   "source": [
    "h. Simulate 10,000 $p_{new}$ - $p_{old}$ values using this same process similarly to the one you calculated in parts **a. through g.** above.  Store all 10,000 values in a numpy array called **p_diffs**."
   ]
  },
  {
   "cell_type": "code",
   "execution_count": 30,
   "metadata": {},
   "outputs": [],
   "source": [
    "p_diffs = [] #create the p_diffs array\n",
    "\n",
    "for _ in range(10000): #10000 sample size\n",
    "    bootsamp = df2_ab.sample(200, replace = True) #bootstrapping sampling technique\n",
    "    new_page_converted = np.random.choice([0,1],n_new,p=(p_new,1-p_new)) #simulate transactions based on new page numbers calculated above\n",
    "    old_page_converted = np.random.choice([0,1],n_old,p=(p_old,1-p_old)) #simulate transactions based on old page numbers calculated above\n",
    "    p_diffs.append(new_page_converted.mean() - old_page_converted.mean()) #append the difference in proportions from the two simulations above"
   ]
  },
  {
   "cell_type": "code",
   "execution_count": 31,
   "metadata": {},
   "outputs": [
    {
     "data": {
      "text/plain": [
       "[-0.0010650266388044782,\n",
       " 0.00102034788455585,\n",
       " 8.489871891481648e-05,\n",
       " -0.0013605824641645947,\n",
       " -3.225796222439126e-05,\n",
       " 0.0016058788952104663,\n",
       " 0.0011856535622798425,\n",
       " -0.0014157224433782867,\n",
       " 0.0009244711182464505,\n",
       " 0.000793617268956659,\n",
       " 0.000834805979606501,\n",
       " 0.0018814594152464226,\n",
       " -0.0014159458470976993,\n",
       " 0.000112320341166261,\n",
       " -0.0004524747682955743,\n",
       " -0.0015190472319868142,\n",
       " -0.0003486503057196222,\n",
       " -0.0012436747673231219,\n",
       " -0.0013746104744641885,\n",
       " -0.002145025116513599,\n",
       " -0.00010792749263077717,\n",
       " 0.0008142235618849858,\n",
       " 0.0008760833695953263,\n",
       " -0.0013605568835860504,\n",
       " -0.000624150673276036,\n",
       " 0.0016333994290321785,\n",
       " 0.0005801267818380529,\n",
       " -0.0014914124382475746,\n",
       " 0.0004908675217110137,\n",
       " 0.003016463147789139,\n",
       " 0.0008143719292404983,\n",
       " 0.00011213445562885394,\n",
       " 0.00019495186287943334,\n",
       " 0.0006698464923787784,\n",
       " 0.0002361525111326257,\n",
       " -0.00010128270049802879,\n",
       " -0.0008308616438814642,\n",
       " 8.45951627161945e-05,\n",
       " 0.0025625977434498015,\n",
       " 0.0017296581986478987,\n",
       " 7.092869126001933e-05,\n",
       " -0.0017115732980775844,\n",
       " -0.0013675052319175318,\n",
       " 0.00020876840706307576,\n",
       " 0.0020461426322258003,\n",
       " -0.00036277893296143837,\n",
       " -9.435311125738366e-05,\n",
       " 0.0011859520023628223,\n",
       " 0.0007246897368815564,\n",
       " -0.0005760255518979518,\n",
       " 0.0009243943765107066,\n",
       " 0.0017570576510644864,\n",
       " 0.00010529866184283421,\n",
       " 0.00048395839693315956,\n",
       " 0.00022932183346235924,\n",
       " 0.00011244312794334022,\n",
       " 0.0009243943765107066,\n",
       " 0.0002840508180476098,\n",
       " 0.0006972971059525657,\n",
       " 0.00027047302593030675,\n",
       " 0.00038768939508615485,\n",
       " 0.000566327291373403,\n",
       " -0.0008445229992219971,\n",
       " 0.0006558321250543786,\n",
       " 0.0005047437539112964,\n",
       " 0.001564408798196748,\n",
       " -0.00032812075452692824,\n",
       " -0.00032840555163471397,\n",
       " -0.0038041332164638897,\n",
       " 0.0019223155783751888,\n",
       " 0.0009104652777814914,\n",
       " -0.0008788111119535369,\n",
       " -0.000776033747725835,\n",
       " 0.001076004591456181,\n",
       " -0.0009202129940912851,\n",
       " 0.0011031806401534672,\n",
       " 2.9821838461563388e-05,\n",
       " -0.0007410634862332621,\n",
       " -0.0011746704935123864,\n",
       " -0.001222730810758077,\n",
       " -0.0003763379659877941,\n",
       " 0.00019462272610226705,\n",
       " 0.0008967715203749282,\n",
       " 0.0008556442031135703,\n",
       " 0.0010895721513420886,\n",
       " -0.0004659314790077529,\n",
       " 0.0010342445812189238,\n",
       " 0.0010690801183312892,\n",
       " -0.0013192385646715321,\n",
       " 0.00042880477474416256,\n",
       " 0.0027278232686943626,\n",
       " 0.00036660559802526027,\n",
       " 0.0011446780231177955,\n",
       " -0.00023889219109418658,\n",
       " -0.001319315306407165,\n",
       " 0.0011171131496265918,\n",
       " 0.0013785531048172706,\n",
       " -0.00142957480037198,\n",
       " 0.00040841506404754035,\n",
       " 0.000676510043602585,\n",
       " -0.001869968145651879,\n",
       " -0.0022966285099714767,\n",
       " -0.0015328842406333587,\n",
       " -0.0011952938401597057,\n",
       " -0.0019803350780466245,\n",
       " 0.0008006150730733852,\n",
       " 0.0010757607232740884,\n",
       " 0.0005939996032944261,\n",
       " 0.0012064184547949663,\n",
       " -0.0006104944340512564,\n",
       " -0.001278305659807133,\n",
       " -0.0008996101119068678,\n",
       " 0.000704039104283849,\n",
       " 0.002328415694807906,\n",
       " -0.000397136965941014,\n",
       " -0.0007069680805266154,\n",
       " 0.001419842432409335,\n",
       " 0.0008555060679894533,\n",
       " -0.0005069274826327019,\n",
       " 0.0007937264127584331,\n",
       " 0.00025694810034204707,\n",
       " 0.0012341743299393304,\n",
       " -0.0002181614060170478,\n",
       " -0.0006931856437810691,\n",
       " -0.0004725336368430755,\n",
       " 0.002073596656543386,\n",
       " 0.0007111648112932967,\n",
       " 0.00037376370710073825,\n",
       " -0.00018389205237634432,\n",
       " 0.00016717552327227825,\n",
       " -0.0005344514271981016,\n",
       " -4.670918898441734e-06,\n",
       " 0.00029130783869357746,\n",
       " -0.0002525825377570623,\n",
       " 0.0015989595382012167,\n",
       " 0.0006009394247664668,\n",
       " 8.452183172436012e-05,\n",
       " -0.00103716161985834,\n",
       " 0.0017435190825010327,\n",
       " -0.0011472676303518892,\n",
       " 0.00027735315938581806,\n",
       " -0.00045235709763424836,\n",
       " 0.0007933648739150145,\n",
       " 0.0002499110726715825,\n",
       " -0.0007205100598338676,\n",
       " 0.00022251673637063707,\n",
       " -0.0008788486301354315,\n",
       " -0.00023169315309301552,\n",
       " 0.0005251300538640091,\n",
       " -0.0009752404187594044,\n",
       " -0.0008030000356792355,\n",
       " 0.00046320373664943126,\n",
       " 0.0003808433690687396,\n",
       " -0.000562273811846592,\n",
       " 0.0012825296765242022,\n",
       " 0.0013442035986971357,\n",
       " -0.0013810983723819836,\n",
       " -0.0010440724500080378,\n",
       " 0.0013304944929434237,\n",
       " -1.1404390370173267e-05,\n",
       " 0.0022663955821385917,\n",
       " -0.0004040170993964143,\n",
       " -0.00018345036105360535,\n",
       " -0.0026961537545192593,\n",
       " 0.0001605290257675751,\n",
       " -6.647274396409664e-05,\n",
       " -0.0027303361341928234,\n",
       " 0.0029343568806219356,\n",
       " -0.00130566077255434,\n",
       " -0.0006518741463542588,\n",
       " -0.0007962853232983402,\n",
       " 0.0010551203229077766,\n",
       " 0.0002911031940652231,\n",
       " 0.0009450279553895324,\n",
       " 0.0028718592638199425,\n",
       " 0.0003117862287290718,\n",
       " -0.001195188107101619,\n",
       " -5.989957745122787e-05,\n",
       " -0.0006244354703838217,\n",
       " -0.00012834960539354068,\n",
       " 0.00041470684419664394,\n",
       " -0.002289855814945896,\n",
       " -0.0008170416889540233,\n",
       " 0.0009242852327090434,\n",
       " -0.0002941242603907712,\n",
       " 0.0014614438430596843,\n",
       " -0.0007963245468521896,\n",
       " 0.0037395797738333236,\n",
       " 0.0020945354969925667,\n",
       " 0.00019477791494537655,\n",
       " 0.000711383098896734,\n",
       " 0.00046293087714510683,\n",
       " -0.00047975313930703756,\n",
       " -0.0007895313873637066,\n",
       " 0.00021562807605568501,\n",
       " -0.0013604818472223723,\n",
       " -0.000562425589946014,\n",
       " 0.001633085640602161,\n",
       " 0.00018112338109244064,\n",
       " -0.0017805400537065363,\n",
       " -0.0010855698329722552,\n",
       " -3.902724650617362e-05,\n",
       " 0.0004083826619815101,\n",
       " -8.071904186723877e-05,\n",
       " -0.0006996428450045666,\n",
       " -0.00014250722395769966,\n",
       " -0.0007411623978035298,\n",
       " -3.244725850559682e-05,\n",
       " 0.002225246095042488,\n",
       " 0.00034614085096495995,\n",
       " -0.00023872335927588306,\n",
       " 0.0004082001871879015,\n",
       " -0.001505097668794808,\n",
       " -0.00015634423260424413,\n",
       " -0.00025950360013815565,\n",
       " -0.0009202846197111647,\n",
       " 0.0013304143404639923,\n",
       " -0.00019765743540289815,\n",
       " 0.0007798774665086494,\n",
       " -0.0009751994898338223,\n",
       " 0.00016044887328814372,\n",
       " -0.0022415533348899563,\n",
       " 0.0007179579707816686,\n",
       " -1.1569811444789302e-05,\n",
       " -0.001759805857885599,\n",
       " -0.0014019996946493807,\n",
       " -0.001030196217807755,\n",
       " -0.0009200117602067293,\n",
       " -5.964888778153821e-05,\n",
       " -0.000995737567885957,\n",
       " -0.002324140516933637,\n",
       " -0.0013052293134628856,\n",
       " 0.00029105203290813453,\n",
       " 0.0016815416041292552,\n",
       " -0.0009340960477790539,\n",
       " -0.00015639880450513122,\n",
       " 0.000566472247985117,\n",
       " 0.000511463582407834,\n",
       " 0.0007730587264416222,\n",
       " -0.00015613276648829277,\n",
       " -0.0007895313873637066,\n",
       " -5.97972551370507e-05,\n",
       " -0.00029352567485285697,\n",
       " 0.00026397660115307087,\n",
       " 5.0141628910038705e-05,\n",
       " -0.0009061082420560584,\n",
       " 0.00034623464641958535,\n",
       " -0.0002871076971830977,\n",
       " -0.0003832641444845297,\n",
       " -0.00058286475642777,\n",
       " 0.000545901767866841,\n",
       " 0.0019155241242586607,\n",
       " -0.00018389716849209758,\n",
       " 0.0008350379101852434,\n",
       " 0.00014689836712133975,\n",
       " 5.031728221605025e-05,\n",
       " -0.002585725428736141,\n",
       " 8.472988709651297e-05,\n",
       " -1.1554463097751544e-05,\n",
       " -0.0005690345692688226,\n",
       " -0.002275967645142263,\n",
       " 0.0019633081712561173,\n",
       " -1.846870399113687e-05,\n",
       " -0.0017943872945844763,\n",
       " 0.00021555645043569438,\n",
       " -0.001422657148734685,\n",
       " -0.001236530301222838,\n",
       " 0.0009931530767675056,\n",
       " -0.001037168441346048,\n",
       " -0.0016359361697373398,\n",
       " 0.0032576395898039623,\n",
       " -0.0014572539337806,\n",
       " 2.9521693006517857e-05,\n",
       " 0.001681516023550711,\n",
       " 0.001695335978478263,\n",
       " -0.0015050789097038608,\n",
       " 0.0004015451628236466,\n",
       " -0.00013560150992375508,\n",
       " -0.0010440963252147384,\n",
       " 0.0006903146501828772,\n",
       " -0.0010029417220028813,\n",
       " -0.0014432191019934093,\n",
       " 0.0005871331128143309,\n",
       " -0.0012710827465992613,\n",
       " 0.001082666437308033,\n",
       " -0.0020831260852495204,\n",
       " 0.0004358383916708286,\n",
       " 0.001956987399784893,\n",
       " 0.0009521297871921686,\n",
       " 0.001516592349132928,\n",
       " -0.0012503587830097196,\n",
       " -0.00097527793694141,\n",
       " -0.0007342157548440031,\n",
       " 2.2929767402701806e-05,\n",
       " -0.001023432049641726,\n",
       " 5.733896153936602e-05,\n",
       " 5.0419604530227424e-05,\n",
       " 0.0006146689949830808,\n",
       " 0.0009173863401625848,\n",
       " -0.0002665525654119705,\n",
       " -0.00168417896177675,\n",
       " -0.0018286924610350086,\n",
       " 0.0004975975824390577,\n",
       " -0.001291890273412033,\n",
       " 0.0005801660053917912,\n",
       " -0.0029162753907955308,\n",
       " -0.0009889137117032876,\n",
       " 0.0012957152331037891,\n",
       " -0.00021123181677640268,\n",
       " 0.00027032465857479426,\n",
       " 0.00025665989249046284,\n",
       " 0.0005593994075047126,\n",
       " -0.0019593723623906323,\n",
       " -0.002530696298695956,\n",
       " -0.0002044676486103736,\n",
       " -0.0012024485384913852,\n",
       " -0.0012025235748550633,\n",
       " 0.00036011258399171187,\n",
       " 0.0027413737748611666,\n",
       " 0.00025665307100286583,\n",
       " -0.0008927896664679968,\n",
       " 8.998963301531937e-06,\n",
       " 0.0001260004555977412,\n",
       " 0.0013165500458670598,\n",
       " -0.0007688858708817525,\n",
       " -0.0017665188648945396,\n",
       " 2.2781400047189315e-05,\n",
       " -0.0008446031517014285,\n",
       " 0.0014407045311229938,\n",
       " 0.002700394824955321,\n",
       " -0.002041807766335002,\n",
       " -0.0011265061485805639,\n",
       " -0.00021123181677640268,\n",
       " -0.0006449087443036738,\n",
       " -0.0013052293134628856,\n",
       " -0.00015613958797588978,\n",
       " -0.0007962972609016905,\n",
       " 0.0021354990985513744,\n",
       " 0.0016263743389650642,\n",
       " 6.390701193670356e-05,\n",
       " -8.723593110748773e-05,\n",
       " 0.00042907592887664325,\n",
       " -6.674048735288984e-05,\n",
       " -0.0002941515463412703,\n",
       " 0.0008763357646368597,\n",
       " 0.0009242715897337384,\n",
       " -0.0027579624010726222,\n",
       " 0.0003603104071323582,\n",
       " 0.0008486719795752773,\n",
       " 0.003236815009272198,\n",
       " -0.001457276103615457,\n",
       " -0.0011817996112655216,\n",
       " 0.0005461064124951953,\n",
       " -0.0021247854785445552,\n",
       " -0.0019733065772356007,\n",
       " -0.0006173285224653213,\n",
       " 1.6061571550540776e-05,\n",
       " 0.0009037897889543345,\n",
       " -0.00012864463473272192,\n",
       " 0.0010135956539931712,\n",
       " -0.003267007008179501,\n",
       " 0.001227087846483621,\n",
       " 0.0016952097809573852,\n",
       " -0.0002387148324163313,\n",
       " -0.0010922930722127022,\n",
       " 0.0006627890002455228,\n",
       " 0.0002363145214633322,\n",
       " -0.0005690840250540674,\n",
       " 0.002252925228451108,\n",
       " -0.0006034369419180008,\n",
       " 0.00018775964636574827,\n",
       " -0.00023201035226683153,\n",
       " -0.0014706765370547936,\n",
       " 0.0005801932913422903,\n",
       " 0.000759378612010253,\n",
       " -0.00041769891919973823,\n",
       " -8.741840590098526e-05,\n",
       " 4.3582105372363955e-05,\n",
       " 0.0026110213049108655,\n",
       " -0.0004176341150674556,\n",
       " 0.0004909237989837445,\n",
       " -0.0013882615975732149,\n",
       " -0.0011611933183373058,\n",
       " -0.0016428384730274859,\n",
       " 0.0019499486667424737,\n",
       " -0.0016909908803560691,\n",
       " 0.0009448181946454248,\n",
       " 0.0023349155303289404,\n",
       " 2.258528227827572e-05,\n",
       " 0.0005388323381302351,\n",
       " 0.0004977647088855175,\n",
       " 3.647174670995401e-05,\n",
       " 0.0012408753993449206,\n",
       " -0.0021246047091227904,\n",
       " -0.0002664468323539948,\n",
       " 0.00022901486651982772,\n",
       " -0.0015672951401418667,\n",
       " 0.0012272720266491843,\n",
       " 0.002576378474823504,\n",
       " -5.975121009571538e-05,\n",
       " 0.0033124060925711074,\n",
       " -0.0007685942522862588,\n",
       " -0.0011540522629808203,\n",
       " 0.00033251360306241207,\n",
       " 0.003409309492765966,\n",
       " -0.00030757585498730755,\n",
       " -0.0013190509737622813,\n",
       " 0.0010277498618134207,\n",
       " 0.002390362476485275,\n",
       " -0.0005138997061707729,\n",
       " -0.000699881597071017,\n",
       " -0.0013814172769277544,\n",
       " 0.0016815893545425453,\n",
       " 0.0012272447406986853,\n",
       " 0.0016675613442429515,\n",
       " 0.0008831869067700282,\n",
       " -0.001175025210868097,\n",
       " -0.0005623403213508293,\n",
       " 0.0005940337107325222,\n",
       " -8.735701251261219e-05,\n",
       " 0.0013236706367607542,\n",
       " 0.0011925217581318925,\n",
       " -0.0010853822420630044,\n",
       " 0.0011445978706383642,\n",
       " -0.00032817191568412785,\n",
       " -0.0015396228282208435,\n",
       " 0.0035123477788948643,\n",
       " -0.001374337614959753,\n",
       " 0.00023642878138074863,\n",
       " -0.0027509867667905308,\n",
       " 0.0010896420715900135,\n",
       " 0.0007592353607703828,\n",
       " -0.00030744113060687805,\n",
       " -0.002530703120183553,\n",
       " -0.0007619477547815556,\n",
       " -0.0002530515150303003,\n",
       " 0.0023077377762596996,\n",
       " -0.0003210905483441717,\n",
       " 0.0008211446242659681,\n",
       " -0.0007343948188937022,\n",
       " -0.0005139014115426166,\n",
       " -0.00012204247689739933,\n",
       " 0.0010138054147370568,\n",
       " 0.0012409913646344028,\n",
       " 0.0007798467698143519,\n",
       " -0.00047958430748873404,\n",
       " 0.00022225069835379863,\n",
       " -0.0014708453688730971,\n",
       " -0.001105933963090333,\n",
       " 0.001158417825565805,\n",
       " 0.0022116921781318855,\n",
       " 0.0004976794402903328,\n",
       " -0.001229841169420487,\n",
       " 0.001894875197032908,\n",
       " -0.0009339255105887956,\n",
       " -0.0023656430160136077,\n",
       " -0.0007068623474686397,\n",
       " -0.000376421529211024,\n",
       " 2.9567738047964198e-05,\n",
       " 0.0005252494298971788,\n",
       " 0.0012549017042725596,\n",
       " -0.0014432617362910571,\n",
       " -0.0009888983633562498,\n",
       " 0.0007383647351972833,\n",
       " -5.9749504723760616e-05,\n",
       " 0.0024663577329251396,\n",
       " 0.00188095291979129,\n",
       " 0.001454509137703286,\n",
       " 0.002232080183456553,\n",
       " -0.0010578463598941434,\n",
       " -0.0004866963715229877,\n",
       " -5.317292746698232e-05,\n",
       " -0.0010576195454310433,\n",
       " 0.002424868876820474,\n",
       " -0.0010920884275843479,\n",
       " 0.0006075569309489381,\n",
       " 0.0008760236815786859,\n",
       " -0.0011473392559718798,\n",
       " 0.0007731542272683134,\n",
       " 0.0016677711049870592,\n",
       " 0.0015851208241828285,\n",
       " 0.001998078904236311,\n",
       " 0.0024523877052702314,\n",
       " -0.000548709662704483,\n",
       " -0.00014955789460335822,\n",
       " 0.00033256476421950065,\n",
       " 0.0004357377747287172,\n",
       " 0.0009174647872701724,\n",
       " -0.0001009348046298042,\n",
       " 0.0016469959802404288,\n",
       " -0.0019250296777582054,\n",
       " -0.0014981731956699162,\n",
       " 0.0012063212485965424,\n",
       " -0.0005278663230818825,\n",
       " 0.0012413187960396144,\n",
       " -0.0021248195859825403,\n",
       " 0.0027691501144683217,\n",
       " -0.0014637793498804008,\n",
       " -0.0001767561131355011,\n",
       " 0.0014198134410869923,\n",
       " 0.00029795945231403387,\n",
       " -0.0011817910844060808,\n",
       " -0.0005688623267067205,\n",
       " -0.0024001443002330536,\n",
       " -0.0018287299792169032,\n",
       " -0.0026269465414520132,\n",
       " -0.0005483259540264296,\n",
       " 0.0006217674160420295,\n",
       " -0.0017389676343785299,\n",
       " 0.0012480812588337997,\n",
       " -0.0010787766734838833,\n",
       " 4.34320326448967e-05,\n",
       " -0.0020283305911601435,\n",
       " 0.0008004240714202249,\n",
       " -0.002193593634586488,\n",
       " -0.00047953996781924246,\n",
       " -0.001092349349485433,\n",
       " -0.0008581553632400762,\n",
       " -0.0007478242436554927,\n",
       " -0.00017007209744901441,\n",
       " -0.001711445395184863,\n",
       " -0.00045884670092399826,\n",
       " 5.710020947302663e-05,\n",
       " -0.0012918271746515941,\n",
       " -0.0009888318538520124,\n",
       " -6.679676462562067e-05,\n",
       " 0.000876236853066481,\n",
       " -0.00034219822061176686,\n",
       " 0.0006904596067947022,\n",
       " 0.0006491719845743704,\n",
       " 0.0007179750245006611,\n",
       " 0.0018605222801689747,\n",
       " 0.0009586637301515211,\n",
       " 0.0006285725131338626,\n",
       " 0.00133718191937382,\n",
       " -0.00019065963128628294,\n",
       " 0.001757156562634865,\n",
       " 0.002211165218213962,\n",
       " 0.0013234318846944149,\n",
       " -0.0013675393393556279,\n",
       " -0.0008648308520672332,\n",
       " -6.687862247700682e-05,\n",
       " -0.002957740371693607,\n",
       " -0.0017601827450760554,\n",
       " 0.001171954688757415,\n",
       " 0.0016266113856595599,\n",
       " 0.0011793225585770006,\n",
       " -0.000534737929677731,\n",
       " -0.0002526285827983976,\n",
       " -0.001952650828522251,\n",
       " -0.000286981499662331,\n",
       " 5.752996319241532e-05,\n",
       " -0.003453040060236723,\n",
       " 0.0012271475345001503,\n",
       " -0.00013560662603950835,\n",
       " 0.0004769657089322976,\n",
       " 1.6209938906053267e-05,\n",
       " 0.0007180006050792054,\n",
       " 0.0018883020305199283,\n",
       " -7.365984436202844e-05,\n",
       " -0.0021522633780687306,\n",
       " -0.0006928565070037918,\n",
       " -0.0005416317061084364,\n",
       " 0.001454260153405551,\n",
       " -0.002124966247966209,\n",
       " 0.00028428786474210543,\n",
       " -0.000211277861817738,\n",
       " 0.0018397863789761937,\n",
       " -0.0021179309256675882,\n",
       " 0.001502477364866417,\n",
       " -0.0011265914171756375,\n",
       " 0.0012684112815137816,\n",
       " 0.0011444375656795014,\n",
       " 0.0005116034229037947,\n",
       " -0.0013740920414057056,\n",
       " -0.0014499355197461483,\n",
       " -0.0003558357007455992,\n",
       " 0.0016058584307476753,\n",
       " -0.0002251216919519905,\n",
       " -0.00254448555692921,\n",
       " -0.0009409710651188119,\n",
       " -0.0013397851695832186,\n",
       " -0.00011492700211934714,\n",
       " 0.0002703365961780335,\n",
       " 7.770820777308618e-05,\n",
       " 0.0009520820367789895,\n",
       " -0.00055530158830841,\n",
       " 9.140025980791666e-05,\n",
       " -0.00010770067816778806,\n",
       " 0.0015095433838592243,\n",
       " 0.00020835400169072482,\n",
       " -0.0007274771672564073,\n",
       " -0.00047278091576896664,\n",
       " 0.0021633300100593056,\n",
       " -0.0007687119229475847,\n",
       " 0.00043591854415026,\n",
       " 0.0002912515614207356,\n",
       " 0.0018949178313303339,\n",
       " 0.0012959897979801793,\n",
       " 0.00031182374691085535,\n",
       " 0.00016038747989965962,\n",
       " -0.0007068333561462969,\n",
       " -0.00045224965920442894,\n",
       " -0.0014503209337962675,\n",
       " 0.00019487853188770998,\n",
       " 0.0015025711603210423,\n",
       " -0.002964359583247922,\n",
       " 0.0008899016191508125,\n",
       " 0.0004010710694346553,\n",
       " 0.001522930174323478,\n",
       " 0.0005317475600464805,\n",
       " 0.00143370331626258,\n",
       " -0.001457081691218498,\n",
       " 0.0006560043676165916,\n",
       " -0.0001216604735911897,\n",
       " -0.001043864394635996,\n",
       " 0.0016127232158559268,\n",
       " 0.0009104584562938944,\n",
       " 0.001289143771962764,\n",
       " 0.00011219243827365055,\n",
       " -0.0015948293169388839,\n",
       " 0.0020254664190495486,\n",
       " 0.0004013098215009947,\n",
       " 0.0010209379432341015,\n",
       " 0.0013236092433722702,\n",
       " 0.0005732568806140481,\n",
       " -0.00029403899179558657,\n",
       " -0.000252418822054401,\n",
       " 6.417816606918425e-05,\n",
       " -0.0004934196107633237,\n",
       " -0.0007135446577832827,\n",
       " 0.0012066879035556033,\n",
       " 0.001771189689050101,\n",
       " -0.0004107693299592041,\n",
       " 0.0023835931922034925,\n",
       " 0.00046327365689746713,\n",
       " -0.0010921719908075778,\n",
       " 0.0014542976715874456,\n",
       " 0.0018601300446313696,\n",
       " -0.001491651190314025,\n",
       " -0.00016308111481977416,\n",
       " 6.40928974739996e-05,\n",
       " 0.00022222511777525433,\n",
       " -0.00023887513737519406,\n",
       " -0.001236902072297541,\n",
       " 0.0012617272658271839,\n",
       " -0.0021315956917519197,\n",
       " -0.0001010644128943694,\n",
       " -0.0008721322123826925,\n",
       " 0.00010561586101687226,\n",
       " 0.0015096115987353054,\n",
       " 0.0009587114805647001,\n",
       " -0.00046590760380116336,\n",
       " -0.0006379672174596784,\n",
       " -0.0003696863523673377,\n",
       " -0.0017734450433913862,\n",
       " 0.0018533539388619902,\n",
       " 0.0005183965823922776,\n",
       " -0.00028708041123259864,\n",
       " 0.0004975276621910218,\n",
       " -0.0003145497838972222,\n",
       " 0.0030510718704384043,\n",
       " 0.0001118752390996125,\n",
       " -0.0008925304499387554,\n",
       " -0.0019250689013120548,\n",
       " -0.00048650366449798366,\n",
       " -0.0010370286008499763,\n",
       " 0.00264526337260107,\n",
       " -0.0013054117882564942,\n",
       " -0.0016222714036530084,\n",
       " -0.0008720094256057243,\n",
       " -0.0006999907408726802,\n",
       " 0.0021977562579149623,\n",
       " 0.0008141570523807484,\n",
       " 0.00029102304158579173,\n",
       " 0.0008625089882218218,\n",
       " -0.001415700273543652,\n",
       " 9.073999665321075e-06,\n",
       " -0.00043857295551674724,\n",
       " 0.0005044743051506595,\n",
       " -0.0029782034133820634,\n",
       " 0.0007176595306986888,\n",
       " 0.0010963380248799615,\n",
       " -0.0008927964879555939,\n",
       " 0.000676655000214299,\n",
       " 0.0003602370761405238,\n",
       " -0.0035081322890372357,\n",
       " -0.0005415191515628637,\n",
       " -8.746615631427535e-05,\n",
       " 0.002184125599268727,\n",
       " -0.0029920574757474894,\n",
       " 0.001241039115047582,\n",
       " -0.0004110404840916848,\n",
       " 0.0006353844317131818,\n",
       " 0.0012961756835175864,\n",
       " -0.0008993014395924925,\n",
       " -0.0002247993766623102,\n",
       " -0.0002595087162537979,\n",
       " -0.0011610892906512849,\n",
       " -0.0020217506031594557,\n",
       " -0.0017254836377159632,\n",
       " 0.001550645120542038,\n",
       " -0.00029371838187797206,\n",
       " -0.0003006002207053271,\n",
       " -0.0003835080126667334,\n",
       " -5.299386341717227e-05,\n",
       " 0.0010759585464147348,\n",
       " -0.0002937695430349496,\n",
       " -0.001979808118128701,\n",
       " 0.000539040393502388,\n",
       " -0.0006446921620720802,\n",
       " -0.0022143414733826194,\n",
       " -0.0032122081033462146,\n",
       " 0.00044940083544098286,\n",
       " 0.0002841770155683765,\n",
       " -0.001450247602804433,\n",
       " -0.00033535731070999386,\n",
       " 0.001006955977975954,\n",
       " 0.0017160974602495882,\n",
       " -0.0008857458173099353,\n",
       " -0.0007344272209598435,\n",
       " 0.0012204208845160158,\n",
       " -0.0017118973187391084,\n",
       " 0.0014886011326661341,\n",
       " -0.0016566874192773806,\n",
       " 0.00024305822516657027,\n",
       " -5.280456713596671e-05,\n",
       " 0.0016125919022195179,\n",
       " -4.5591886159601636e-05,\n",
       " 0.0007039401927134703,\n",
       " -0.0003282281929568587,\n",
       " 0.0020669245784600276,\n",
       " -0.002131655379768449,\n",
       " 1.929533564926089e-06,\n",
       " -0.0017871950780707913,\n",
       " -0.002117814960378217,\n",
       " 0.0011379598999929907,\n",
       " 0.0002568611263750187,\n",
       " -0.0021315496467105843,\n",
       " -0.0016290782061166853,\n",
       " -0.001615205384660201,\n",
       " -0.001209477039302409,\n",
       " -0.0015741565145064307,\n",
       " 0.0006352292428699613,\n",
       " 0.0010482163142457868,\n",
       " -0.0011955718157797834,\n",
       " 0.0011997139746454666,\n",
       " -0.0013058722386701804,\n",
       " 2.2951937237447595e-05,\n",
       " -0.00273013148956458,\n",
       " -0.001181630779447218,\n",
       " -1.1673839130810215e-05,\n",
       " 0.0023765544591611842,\n",
       " 0.0011927417511073957,\n",
       " 0.0001258230969197749,\n",
       " 0.0012684539158113184,\n",
       " 0.0008001767924944447,\n",
       " 0.0008004956970402155,\n",
       " -0.000424568820423854,\n",
       " -6.666886173301023e-05,\n",
       " -0.00045911785505647895,\n",
       " 0.0007109686935244941,\n",
       " -0.00019041405773223552,\n",
       " 0.0017161025763652304,\n",
       " 0.0021357395559895576,\n",
       " 0.0004494315321352804,\n",
       " -0.000975153444792487,\n",
       " 0.0018395118140998035,\n",
       " 0.0002569327519950093,\n",
       " 0.0004630042081369412,\n",
       " -0.0006447859575267056,\n",
       " -3.917731923352985e-05,\n",
       " -0.0012780379164184508,\n",
       " -0.0017324677988574955,\n",
       " 0.00017422960466184634,\n",
       " -0.0003697630941029706,\n",
       " 0.0013855099800084147,\n",
       " -0.0008649331743814104,\n",
       " 0.001069358093951478,\n",
       " 0.0002842384089569716,\n",
       " 0.0023971607520894,\n",
       " 0.002177028883581622,\n",
       " -0.0006726731463074787,\n",
       " -0.0005415157408190652,\n",
       " 0.00344332815673698,\n",
       " -0.0003765409052441937,\n",
       " -0.0012226557743943989,\n",
       " 0.0007180159534263542,\n",
       " 0.0006698328494035843,\n",
       " -0.0010097962748797373,\n",
       " 0.0002430104747532802,\n",
       " 0.001778245475811513,\n",
       " -0.0008444633112054678,\n",
       " 0.00043592366026601326,\n",
       " -0.0013746855108278666,\n",
       " 0.00185383144299478,\n",
       " 0.0010417488807906716,\n",
       " 0.00039451836738446655,\n",
       " 0.0006558423572857741,\n",
       " 0.0009105897699304144,\n",
       " -0.0001627758532491974,\n",
       " -0.0005897244254202683,\n",
       " 0.000153309523303502,\n",
       " -8.742693276053703e-05,\n",
       " -0.00028685530214145327,\n",
       " -0.0004933940301847795,\n",
       " -0.0017117387191522004,\n",
       " -0.0015463989339902229,\n",
       " 0.002266572940816447,\n",
       " 0.000642203171780098,\n",
       " 0.0007315886294279039,\n",
       " -0.0007069424999480711,\n",
       " -0.0007618232626327437,\n",
       " -0.0005827914254359357,\n",
       " 9.060356690127058e-06,\n",
       " 0.0005597643570919297,\n",
       " -0.0007963518328024666,\n",
       " 0.0019706641034724637,\n",
       " -4.5956835746707725e-05,\n",
       " -0.001959430345035429,\n",
       " 0.0003531369497097314,\n",
       " -0.0003349804235196485,\n",
       " -0.0005691403023269093,\n",
       " 0.001646919238504796,\n",
       " 0.001137792773546531,\n",
       " 0.0011653610577816442,\n",
       " 0.0007178709968146402,\n",
       " -4.6188766325561126e-05,\n",
       " -2.5294265545761085e-05,\n",
       " -0.0005074049867653807,\n",
       " 0.002287082027546239,\n",
       " 0.0015918764654895279,\n",
       " 0.0003461306187334534,\n",
       " 0.0001052884296114387,\n",
       " -0.0019595650694156364,\n",
       " 0.00147490737525946,\n",
       " 0.0017230065850274423,\n",
       " -0.0006929622400617674,\n",
       " -0.0003076167839128896,\n",
       " 0.0005457090608419479,\n",
       " -0.0009135562643550754,\n",
       " 0.0015920879316053682,\n",
       " -0.0004314353109040603,\n",
       " -0.0008650849524807214,\n",
       " -0.0001355759293452108,\n",
       " -0.0012095094413685503,\n",
       " 0.0003118373898861604,\n",
       " -0.0004727877372564526,\n",
       " -0.00031442188100461177,\n",
       " 0.0008005485635692589,\n",
       " 0.0003807188769199277,\n",
       " -0.0007343283093895758,\n",
       " 0.00018110973811724662,\n",
       " 0.0025350499236775903,\n",
       " 0.0011169443178081773,\n",
       " 0.0013233449107273865,\n",
       " -0.001016563853789676,\n",
       " 0.0008074201701649963,\n",
       " -0.00017701532966474254,\n",
       " 0.00019484954056525616,\n",
       " 0.0002638623412355434,\n",
       " -0.0008238075624920072,\n",
       " 0.0006008081111300578,\n",
       " 0.003120040331439089,\n",
       " 0.00014651977455892862,\n",
       " -0.000768855174187566,\n",
       " 0.0005182942600781004,\n",
       " 0.0022941173498447487,\n",
       " -0.001360567115817446,\n",
       " -0.0010989822040150532,\n",
       " 0.0015850798952572465,\n",
       " 0.001213281534531374,\n",
       " 0.00035321880756100654,\n",
       " -0.0007138584462134112,\n",
       " 0.0006143552065529523,\n",
       " -0.0015464500951473115,\n",
       " -0.0016015781367577642,\n",
       " 0.0015576753267249055,\n",
       " 0.00044253263958893285,\n",
       " 0.0008694948547353087,\n",
       " 0.0005802001128298873,\n",
       " -0.001422616219809103,\n",
       " 0.001977660202217235,\n",
       " 0.0008003933747260383,\n",
       " -0.0014708214936665076,\n",
       " -0.0005689987564588828,\n",
       " -0.0012643629181027238,\n",
       " -0.0004181406105225882,\n",
       " -0.00014247993800731162,\n",
       " 0.0008969608166560228,\n",
       " -0.0010301586996259715,\n",
       " -0.0013124914502246066,\n",
       " -0.0014295304607024883,\n",
       " 0.0011031499434592806,\n",
       " -0.0002523079728806721,\n",
       " -0.00281284145838534,\n",
       " 1.6013821137361717e-05,\n",
       " 0.0008348810159702902,\n",
       " 0.0009516045326461997,\n",
       " 0.0018811575644195333,\n",
       " -0.001477404892410883,\n",
       " -0.0012572900776223195,\n",
       " 0.00034609992203915585,\n",
       " -0.00014247823263535686,\n",
       " 0.00014672100844337344,\n",
       " 5.0134807422441696e-05,\n",
       " 0.0006765492671563234,\n",
       " 0.000573464935986201,\n",
       " -0.000603704685306572,\n",
       " 0.0007180875790462338,\n",
       " 0.00039481169135180405,\n",
       " 0.0020257495107853796,\n",
       " -0.001106237519289066,\n",
       " -0.000479715621125254,\n",
       " 0.00100017816683462,\n",
       " 0.0011994581688601347,\n",
       " -0.00038307825894712266,\n",
       " 0.0025280282443543856,\n",
       " -0.0002180641998186239,\n",
       " 0.00020183370170678838,\n",
       " -0.000644866110006026,\n",
       " -0.0012574145697711314,\n",
       " 0.000979351880931012,\n",
       " 0.0008693669518425873,\n",
       " -8.715066251230308e-05,\n",
       " -0.0004863433595391209,\n",
       " -0.00011512823600390298,\n",
       " 0.001268326012918597,\n",
       " -0.0007617209403185665,\n",
       " 0.000284194069287369,\n",
       " 0.0010758101790592223,\n",
       " 0.00024303264458802598,\n",
       " -0.00047984864013372874,\n",
       " -0.0010027797116721748,\n",
       " -4.9301354275721465e-06,\n",
       " -0.0013398806704097987,\n",
       " -0.0003559312015721794,\n",
       " 0.00026352467759882536,\n",
       " 0.0014890598777079767,\n",
       " 0.0009245393331224205,\n",
       " -0.00014903605080118787,\n",
       " 0.0013304740284805217,\n",
       " 0.0011445177181589328,\n",
       " -0.000886016971442416,\n",
       " -0.00033521747021403314,\n",
       " 0.0035948633353185544,\n",
       " -0.0008513860789584049,\n",
       " -0.0009686195018332455,\n",
       " 0.0014611164116544728,\n",
       " 0.0002978724783470055,\n",
       " 0.0017361921416070292,\n",
       " 0.00022230868099848422,\n",
       " 9.830938458565974e-05,\n",
       " -0.00024564953777261866,\n",
       " 0.0002084955475586403,\n",
       " 6.394794086228561e-05,\n",
       " -0.0020352192514749845,\n",
       " -0.0003214674355346281,\n",
       " -0.00035574702140661607,\n",
       " -0.0014914482510576255,\n",
       " 0.0002428228838440294,\n",
       " 0.00161268058155839,\n",
       " -0.0005416197685050861,\n",
       " -0.0008377639471716103,\n",
       " 0.0014133016679624966,\n",
       " -0.0016497049635076921,\n",
       " 0.0008073024995038924,\n",
       " 0.0015988214030770997,\n",
       " 0.00025671105364766245,\n",
       " 0.0012959539851702395,\n",
       " 0.0013786690701066417,\n",
       " -0.001085336197021669,\n",
       " 0.00012607549196141932,\n",
       " 0.0011996304114222367,\n",
       " 0.0001189105613982333,\n",
       " -0.0004453200699637838,\n",
       " 0.0007110641943509632,\n",
       " -0.0008582969091081027,\n",
       " 0.0011653150127401979,\n",
       " 0.0009931309069327598,\n",
       " 0.0013513497701693744,\n",
       " 0.0006009155495598772,\n",
       " 0.00047025781803899935,\n",
       " 0.0030787441823594275,\n",
       " 0.0012685903455634806,\n",
       " -8.058943360267357e-05,\n",
       " -0.0018975705373249774,\n",
       " -5.286596052456183e-05,\n",
       " -0.00011520156699573736,\n",
       " -0.0008376684463450301,\n",
       " -0.0021384945842982672,\n",
       " -0.00028689282032334784,\n",
       " -0.00030727570953237304,\n",
       " -0.000714025572659871,\n",
       " -0.0016841141576443563,\n",
       " -0.0003491380420838075,\n",
       " -0.004086566584004858,\n",
       " -1.8666527131894206e-05,\n",
       " 0.0007041277836227211,\n",
       " -0.0011609409232957724,\n",
       " ...]"
      ]
     },
     "execution_count": 31,
     "metadata": {},
     "output_type": "execute_result"
    }
   ],
   "source": [
    "p_diffs #verify that values were appended to the arrary"
   ]
  },
  {
   "cell_type": "markdown",
   "metadata": {},
   "source": [
    "i. Plot a histogram of the **p_diffs**.  Does this plot look like what you expected?  Use the matching problem in the classroom to assure you fully understand what was computed here."
   ]
  },
  {
   "cell_type": "markdown",
   "metadata": {},
   "source": [
    "**I would expect a normal distribution due to the Central Limit theorem**"
   ]
  },
  {
   "cell_type": "code",
   "execution_count": 32,
   "metadata": {},
   "outputs": [],
   "source": [
    "#compute the actual converted rate for old and new pages\n",
    "#get the count of users who landed on the new page and converted\n",
    "new_convert = df2_ab.query('landing_page == \"new_page\" and converted == 1')['user_id'].count()\n",
    "#get the count of users who landed on the old page and converted\n",
    "old_convert = df2_ab.query('landing_page == \"old_page\" and converted == 1')['user_id'].count()"
   ]
  },
  {
   "cell_type": "code",
   "execution_count": 33,
   "metadata": {},
   "outputs": [],
   "source": [
    "#calculate the actual converted rate\n",
    "actual_conv_new = new_convert / n_new #get the number of users converted from new page divided by the total number of users who got the new page\n",
    "actual_conv_old = old_convert / n_old #get the number of users converted from old page divided by the total number of users who got the old page"
   ]
  },
  {
   "cell_type": "code",
   "execution_count": 34,
   "metadata": {},
   "outputs": [
    {
     "data": {
      "text/plain": [
       "-0.0015782389853555567"
      ]
     },
     "execution_count": 34,
     "metadata": {},
     "output_type": "execute_result"
    }
   ],
   "source": [
    "#get the observed difference\n",
    "obs_diff = actual_conv_new - actual_conv_old\n",
    "obs_diff #display obs_diff"
   ]
  },
  {
   "cell_type": "code",
   "execution_count": 35,
   "metadata": {},
   "outputs": [
    {
     "data": {
      "text/plain": [
       "(array([  26.,  167.,  679., 1917., 2857., 2536., 1325.,  418.,   68.,\n",
       "           7.]),\n",
       " array([-0.00428589, -0.00339112, -0.00249636, -0.00160159, -0.00070682,\n",
       "         0.00018794,  0.00108271,  0.00197748,  0.00287225,  0.00376701,\n",
       "         0.00466178]),\n",
       " <a list of 10 Patch objects>)"
      ]
     },
     "execution_count": 35,
     "metadata": {},
     "output_type": "execute_result"
    },
    {
     "data": {
      "image/png": "[encoded data removed]",
      "text/plain": [
       "<Figure size 432x288 with 1 Axes>"
      ]
     },
     "metadata": {
      "needs_background": "light"
     },
     "output_type": "display_data"
    }
   ],
   "source": [
    "plt.hist(p_diffs) #plot the histogram of the p_diffs"
   ]
  },
  {
   "cell_type": "markdown",
   "metadata": {},
   "source": [
    "j. What proportion of the **p_diffs** are greater than the actual difference observed in **ab_data.csv**?"
   ]
  },
  {
   "cell_type": "code",
   "execution_count": 36,
   "metadata": {},
   "outputs": [
    {
     "data": {
      "text/plain": [
       "<matplotlib.lines.Line2D at 0x11533ddd8>"
      ]
     },
     "execution_count": 36,
     "metadata": {},
     "output_type": "execute_result"
    },
    {
     "data": {
      "image/png": "[encoded data removed]",
      "text/plain": [
       "<Figure size 432x288 with 1 Axes>"
      ]
     },
     "metadata": {
      "needs_background": "light"
     },
     "output_type": "display_data"
    }
   ],
   "source": [
    "p_diffs = np.array(p_diffs) #change to array so we can use numpy functions\n",
    "null_vals = np.random.normal(0, p_diffs.std(), p_diffs.size) #simulate from the null using a normal distribution\n",
    "plt.hist(null_vals) #plot the null values\n",
    "plt.axvline (x=obs_diff, c='r') #draw a red line of the observed difference"
   ]
  },
  {
   "cell_type": "code",
   "execution_count": 37,
   "metadata": {},
   "outputs": [
    {
     "data": {
      "text/plain": [
       "0.9105"
      ]
     },
     "execution_count": 37,
     "metadata": {},
     "output_type": "execute_result"
    }
   ],
   "source": [
    "(null_vals > obs_diff).mean() #proportion of all values above the obs difference (red line above)"
   ]
  },
  {
   "cell_type": "markdown",
   "metadata": {},
   "source": [
    "k. In words, explain what you just computed in part **j.**  What is this value called in scientific studies?  What does this value mean in terms of whether or not there is a difference between the new and old pages?"
   ]
  },
  {
   "cell_type": "markdown",
   "metadata": {},
   "source": [
    "**We just calculated the p-value. The p-value is the probability we obtain an observed statistic, or one more extreme, from the null hypothesis.**\n",
    "\n",
    "**With a type 1 error rate of .05, we fail to reject the null hyopothesis. This means the new page is the same or worse at converting than the old page.**"
   ]
  },
  {
   "cell_type": "markdown",
   "metadata": {},
   "source": [
    "l. We could also use a built-in to achieve similar results.  Though using the built-in might be easier to code, the above portions are a walkthrough of the ideas that are critical to correctly thinking about statistical significance. Fill in the below to calculate the number of conversions for each page, as well as the number of individuals who received each page. Let `n_old` and `n_new` refer the the number of rows associated with the old page and new pages, respectively."
   ]
  },
  {
   "cell_type": "code",
   "execution_count": 38,
   "metadata": {},
   "outputs": [],
   "source": [
    "import statsmodels.api as sm\n",
    "\n",
    "convert_old = df2_ab.query('converted == 1 and landing_page == \"old_page\"')['user_id'].count() #count of users converted from old_page\n",
    "convert_new = df2_ab.query('converted == 1 and landing_page == \"new_page\"')['user_id'].count() #count of users converted from new_page\n",
    "n_old = df2_ab.query('landing_page == \"old_page\"')['user_id'].count() #count of users from old_page\n",
    "n_new = df2_ab.query('landing_page == \"new_page\"')['user_id'].count() #count of users from new_page"
   ]
  },
  {
   "cell_type": "markdown",
   "metadata": {},
   "source": [
    "m. Now use `stats.proportions_ztest` to compute your test statistic and p-value.  [Here](http://knowledgetack.com/python/statsmodels/proportions_ztest/) is a helpful link on using the built in."
   ]
  },
  {
   "cell_type": "code",
   "execution_count": 39,
   "metadata": {},
   "outputs": [
    {
     "data": {
      "text/plain": [
       "(-1.3109241984234394, 0.9050583127590245)"
      ]
     },
     "execution_count": 39,
     "metadata": {},
     "output_type": "execute_result"
    }
   ],
   "source": [
    "#I inserted the variables based on the documentation\n",
    "z_score, p_value = sm.stats.proportions_ztest([convert_new, convert_old], [n_new, n_old], alternative='larger')\n",
    "z_score, p_value #print the value or the z-score and p-value"
   ]
  },
  {
   "cell_type": "markdown",
   "metadata": {},
   "source": [
    "n. What do the z-score and p-value you computed in the previous question mean for the conversion rates of the old and new pages?  Do they agree with the findings in parts **j.** and **k.**?"
   ]
  },
  {
   "cell_type": "markdown",
   "metadata": {},
   "source": [
    "**With a type 1 error rate of .05, the p-value is still high enough where we would fail to reject the null hypothesis. Z-score above 1.96 would be significant, but in this case it is not.**\n",
    "\n",
    "**We fail to rejet the null hypothesis, suggesting that the new page is the same or worse at converting than the old page.**\n",
    "\n",
    "**The answers in parts j and k are almost the same as the built-in results. They are similar because in parts j and k we were calculating the p-value step by step.**"
   ]
  },
  {
   "cell_type": "markdown",
   "metadata": {},
   "source": [
    "<a id='regression'></a>\n",
    "### Part III - A regression approach\n",
    "\n",
    "`1.` In this final part, you will see that the result you acheived in the previous A/B test can also be acheived by performing regression.<br><br>\n",
    "\n",
    "a. Since each row is either a conversion or no conversion, what type of regression should you be performing in this case?"
   ]
  },
  {
   "cell_type": "markdown",
   "metadata": {},
   "source": [
    "**Logistic regression can be used in this case since the response is categorical--Convert or Not Convert.**"
   ]
  },
  {
   "cell_type": "markdown",
   "metadata": {},
   "source": [
    "b. The goal is to use **statsmodels** to fit the regression model you specified in part **a.** to see if there is a significant difference in conversion based on which page a customer receives.  However, you first need to create a column for the intercept, and create a dummy variable column for which page each user received.  Add an **intercept** column, as well as an **ab_page** column, which is 1 when an individual receives the **treatment** and 0 if **control**."
   ]
  },
  {
   "cell_type": "code",
   "execution_count": 40,
   "metadata": {},
   "outputs": [
    {
     "name": "stderr",
     "output_type": "stream",
     "text": [
      "/Users/ajkim/anaconda3/lib/python3.7/site-packages/ipykernel_launcher.py:1: SettingWithCopyWarning: \n",
      "A value is trying to be set on a copy of a slice from a DataFrame.\n",
      "Try using .loc[row_indexer,col_indexer] = value instead\n",
      "\n",
      "See the caveats in the documentation: http://pandas.pydata.org/pandas-docs/stable/indexing.html#indexing-view-versus-copy\n",
      "  \"\"\"Entry point for launching an IPython kernel.\n",
      "/Users/ajkim/anaconda3/lib/python3.7/site-packages/pandas/core/frame.py:3140: SettingWithCopyWarning: \n",
      "A value is trying to be set on a copy of a slice from a DataFrame.\n",
      "Try using .loc[row_indexer,col_indexer] = value instead\n",
      "\n",
      "See the caveats in the documentation: http://pandas.pydata.org/pandas-docs/stable/indexing.html#indexing-view-versus-copy\n",
      "  self[k1] = value[k2]\n"
     ]
    },
    {
     "data": {
      "text/html": [
       "<div>\n",
       "<style scoped>\n",
       "    .dataframe tbody tr th:only-of-type {\n",
       "        vertical-align: middle;\n",
       "    }\n",
       "\n",
       "    .dataframe tbody tr th {\n",
       "        vertical-align: top;\n",
       "    }\n",
       "\n",
       "    .dataframe thead th {\n",
       "        text-align: right;\n",
       "    }\n",
       "</style>\n",
       "<table border=\"1\" class=\"dataframe\">\n",
       "  <thead>\n",
       "    <tr style=\"text-align: right;\">\n",
       "      <th></th>\n",
       "      <th>user_id</th>\n",
       "      <th>timestamp</th>\n",
       "      <th>group</th>\n",
       "      <th>landing_page</th>\n",
       "      <th>converted</th>\n",
       "      <th>intercept</th>\n",
       "      <th>ab_page</th>\n",
       "      <th>new_page</th>\n",
       "    </tr>\n",
       "  </thead>\n",
       "  <tbody>\n",
       "    <tr>\n",
       "      <th>0</th>\n",
       "      <td>851104</td>\n",
       "      <td>2017-01-21 22:11:48.556739</td>\n",
       "      <td>control</td>\n",
       "      <td>old_page</td>\n",
       "      <td>0</td>\n",
       "      <td>1</td>\n",
       "      <td>0</td>\n",
       "      <td>0</td>\n",
       "    </tr>\n",
       "    <tr>\n",
       "      <th>1</th>\n",
       "      <td>804228</td>\n",
       "      <td>2017-01-12 08:01:45.159739</td>\n",
       "      <td>control</td>\n",
       "      <td>old_page</td>\n",
       "      <td>0</td>\n",
       "      <td>1</td>\n",
       "      <td>0</td>\n",
       "      <td>0</td>\n",
       "    </tr>\n",
       "    <tr>\n",
       "      <th>2</th>\n",
       "      <td>661590</td>\n",
       "      <td>2017-01-11 16:55:06.154213</td>\n",
       "      <td>treatment</td>\n",
       "      <td>new_page</td>\n",
       "      <td>0</td>\n",
       "      <td>1</td>\n",
       "      <td>1</td>\n",
       "      <td>1</td>\n",
       "    </tr>\n",
       "    <tr>\n",
       "      <th>3</th>\n",
       "      <td>853541</td>\n",
       "      <td>2017-01-08 18:28:03.143765</td>\n",
       "      <td>treatment</td>\n",
       "      <td>new_page</td>\n",
       "      <td>0</td>\n",
       "      <td>1</td>\n",
       "      <td>1</td>\n",
       "      <td>1</td>\n",
       "    </tr>\n",
       "    <tr>\n",
       "      <th>4</th>\n",
       "      <td>864975</td>\n",
       "      <td>2017-01-21 01:52:26.210827</td>\n",
       "      <td>control</td>\n",
       "      <td>old_page</td>\n",
       "      <td>1</td>\n",
       "      <td>1</td>\n",
       "      <td>0</td>\n",
       "      <td>0</td>\n",
       "    </tr>\n",
       "  </tbody>\n",
       "</table>\n",
       "</div>"
      ],
      "text/plain": [
       "   user_id                   timestamp      group landing_page  converted  \\\n",
       "0   851104  2017-01-21 22:11:48.556739    control     old_page          0   \n",
       "1   804228  2017-01-12 08:01:45.159739    control     old_page          0   \n",
       "2   661590  2017-01-11 16:55:06.154213  treatment     new_page          0   \n",
       "3   853541  2017-01-08 18:28:03.143765  treatment     new_page          0   \n",
       "4   864975  2017-01-21 01:52:26.210827    control     old_page          1   \n",
       "\n",
       "   intercept  ab_page  new_page  \n",
       "0          1        0         0  \n",
       "1          1        0         0  \n",
       "2          1        1         1  \n",
       "3          1        1         1  \n",
       "4          1        0         0  "
      ]
     },
     "execution_count": 40,
     "metadata": {},
     "output_type": "execute_result"
    }
   ],
   "source": [
    "df2_ab['intercept']=1 #create the intercept in teh dataframe\n",
    "df2_ab[['treatment','ab_page']]=pd.get_dummies(df['group']) #create the dummy variables for ab_page\n",
    "df2_ab[['new_page','old_page']]=pd.get_dummies(df['landing_page']) #create the dummy variables for ab_page\n",
    "df3 = df2_ab.drop(columns=['treatment','old_page']) #create a new df and drop unneccessary column\n",
    "df3.head() #verify the df3 has all of the needed columms"
   ]
  },
  {
   "cell_type": "markdown",
   "metadata": {},
   "source": [
    "c. Use **statsmodels** to import your regression model.  Instantiate the model, and fit the model using the two columns you created in part **b.** to predict whether or not an individual converts."
   ]
  },
  {
   "cell_type": "code",
   "execution_count": 41,
   "metadata": {},
   "outputs": [
    {
     "name": "stdout",
     "output_type": "stream",
     "text": [
      "Optimization terminated successfully.\n",
      "         Current function value: 0.366118\n",
      "         Iterations 6\n"
     ]
    }
   ],
   "source": [
    "#user logistic regression model to determine if the treatment and control causes a difference in converts \n",
    "log_mod = sm.Logit(df3['converted'], df3[['intercept', 'ab_page']])\n",
    "results = log_mod.fit()"
   ]
  },
  {
   "cell_type": "markdown",
   "metadata": {},
   "source": [
    "d. Provide the summary of your model below, and use it as necessary to answer the following questions."
   ]
  },
  {
   "cell_type": "code",
   "execution_count": 42,
   "metadata": {},
   "outputs": [
    {
     "data": {
      "text/html": [
       "<table class=\"simpletable\">\n",
       "<caption>Logit Regression Results</caption>\n",
       "<tr>\n",
       "  <th>Dep. Variable:</th>     <td>converted</td>    <th>  No. Observations:  </th>   <td>290584</td>   \n",
       "</tr>\n",
       "<tr>\n",
       "  <th>Model:</th>               <td>Logit</td>      <th>  Df Residuals:      </th>   <td>290582</td>   \n",
       "</tr>\n",
       "<tr>\n",
       "  <th>Method:</th>               <td>MLE</td>       <th>  Df Model:          </th>   <td>     1</td>   \n",
       "</tr>\n",
       "<tr>\n",
       "  <th>Date:</th>          <td>Sun, 13 Jan 2019</td> <th>  Pseudo R-squ.:     </th>  <td>8.077e-06</td> \n",
       "</tr>\n",
       "<tr>\n",
       "  <th>Time:</th>              <td>10:01:40</td>     <th>  Log-Likelihood:    </th> <td>-1.0639e+05</td>\n",
       "</tr>\n",
       "<tr>\n",
       "  <th>converged:</th>           <td>True</td>       <th>  LL-Null:           </th> <td>-1.0639e+05</td>\n",
       "</tr>\n",
       "<tr>\n",
       "  <th> </th>                      <td> </td>        <th>  LLR p-value:       </th>   <td>0.1899</td>   \n",
       "</tr>\n",
       "</table>\n",
       "<table class=\"simpletable\">\n",
       "<tr>\n",
       "      <td></td>         <th>coef</th>     <th>std err</th>      <th>z</th>      <th>P>|z|</th>  <th>[0.025</th>    <th>0.975]</th>  \n",
       "</tr>\n",
       "<tr>\n",
       "  <th>intercept</th> <td>   -1.9888</td> <td>    0.008</td> <td> -246.669</td> <td> 0.000</td> <td>   -2.005</td> <td>   -1.973</td>\n",
       "</tr>\n",
       "<tr>\n",
       "  <th>ab_page</th>   <td>   -0.0150</td> <td>    0.011</td> <td>   -1.311</td> <td> 0.190</td> <td>   -0.037</td> <td>    0.007</td>\n",
       "</tr>\n",
       "</table>"
      ],
      "text/plain": [
       "<class 'statsmodels.iolib.summary.Summary'>\n",
       "\"\"\"\n",
       "                           Logit Regression Results                           \n",
       "==============================================================================\n",
       "Dep. Variable:              converted   No. Observations:               290584\n",
       "Model:                          Logit   Df Residuals:                   290582\n",
       "Method:                           MLE   Df Model:                            1\n",
       "Date:                Sun, 13 Jan 2019   Pseudo R-squ.:               8.077e-06\n",
       "Time:                        10:01:40   Log-Likelihood:            -1.0639e+05\n",
       "converged:                       True   LL-Null:                   -1.0639e+05\n",
       "                                        LLR p-value:                    0.1899\n",
       "==============================================================================\n",
       "                 coef    std err          z      P>|z|      [0.025      0.975]\n",
       "------------------------------------------------------------------------------\n",
       "intercept     -1.9888      0.008   -246.669      0.000      -2.005      -1.973\n",
       "ab_page       -0.0150      0.011     -1.311      0.190      -0.037       0.007\n",
       "==============================================================================\n",
       "\"\"\""
      ]
     },
     "execution_count": 42,
     "metadata": {},
     "output_type": "execute_result"
    }
   ],
   "source": [
    "results.summary() #print the summary of results"
   ]
  },
  {
   "cell_type": "markdown",
   "metadata": {},
   "source": [
    "e. What is the p-value associated with **ab_page**? Why does it differ from the value you found in **Part II**?<br><br>  **Hint**: What are the null and alternative hypotheses associated with your regression model, and how do they compare to the null and alternative hypotheses in the **Part II**?"
   ]
  },
  {
   "cell_type": "markdown",
   "metadata": {},
   "source": [
    "**P-value is 0.19.**\n",
    "\n",
    "Null hypothesis is that the treatment and control group are the same. \n",
    "The alternative hypothesis is that the treatment and control group are different.\n",
    "\n",
    "Part 2, we were interested in if the new page was better than the old page. "
   ]
  },
  {
   "cell_type": "markdown",
   "metadata": {},
   "source": [
    "f. Now, you are considering other things that might influence whether or not an individual converts.  Discuss why it is a good idea to consider other factors to add into your regression model.  Are there any disadvantages to adding additional terms into your regression model?"
   ]
  },
  {
   "cell_type": "markdown",
   "metadata": {},
   "source": [
    "**Certain variables may not be independent and require more factors to be added to the regression model (i.e. home value examples are dependent on a number of things)**\n",
    "\n",
    "**You can run into multicollinearity which can make our responses unreliable and the expected relationships may not hold between x and y variables**"
   ]
  },
  {
   "cell_type": "markdown",
   "metadata": {},
   "source": [
    "g. Now along with testing if the conversion rate changes for different pages, also add an effect based on which country a user lives. You will need to read in the **countries.csv** dataset and merge together your datasets on the approporiate rows.  [Here](https://pandas.pydata.org/pandas-docs/stable/generated/pandas.DataFrame.join.html) are the docs for joining tables. \n",
    "\n",
    "Does it appear that country had an impact on conversion?  Don't forget to create dummy variables for these country columns - **Hint: You will need two columns for the three dummy variables.** Provide the statistical output as well as a written response to answer this question."
   ]
  },
  {
   "cell_type": "code",
   "execution_count": 43,
   "metadata": {},
   "outputs": [
    {
     "data": {
      "text/html": [
       "<div>\n",
       "<style scoped>\n",
       "    .dataframe tbody tr th:only-of-type {\n",
       "        vertical-align: middle;\n",
       "    }\n",
       "\n",
       "    .dataframe tbody tr th {\n",
       "        vertical-align: top;\n",
       "    }\n",
       "\n",
       "    .dataframe thead th {\n",
       "        text-align: right;\n",
       "    }\n",
       "</style>\n",
       "<table border=\"1\" class=\"dataframe\">\n",
       "  <thead>\n",
       "    <tr style=\"text-align: right;\">\n",
       "      <th></th>\n",
       "      <th>country</th>\n",
       "      <th>timestamp</th>\n",
       "      <th>group</th>\n",
       "      <th>landing_page</th>\n",
       "      <th>converted</th>\n",
       "      <th>intercept</th>\n",
       "      <th>ab_page</th>\n",
       "      <th>new_page</th>\n",
       "    </tr>\n",
       "    <tr>\n",
       "      <th>user_id</th>\n",
       "      <th></th>\n",
       "      <th></th>\n",
       "      <th></th>\n",
       "      <th></th>\n",
       "      <th></th>\n",
       "      <th></th>\n",
       "      <th></th>\n",
       "      <th></th>\n",
       "    </tr>\n",
       "  </thead>\n",
       "  <tbody>\n",
       "    <tr>\n",
       "      <th>834778</th>\n",
       "      <td>UK</td>\n",
       "      <td>2017-01-14 23:08:43.304998</td>\n",
       "      <td>control</td>\n",
       "      <td>old_page</td>\n",
       "      <td>0</td>\n",
       "      <td>1</td>\n",
       "      <td>0</td>\n",
       "      <td>0</td>\n",
       "    </tr>\n",
       "    <tr>\n",
       "      <th>928468</th>\n",
       "      <td>US</td>\n",
       "      <td>2017-01-23 14:44:16.387854</td>\n",
       "      <td>treatment</td>\n",
       "      <td>new_page</td>\n",
       "      <td>0</td>\n",
       "      <td>1</td>\n",
       "      <td>1</td>\n",
       "      <td>1</td>\n",
       "    </tr>\n",
       "    <tr>\n",
       "      <th>822059</th>\n",
       "      <td>UK</td>\n",
       "      <td>2017-01-16 14:04:14.719771</td>\n",
       "      <td>treatment</td>\n",
       "      <td>new_page</td>\n",
       "      <td>1</td>\n",
       "      <td>1</td>\n",
       "      <td>1</td>\n",
       "      <td>1</td>\n",
       "    </tr>\n",
       "    <tr>\n",
       "      <th>711597</th>\n",
       "      <td>UK</td>\n",
       "      <td>2017-01-22 03:14:24.763511</td>\n",
       "      <td>control</td>\n",
       "      <td>old_page</td>\n",
       "      <td>0</td>\n",
       "      <td>1</td>\n",
       "      <td>0</td>\n",
       "      <td>0</td>\n",
       "    </tr>\n",
       "    <tr>\n",
       "      <th>710616</th>\n",
       "      <td>UK</td>\n",
       "      <td>2017-01-16 13:14:44.000513</td>\n",
       "      <td>treatment</td>\n",
       "      <td>new_page</td>\n",
       "      <td>0</td>\n",
       "      <td>1</td>\n",
       "      <td>1</td>\n",
       "      <td>1</td>\n",
       "    </tr>\n",
       "  </tbody>\n",
       "</table>\n",
       "</div>"
      ],
      "text/plain": [
       "        country                   timestamp      group landing_page  \\\n",
       "user_id                                                               \n",
       "834778       UK  2017-01-14 23:08:43.304998    control     old_page   \n",
       "928468       US  2017-01-23 14:44:16.387854  treatment     new_page   \n",
       "822059       UK  2017-01-16 14:04:14.719771  treatment     new_page   \n",
       "711597       UK  2017-01-22 03:14:24.763511    control     old_page   \n",
       "710616       UK  2017-01-16 13:14:44.000513  treatment     new_page   \n",
       "\n",
       "         converted  intercept  ab_page  new_page  \n",
       "user_id                                           \n",
       "834778           0          1        0         0  \n",
       "928468           0          1        1         1  \n",
       "822059           1          1        1         1  \n",
       "711597           0          1        0         0  \n",
       "710616           0          1        1         1  "
      ]
     },
     "execution_count": 43,
     "metadata": {},
     "output_type": "execute_result"
    }
   ],
   "source": [
    "countries_df = pd.read_csv('./countries.csv') #read the countries file\n",
    "df_new = countries_df.set_index('user_id').join(df3.set_index('user_id'), how='inner') #join the file with df3 using an inner join\n",
    "df_new.head() #verify the country column was added properly"
   ]
  },
  {
   "cell_type": "code",
   "execution_count": 44,
   "metadata": {},
   "outputs": [
    {
     "data": {
      "text/plain": [
       "array(['UK', 'US', 'CA'], dtype=object)"
      ]
     },
     "execution_count": 44,
     "metadata": {},
     "output_type": "execute_result"
    }
   ],
   "source": [
    "df_new['country'].unique() #get the unique values in the country column\n"
   ]
  },
  {
   "cell_type": "code",
   "execution_count": 45,
   "metadata": {},
   "outputs": [],
   "source": [
    "### Create the necessary dummy variables\n",
    "df_new['intercept']=1 #create the intercept\n",
    "df_new[['CA','UK','US']]=pd.get_dummies(df_new['country']) #create the dummy variables "
   ]
  },
  {
   "cell_type": "code",
   "execution_count": 46,
   "metadata": {},
   "outputs": [
    {
     "data": {
      "text/html": [
       "<div>\n",
       "<style scoped>\n",
       "    .dataframe tbody tr th:only-of-type {\n",
       "        vertical-align: middle;\n",
       "    }\n",
       "\n",
       "    .dataframe tbody tr th {\n",
       "        vertical-align: top;\n",
       "    }\n",
       "\n",
       "    .dataframe thead th {\n",
       "        text-align: right;\n",
       "    }\n",
       "</style>\n",
       "<table border=\"1\" class=\"dataframe\">\n",
       "  <thead>\n",
       "    <tr style=\"text-align: right;\">\n",
       "      <th></th>\n",
       "      <th>country</th>\n",
       "      <th>timestamp</th>\n",
       "      <th>group</th>\n",
       "      <th>landing_page</th>\n",
       "      <th>converted</th>\n",
       "      <th>intercept</th>\n",
       "      <th>ab_page</th>\n",
       "      <th>new_page</th>\n",
       "      <th>CA</th>\n",
       "      <th>UK</th>\n",
       "      <th>US</th>\n",
       "    </tr>\n",
       "    <tr>\n",
       "      <th>user_id</th>\n",
       "      <th></th>\n",
       "      <th></th>\n",
       "      <th></th>\n",
       "      <th></th>\n",
       "      <th></th>\n",
       "      <th></th>\n",
       "      <th></th>\n",
       "      <th></th>\n",
       "      <th></th>\n",
       "      <th></th>\n",
       "      <th></th>\n",
       "    </tr>\n",
       "  </thead>\n",
       "  <tbody>\n",
       "    <tr>\n",
       "      <th>834778</th>\n",
       "      <td>UK</td>\n",
       "      <td>2017-01-14 23:08:43.304998</td>\n",
       "      <td>control</td>\n",
       "      <td>old_page</td>\n",
       "      <td>0</td>\n",
       "      <td>1</td>\n",
       "      <td>0</td>\n",
       "      <td>0</td>\n",
       "      <td>0</td>\n",
       "      <td>1</td>\n",
       "      <td>0</td>\n",
       "    </tr>\n",
       "    <tr>\n",
       "      <th>928468</th>\n",
       "      <td>US</td>\n",
       "      <td>2017-01-23 14:44:16.387854</td>\n",
       "      <td>treatment</td>\n",
       "      <td>new_page</td>\n",
       "      <td>0</td>\n",
       "      <td>1</td>\n",
       "      <td>1</td>\n",
       "      <td>1</td>\n",
       "      <td>0</td>\n",
       "      <td>0</td>\n",
       "      <td>1</td>\n",
       "    </tr>\n",
       "    <tr>\n",
       "      <th>822059</th>\n",
       "      <td>UK</td>\n",
       "      <td>2017-01-16 14:04:14.719771</td>\n",
       "      <td>treatment</td>\n",
       "      <td>new_page</td>\n",
       "      <td>1</td>\n",
       "      <td>1</td>\n",
       "      <td>1</td>\n",
       "      <td>1</td>\n",
       "      <td>0</td>\n",
       "      <td>1</td>\n",
       "      <td>0</td>\n",
       "    </tr>\n",
       "    <tr>\n",
       "      <th>711597</th>\n",
       "      <td>UK</td>\n",
       "      <td>2017-01-22 03:14:24.763511</td>\n",
       "      <td>control</td>\n",
       "      <td>old_page</td>\n",
       "      <td>0</td>\n",
       "      <td>1</td>\n",
       "      <td>0</td>\n",
       "      <td>0</td>\n",
       "      <td>0</td>\n",
       "      <td>1</td>\n",
       "      <td>0</td>\n",
       "    </tr>\n",
       "    <tr>\n",
       "      <th>710616</th>\n",
       "      <td>UK</td>\n",
       "      <td>2017-01-16 13:14:44.000513</td>\n",
       "      <td>treatment</td>\n",
       "      <td>new_page</td>\n",
       "      <td>0</td>\n",
       "      <td>1</td>\n",
       "      <td>1</td>\n",
       "      <td>1</td>\n",
       "      <td>0</td>\n",
       "      <td>1</td>\n",
       "      <td>0</td>\n",
       "    </tr>\n",
       "  </tbody>\n",
       "</table>\n",
       "</div>"
      ],
      "text/plain": [
       "        country                   timestamp      group landing_page  \\\n",
       "user_id                                                               \n",
       "834778       UK  2017-01-14 23:08:43.304998    control     old_page   \n",
       "928468       US  2017-01-23 14:44:16.387854  treatment     new_page   \n",
       "822059       UK  2017-01-16 14:04:14.719771  treatment     new_page   \n",
       "711597       UK  2017-01-22 03:14:24.763511    control     old_page   \n",
       "710616       UK  2017-01-16 13:14:44.000513  treatment     new_page   \n",
       "\n",
       "         converted  intercept  ab_page  new_page  CA  UK  US  \n",
       "user_id                                                       \n",
       "834778           0          1        0         0   0   1   0  \n",
       "928468           0          1        1         1   0   0   1  \n",
       "822059           1          1        1         1   0   1   0  \n",
       "711597           0          1        0         0   0   1   0  \n",
       "710616           0          1        1         1   0   1   0  "
      ]
     },
     "execution_count": 46,
     "metadata": {},
     "output_type": "execute_result"
    }
   ],
   "source": [
    "df_new.head() #verify the dummy variables were added properly"
   ]
  },
  {
   "cell_type": "code",
   "execution_count": 47,
   "metadata": {},
   "outputs": [
    {
     "name": "stdout",
     "output_type": "stream",
     "text": [
      "Optimization terminated successfully.\n",
      "         Current function value: 0.366113\n",
      "         Iterations 6\n"
     ]
    },
    {
     "data": {
      "text/html": [
       "<table class=\"simpletable\">\n",
       "<caption>Logit Regression Results</caption>\n",
       "<tr>\n",
       "  <th>Dep. Variable:</th>     <td>converted</td>    <th>  No. Observations:  </th>   <td>290584</td>   \n",
       "</tr>\n",
       "<tr>\n",
       "  <th>Model:</th>               <td>Logit</td>      <th>  Df Residuals:      </th>   <td>290580</td>   \n",
       "</tr>\n",
       "<tr>\n",
       "  <th>Method:</th>               <td>MLE</td>       <th>  Df Model:          </th>   <td>     3</td>   \n",
       "</tr>\n",
       "<tr>\n",
       "  <th>Date:</th>          <td>Sun, 13 Jan 2019</td> <th>  Pseudo R-squ.:     </th>  <td>2.323e-05</td> \n",
       "</tr>\n",
       "<tr>\n",
       "  <th>Time:</th>              <td>10:01:41</td>     <th>  Log-Likelihood:    </th> <td>-1.0639e+05</td>\n",
       "</tr>\n",
       "<tr>\n",
       "  <th>converged:</th>           <td>True</td>       <th>  LL-Null:           </th> <td>-1.0639e+05</td>\n",
       "</tr>\n",
       "<tr>\n",
       "  <th> </th>                      <td> </td>        <th>  LLR p-value:       </th>   <td>0.1760</td>   \n",
       "</tr>\n",
       "</table>\n",
       "<table class=\"simpletable\">\n",
       "<tr>\n",
       "      <td></td>         <th>coef</th>     <th>std err</th>      <th>z</th>      <th>P>|z|</th>  <th>[0.025</th>    <th>0.975]</th>  \n",
       "</tr>\n",
       "<tr>\n",
       "  <th>intercept</th> <td>   -2.0300</td> <td>    0.027</td> <td>  -76.249</td> <td> 0.000</td> <td>   -2.082</td> <td>   -1.978</td>\n",
       "</tr>\n",
       "<tr>\n",
       "  <th>new_page</th>  <td>   -0.0149</td> <td>    0.011</td> <td>   -1.307</td> <td> 0.191</td> <td>   -0.037</td> <td>    0.007</td>\n",
       "</tr>\n",
       "<tr>\n",
       "  <th>UK</th>        <td>    0.0506</td> <td>    0.028</td> <td>    1.784</td> <td> 0.074</td> <td>   -0.005</td> <td>    0.106</td>\n",
       "</tr>\n",
       "<tr>\n",
       "  <th>US</th>        <td>    0.0408</td> <td>    0.027</td> <td>    1.516</td> <td> 0.130</td> <td>   -0.012</td> <td>    0.093</td>\n",
       "</tr>\n",
       "</table>"
      ],
      "text/plain": [
       "<class 'statsmodels.iolib.summary.Summary'>\n",
       "\"\"\"\n",
       "                           Logit Regression Results                           \n",
       "==============================================================================\n",
       "Dep. Variable:              converted   No. Observations:               290584\n",
       "Model:                          Logit   Df Residuals:                   290580\n",
       "Method:                           MLE   Df Model:                            3\n",
       "Date:                Sun, 13 Jan 2019   Pseudo R-squ.:               2.323e-05\n",
       "Time:                        10:01:41   Log-Likelihood:            -1.0639e+05\n",
       "converged:                       True   LL-Null:                   -1.0639e+05\n",
       "                                        LLR p-value:                    0.1760\n",
       "==============================================================================\n",
       "                 coef    std err          z      P>|z|      [0.025      0.975]\n",
       "------------------------------------------------------------------------------\n",
       "intercept     -2.0300      0.027    -76.249      0.000      -2.082      -1.978\n",
       "new_page      -0.0149      0.011     -1.307      0.191      -0.037       0.007\n",
       "UK             0.0506      0.028      1.784      0.074      -0.005       0.106\n",
       "US             0.0408      0.027      1.516      0.130      -0.012       0.093\n",
       "==============================================================================\n",
       "\"\"\""
      ]
     },
     "execution_count": 47,
     "metadata": {},
     "output_type": "execute_result"
    }
   ],
   "source": [
    "#use logistic regression model to get the summary of results\n",
    "log_mod2 = sm.Logit(df_new['converted'], df_new[['intercept','new_page','UK','US']]) #drop one of the columns \n",
    "results = log_mod2.fit()\n",
    "results.summary() #print the results"
   ]
  },
  {
   "cell_type": "code",
   "execution_count": 48,
   "metadata": {},
   "outputs": [
    {
     "data": {
      "text/plain": [
       "(1.001501125562711, 1.0519020483004984, 1.0416437559600236)"
      ]
     },
     "execution_count": 48,
     "metadata": {},
     "output_type": "execute_result"
    }
   ],
   "source": [
    "#calculate the exponential to interpret the values. Use the reciprical for negative values and change to every unit decrease\n",
    "1/np.exp(-0.0015), np.exp(0.0506), np.exp(0.0408)"
   ]
  },
  {
   "cell_type": "markdown",
   "metadata": {},
   "source": [
    "**For every one unit decrease on the new_page, converting is expected to be 1.0015 times more likely holding all other variables constant.**\n",
    "\n",
    "**For every one unit increase for UK, converting is expected to be 1.0519 times more likely holding all other variables constant.**\n",
    "\n",
    "**For every one unit increase for US, converting is expected to be 1.0416 times more likely holding all other variables constant.**"
   ]
  },
  {
   "cell_type": "markdown",
   "metadata": {},
   "source": [
    "h. Though you have now looked at the individual factors of country and page on conversion, we would now like to look at an interaction between page and country to see if there significant effects on conversion.  Create the necessary additional columns, and fit the new model.  \n",
    "\n",
    "Provide the summary results, and your conclusions based on the results."
   ]
  },
  {
   "cell_type": "code",
   "execution_count": 49,
   "metadata": {},
   "outputs": [],
   "source": [
    "### Fit Your Linear Model And Obtain the Results\n",
    "\n",
    "#create high order terms or interaction variables by multiplying country and new_page\n",
    "df_new['uk_new'] = df_new['UK']*df_new['new_page']\n",
    "df_new['us_new'] = df_new['US']*df_new['new_page']"
   ]
  },
  {
   "cell_type": "code",
   "execution_count": 50,
   "metadata": {},
   "outputs": [
    {
     "data": {
      "text/html": [
       "<table class=\"simpletable\">\n",
       "<caption>OLS Regression Results</caption>\n",
       "<tr>\n",
       "  <th>Dep. Variable:</th>        <td>converted</td>    <th>  R-squared:         </th> <td>   0.000</td> \n",
       "</tr>\n",
       "<tr>\n",
       "  <th>Model:</th>                   <td>OLS</td>       <th>  Adj. R-squared:    </th> <td>   0.000</td> \n",
       "</tr>\n",
       "<tr>\n",
       "  <th>Method:</th>             <td>Least Squares</td>  <th>  F-statistic:       </th> <td>   1.466</td> \n",
       "</tr>\n",
       "<tr>\n",
       "  <th>Date:</th>             <td>Sun, 13 Jan 2019</td> <th>  Prob (F-statistic):</th>  <td> 0.197</td>  \n",
       "</tr>\n",
       "<tr>\n",
       "  <th>Time:</th>                 <td>10:01:41</td>     <th>  Log-Likelihood:    </th> <td> -85265.</td> \n",
       "</tr>\n",
       "<tr>\n",
       "  <th>No. Observations:</th>      <td>290584</td>      <th>  AIC:               </th> <td>1.705e+05</td>\n",
       "</tr>\n",
       "<tr>\n",
       "  <th>Df Residuals:</th>          <td>290578</td>      <th>  BIC:               </th> <td>1.706e+05</td>\n",
       "</tr>\n",
       "<tr>\n",
       "  <th>Df Model:</th>              <td>     5</td>      <th>                     </th>     <td> </td>    \n",
       "</tr>\n",
       "<tr>\n",
       "  <th>Covariance Type:</th>      <td>nonrobust</td>    <th>                     </th>     <td> </td>    \n",
       "</tr>\n",
       "</table>\n",
       "<table class=\"simpletable\">\n",
       "<tr>\n",
       "      <td></td>         <th>coef</th>     <th>std err</th>      <th>t</th>      <th>P>|t|</th>  <th>[0.025</th>    <th>0.975]</th>  \n",
       "</tr>\n",
       "<tr>\n",
       "  <th>intercept</th> <td>    0.1188</td> <td>    0.004</td> <td>   31.057</td> <td> 0.000</td> <td>    0.111</td> <td>    0.126</td>\n",
       "</tr>\n",
       "<tr>\n",
       "  <th>new_page</th>  <td>   -0.0069</td> <td>    0.005</td> <td>   -1.277</td> <td> 0.202</td> <td>   -0.017</td> <td>    0.004</td>\n",
       "</tr>\n",
       "<tr>\n",
       "  <th>uk_new</th>    <td>    0.0080</td> <td>    0.006</td> <td>    1.360</td> <td> 0.174</td> <td>   -0.004</td> <td>    0.020</td>\n",
       "</tr>\n",
       "<tr>\n",
       "  <th>us_new</th>    <td>    0.0047</td> <td>    0.006</td> <td>    0.845</td> <td> 0.398</td> <td>   -0.006</td> <td>    0.016</td>\n",
       "</tr>\n",
       "<tr>\n",
       "  <th>UK</th>        <td>    0.0012</td> <td>    0.004</td> <td>    0.296</td> <td> 0.767</td> <td>   -0.007</td> <td>    0.009</td>\n",
       "</tr>\n",
       "<tr>\n",
       "  <th>US</th>        <td>    0.0018</td> <td>    0.004</td> <td>    0.467</td> <td> 0.641</td> <td>   -0.006</td> <td>    0.010</td>\n",
       "</tr>\n",
       "</table>\n",
       "<table class=\"simpletable\">\n",
       "<tr>\n",
       "  <th>Omnibus:</th>       <td>125549.436</td> <th>  Durbin-Watson:     </th>  <td>   1.996</td> \n",
       "</tr>\n",
       "<tr>\n",
       "  <th>Prob(Omnibus):</th>   <td> 0.000</td>   <th>  Jarque-Bera (JB):  </th> <td>414285.945</td>\n",
       "</tr>\n",
       "<tr>\n",
       "  <th>Skew:</th>            <td> 2.345</td>   <th>  Prob(JB):          </th>  <td>    0.00</td> \n",
       "</tr>\n",
       "<tr>\n",
       "  <th>Kurtosis:</th>        <td> 6.497</td>   <th>  Cond. No.          </th>  <td>    26.1</td> \n",
       "</tr>\n",
       "</table><br/><br/>Warnings:<br/>[1] Standard Errors assume that the covariance matrix of the errors is correctly specified."
      ],
      "text/plain": [
       "<class 'statsmodels.iolib.summary.Summary'>\n",
       "\"\"\"\n",
       "                            OLS Regression Results                            \n",
       "==============================================================================\n",
       "Dep. Variable:              converted   R-squared:                       0.000\n",
       "Model:                            OLS   Adj. R-squared:                  0.000\n",
       "Method:                 Least Squares   F-statistic:                     1.466\n",
       "Date:                Sun, 13 Jan 2019   Prob (F-statistic):              0.197\n",
       "Time:                        10:01:41   Log-Likelihood:                -85265.\n",
       "No. Observations:              290584   AIC:                         1.705e+05\n",
       "Df Residuals:                  290578   BIC:                         1.706e+05\n",
       "Df Model:                           5                                         \n",
       "Covariance Type:            nonrobust                                         \n",
       "==============================================================================\n",
       "                 coef    std err          t      P>|t|      [0.025      0.975]\n",
       "------------------------------------------------------------------------------\n",
       "intercept      0.1188      0.004     31.057      0.000       0.111       0.126\n",
       "new_page      -0.0069      0.005     -1.277      0.202      -0.017       0.004\n",
       "uk_new         0.0080      0.006      1.360      0.174      -0.004       0.020\n",
       "us_new         0.0047      0.006      0.845      0.398      -0.006       0.016\n",
       "UK             0.0012      0.004      0.296      0.767      -0.007       0.009\n",
       "US             0.0018      0.004      0.467      0.641      -0.006       0.010\n",
       "==============================================================================\n",
       "Omnibus:                   125549.436   Durbin-Watson:                   1.996\n",
       "Prob(Omnibus):                  0.000   Jarque-Bera (JB):           414285.945\n",
       "Skew:                           2.345   Prob(JB):                         0.00\n",
       "Kurtosis:                       6.497   Cond. No.                         26.1\n",
       "==============================================================================\n",
       "\n",
       "Warnings:\n",
       "[1] Standard Errors assume that the covariance matrix of the errors is correctly specified.\n",
       "\"\"\""
      ]
     },
     "execution_count": 50,
     "metadata": {},
     "output_type": "execute_result"
    }
   ],
   "source": [
    "#use the OLS model for the higher order terms\n",
    "lm = sm.OLS(df_new['converted'],df_new[['intercept','new_page','uk_new','us_new','UK','US']])\n",
    "results = lm.fit() \n",
    "results.summary() #print the summary"
   ]
  },
  {
   "cell_type": "markdown",
   "metadata": {},
   "source": [
    "**The higher order terms are not easily interpretable.**\n",
    "\n",
    "**The p-values for all variables are not less than 0.05 so they are not statistically significant.**\n",
    "\n",
    "**Convert for UK users is .0012 times more likely than CA users**\n",
    "**Convert for US users is .0018 times more likely than CA users**"
   ]
  },
  {
   "cell_type": "markdown",
   "metadata": {},
   "source": [
    "<a id='conclusions'></a>\n",
    "## Conclusions\n",
    "\n",
    "Congratulations on completing the project! \n",
    "\n",
    "### Gather Submission Materials\n",
    "\n",
    "Once you are satisfied with the status of your Notebook, you should save it in a format that will make it easy for others to read. You can use the __File -> Download as -> HTML (.html)__ menu to save your notebook as an .html file. If you are working locally and get an error about \"No module name\", then open a terminal and try installing the missing module using `pip install <module_name>` (don't include the \"<\" or \">\" or any words following a period in the module name).\n",
    "\n",
    "You will submit both your original Notebook and an HTML or PDF copy of the Notebook for review. There is no need for you to include any data files with your submission. If you made reference to other websites, books, and other resources to help you in solving tasks in the project, make sure that you document them. It is recommended that you either add a \"Resources\" section in a Markdown cell at the end of the Notebook report, or you can include a `readme.txt` file documenting your sources.\n",
    "\n",
    "### Submit the Project\n",
    "\n",
    "When you're ready, click on the \"Submit Project\" button to go to the project submission page. You can submit your files as a .zip archive or you can link to a GitHub repository containing your project files. If you go with GitHub, note that your submission will be a snapshot of the linked repository at time of submission. It is recommended that you keep each project in a separate repository to avoid any potential confusion: if a reviewer gets multiple folders representing multiple projects, there might be confusion regarding what project is to be evaluated.\n",
    "\n",
    "It can take us up to a week to grade the project, but in most cases it is much faster. You will get an email once your submission has been reviewed. If you are having any problems submitting your project or wish to check on the status of your submission, please email us at dataanalyst-project@udacity.com. In the meantime, you should feel free to continue on with your learning journey by beginning the next module in the program."
   ]
  },
  {
   "cell_type": "markdown",
   "metadata": {
    "collapsed": true
   },
   "source": [
    "**References used: GitHub, StackOverflow, Student Knowledge Center on Udacity**"
   ]
  },
  {
   "cell_type": "code",
   "execution_count": null,
   "metadata": {},
   "outputs": [],
   "source": []
  }
 ],
 "metadata": {
  "kernelspec": {
   "display_name": "Python 3",
   "language": "python",
   "name": "python3"
  },
  "language_info": {
   "codemirror_mode": {
    "name": "ipython",
    "version": 3
   },
   "file_extension": ".py",
   "mimetype": "text/x-python",
   "name": "python",
   "nbconvert_exporter": "python",
   "pygments_lexer": "ipython3",
   "version": "3.7.0"
  }
 },
 "nbformat": 4,
 "nbformat_minor": 2
}
